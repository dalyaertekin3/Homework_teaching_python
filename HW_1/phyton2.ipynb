{
 "cells": [
  {
   "cell_type": "markdown",
   "metadata": {},
   "source": [
    "# EM Lyon - Python coding bootcamp - Session 2\n",
    "\n",
    "1. **Introduction**\n",
    "2. **Pandas data structures: Series and DataFrame**\n",
    "3. **Accessing to data**\n",
    "4. Data management and processing\n",
    "5. Data Visualisation\n",
    "6. Statistical analysis\n",
    "\n",
    "&#169; 2018 Yotta Conseil\n",
    "\n",
    "# 1. Introduction\n",
    "\n",
    "\n",
    "## 1.1 Presentation of the dataset\n",
    "\n",
    "This session uses the data available on the US Social Security web site: https://www.ssa.gov/oact/babynames/limits.html\n",
    "\n",
    "We will use the national dataset `names.zip`.\n",
    "\n",
    "### Read me provided by SSA:\n",
    "\n",
    "> For each year of birth YYYY after 1879, we created a comma-delimited file called yobYYYY.txt. Each record in the individual annual files has the format \"name,sex,number\", where name is 2 to 15 characters, sex is M (male) or F (female) and \"number\" is the number of occurrences of the name. Each file is sorted first on sex and then on number of occurrences in descending order. When there is a tie on the number of occurrences, names are listed in alphabetical order. (...)\n",
    "> To safeguard privacy, we restrict our list of names to those with at least 5 occurrences."
   ]
  },
  {
   "cell_type": "code",
   "execution_count": 8,
   "metadata": {},
   "outputs": [
    {
     "name": "stdout",
     "output_type": "stream",
     "text": [
      "/Users/dalyaertekin/Desktop\r\n"
     ]
    }
   ],
   "source": [
    "!pwd"
   ]
  },
  {
   "cell_type": "code",
   "execution_count": 9,
   "metadata": {},
   "outputs": [
    {
     "ename": "SyntaxError",
     "evalue": "invalid syntax (<ipython-input-9-852416a5f5df>, line 1)",
     "output_type": "error",
     "traceback": [
      "\u001b[0;36m  File \u001b[0;32m\"<ipython-input-9-852416a5f5df>\"\u001b[0;36m, line \u001b[0;32m1\u001b[0m\n\u001b[0;31m    import\u001b[0m\n\u001b[0m          ^\u001b[0m\n\u001b[0;31mSyntaxError\u001b[0m\u001b[0;31m:\u001b[0m invalid syntax\n"
     ]
    }
   ],
   "source": [
    "import\n",
    "ps.getcwd()"
   ]
  },
  {
   "cell_type": "markdown",
   "metadata": {},
   "source": [
    "## 1.2 Importing the necessary modules\n",
    "\n",
    "We will start by using the `pandas` module.\n",
    "\n",
    "We use the Python `import` statement followed by the name of the module. After being imported the name of the module is know in the Python environement and the user can access to any of its attributes by using the *dot* operator materialized by a point: `.`.\n",
    "\n",
    "Example, accessing to the version number of a Python module:\n",
    "```python\n",
    "import pandas\n",
    "print(pandas.__version__)\n",
    "```\n",
    "\n",
    "Python allows also to rename a module using the `as` keyword followed by another name, generally shorter than the original one."
   ]
  },
  {
   "cell_type": "code",
   "execution_count": 10,
   "metadata": {},
   "outputs": [
    {
     "name": "stdout",
     "output_type": "stream",
     "text": [
      "0.23.4\n"
     ]
    }
   ],
   "source": [
    "# import pandas and name the module 'pd'\n",
    "import pandas as pd\n",
    "print(pd.__version__)"
   ]
  },
  {
   "cell_type": "code",
   "execution_count": 7,
   "metadata": {},
   "outputs": [],
   "source": [
    "# pandas is unkown since it has been renamed as 'pd' when imported\n",
    "#pandas"
   ]
  },
  {
   "cell_type": "code",
   "execution_count": 14,
   "metadata": {},
   "outputs": [],
   "source": [
    "pd?"
   ]
  },
  {
   "cell_type": "markdown",
   "metadata": {},
   "source": [
    "<div class=\"alert alert-info\">\n",
    "<b>Tip</b>\n",
    "<ul>\n",
    "    <li>In Jupyter notebook, you can get an help by following any know symbol by using the question mark operator: `?`.</li>\n",
    "    <li>It opens a pop up window with a text written by developers and intended to help users.</li>\n",
    "</ul>\n",
    "</div>"
   ]
  },
  {
   "cell_type": "code",
   "execution_count": 11,
   "metadata": {},
   "outputs": [],
   "source": [
    "# display options\n",
    "pd.set_option(\"display.max_rows\", 16)\n",
    "pd.set_option(\"display.max_columns\", 30)"
   ]
  },
  {
   "cell_type": "markdown",
   "metadata": {},
   "source": [
    "## 1.3 Loading a single file\n",
    "\n",
    "`pandas` is equiped with the `read_csv()` function which enables to load CSV files.\n",
    "\n",
    "In order to understand how to use the `read_csv()` function, here again we can use the `?` operator."
   ]
  },
  {
   "cell_type": "code",
   "execution_count": 5,
   "metadata": {},
   "outputs": [
    {
     "name": "stdout",
     "output_type": "stream",
     "text": [
      "Object `pd.read_csv` not found.\n"
     ]
    }
   ],
   "source": [
    "pd.read_csv?"
   ]
  },
  {
   "cell_type": "markdown",
   "metadata": {},
   "source": [
    "Reading a file with `pandas` is performed with a single statement and the appropriate arguments:\n",
    "- file path\n",
    "- column names"
   ]
  },
  {
   "cell_type": "code",
   "execution_count": 15,
   "metadata": {},
   "outputs": [
    {
     "data": {
      "text/html": [
       "<div>\n",
       "<style scoped>\n",
       "    .dataframe tbody tr th:only-of-type {\n",
       "        vertical-align: middle;\n",
       "    }\n",
       "\n",
       "    .dataframe tbody tr th {\n",
       "        vertical-align: top;\n",
       "    }\n",
       "\n",
       "    .dataframe thead th {\n",
       "        text-align: right;\n",
       "    }\n",
       "</style>\n",
       "<table border=\"1\" class=\"dataframe\">\n",
       "  <thead>\n",
       "    <tr style=\"text-align: right;\">\n",
       "      <th></th>\n",
       "      <th>name</th>\n",
       "      <th>gender</th>\n",
       "      <th>births</th>\n",
       "    </tr>\n",
       "  </thead>\n",
       "  <tbody>\n",
       "    <tr>\n",
       "      <th>0</th>\n",
       "      <td>Emma</td>\n",
       "      <td>F</td>\n",
       "      <td>19738</td>\n",
       "    </tr>\n",
       "    <tr>\n",
       "      <th>1</th>\n",
       "      <td>Olivia</td>\n",
       "      <td>F</td>\n",
       "      <td>18632</td>\n",
       "    </tr>\n",
       "    <tr>\n",
       "      <th>2</th>\n",
       "      <td>Ava</td>\n",
       "      <td>F</td>\n",
       "      <td>15902</td>\n",
       "    </tr>\n",
       "    <tr>\n",
       "      <th>3</th>\n",
       "      <td>Isabella</td>\n",
       "      <td>F</td>\n",
       "      <td>15100</td>\n",
       "    </tr>\n",
       "    <tr>\n",
       "      <th>4</th>\n",
       "      <td>Sophia</td>\n",
       "      <td>F</td>\n",
       "      <td>14831</td>\n",
       "    </tr>\n",
       "    <tr>\n",
       "      <th>5</th>\n",
       "      <td>Mia</td>\n",
       "      <td>F</td>\n",
       "      <td>13437</td>\n",
       "    </tr>\n",
       "    <tr>\n",
       "      <th>6</th>\n",
       "      <td>Charlotte</td>\n",
       "      <td>F</td>\n",
       "      <td>12893</td>\n",
       "    </tr>\n",
       "    <tr>\n",
       "      <th>7</th>\n",
       "      <td>Amelia</td>\n",
       "      <td>F</td>\n",
       "      <td>11800</td>\n",
       "    </tr>\n",
       "    <tr>\n",
       "      <th>...</th>\n",
       "      <td>...</td>\n",
       "      <td>...</td>\n",
       "      <td>...</td>\n",
       "    </tr>\n",
       "    <tr>\n",
       "      <th>32461</th>\n",
       "      <td>Zyel</td>\n",
       "      <td>M</td>\n",
       "      <td>5</td>\n",
       "    </tr>\n",
       "    <tr>\n",
       "      <th>32462</th>\n",
       "      <td>Zyheem</td>\n",
       "      <td>M</td>\n",
       "      <td>5</td>\n",
       "    </tr>\n",
       "    <tr>\n",
       "      <th>32463</th>\n",
       "      <td>Zyhier</td>\n",
       "      <td>M</td>\n",
       "      <td>5</td>\n",
       "    </tr>\n",
       "    <tr>\n",
       "      <th>32464</th>\n",
       "      <td>Zykai</td>\n",
       "      <td>M</td>\n",
       "      <td>5</td>\n",
       "    </tr>\n",
       "    <tr>\n",
       "      <th>32465</th>\n",
       "      <td>Zykeem</td>\n",
       "      <td>M</td>\n",
       "      <td>5</td>\n",
       "    </tr>\n",
       "    <tr>\n",
       "      <th>32466</th>\n",
       "      <td>Zylin</td>\n",
       "      <td>M</td>\n",
       "      <td>5</td>\n",
       "    </tr>\n",
       "    <tr>\n",
       "      <th>32467</th>\n",
       "      <td>Zylis</td>\n",
       "      <td>M</td>\n",
       "      <td>5</td>\n",
       "    </tr>\n",
       "    <tr>\n",
       "      <th>32468</th>\n",
       "      <td>Zyrie</td>\n",
       "      <td>M</td>\n",
       "      <td>5</td>\n",
       "    </tr>\n",
       "  </tbody>\n",
       "</table>\n",
       "<p>32469 rows × 3 columns</p>\n",
       "</div>"
      ],
      "text/plain": [
       "            name gender  births\n",
       "0           Emma      F   19738\n",
       "1         Olivia      F   18632\n",
       "2            Ava      F   15902\n",
       "3       Isabella      F   15100\n",
       "4         Sophia      F   14831\n",
       "5            Mia      F   13437\n",
       "6      Charlotte      F   12893\n",
       "7         Amelia      F   11800\n",
       "...          ...    ...     ...\n",
       "32461       Zyel      M       5\n",
       "32462     Zyheem      M       5\n",
       "32463     Zyhier      M       5\n",
       "32464      Zykai      M       5\n",
       "32465     Zykeem      M       5\n",
       "32466      Zylin      M       5\n",
       "32467      Zylis      M       5\n",
       "32468      Zyrie      M       5\n",
       "\n",
       "[32469 rows x 3 columns]"
      ]
     },
     "execution_count": 15,
     "metadata": {},
     "output_type": "execute_result"
    }
   ],
   "source": [
    "# loading the 2017 file\n",
    "df2017 = pd.read_csv('names/yob2017.txt', names=['name', 'gender', 'births'])\n",
    "df2017"
   ]
  },
  {
   "cell_type": "markdown",
   "metadata": {},
   "source": [
    "The result is a `DataFrame` object which is assigned to a variable. It denotes the object which has been assigned to it. This \n",
    "`DataFrame` object has 32.469 rows and 3 columns.\n",
    "\n",
    "There are many other functions which aim is to import data according to different formats. One can type `pd.read` and  then press the `Tab` key. Jupyter displays a list of available functions starting with `read`. One can select the appropriate function by using the up and down arrows. Press `Esc` to exit the list."
   ]
  },
  {
   "cell_type": "code",
   "execution_count": 25,
   "metadata": {},
   "outputs": [
    {
     "data": {
      "text/plain": [
       "<function pandas.io.clipboards.read_clipboard(sep='\\\\s+', **kwargs)>"
      ]
     },
     "execution_count": 25,
     "metadata": {},
     "output_type": "execute_result"
    }
   ],
   "source": [
    "pd.read_clipboard # press Tab key and Esc to exit from the list"
   ]
  },
  {
   "cell_type": "markdown",
   "metadata": {},
   "source": [
    "function | usage\n",
    "-|-\n",
    "read_clipboard | read data from memory\n",
    "read_csv | read data from a CSV file (Comma-Separated Value)\n",
    "read_excel | read data from an Excel workbook\n",
    "read_html | read data from an HTML file (search for < table > tags)\n",
    "read_json | read data from a JSON file (JavaScript Object Notation)\n",
    "read_sql | read data from an SQL query\n",
    "read_sas | read data from a SAS file\n",
    "read_table | read data from a tabular file"
   ]
  },
  {
   "cell_type": "markdown",
   "metadata": {},
   "source": [
    "All of these functions contains a large number of options - through keywords arguments with default values - and which enable to adapt the behavior of the function to the real data to be processed.\n",
    "\n",
    "<div class=\"alert alert-warning\">\n",
    "**Further reading**\n",
    "<ul>\n",
    "    <li>For most of `read_xxx()` functions, a `to_xxx()` functions exist and export the `DataFrame` object to the appropriate format, see: http://pandas.pydata.org/pandas-docs/stable/io.html</li>\n",
    "</ul>\n",
    "</div>"
   ]
  },
  {
   "cell_type": "markdown",
   "metadata": {},
   "source": [
    "## 1.4 Loading all files\n",
    "\n",
    "We are going to import all data from all files and not a single one.\n",
    "\n",
    "This is done with a small script that is out of scope for the moment. It has to loop on all files in order to build a large `DataFrame`which includes a fourth column with each year.\n",
    "\n",
    "We are only interessed in the result of the script."
   ]
  },
  {
   "cell_type": "code",
   "execution_count": 19,
   "metadata": {},
   "outputs": [],
   "source": [
    "# Import all data in a single DataFrame\n",
    "\n",
    "\n",
    "\n",
    "if False:   \n",
    "    df = pd.read_pickle(\"names.dat\") # load it from pickle format\n",
    "\n",
    "else:\n",
    "    import os # Python module which implements the listdir() function\n",
    "    df = pd.DataFrame() # global DataFrame in which all data will be put\n",
    "    path = 'names' # folder with files to be processed\n",
    "\n",
    "    for filename in os.listdir(path): # loop on all files in the folder\n",
    "        if filename[-3:] != 'txt': # check whether the file is to be processed or not #mesela folderin icinde alakasiz bi\n",
    "            #pdf dosyası var, onu cıkarmak ıcın son 3 harfi txt olmayan seyleri cıkar yapıyosun\n",
    "            continue\n",
    "        year = int(filename[3:7]) # extract year from file name\n",
    "        csv = pd.read_csv(os.path.join(path, filename), names=['name', 'gender', 'births']) # load the file as a new DataFrame\n",
    "        csv['year'] = year # add a column with the year to the new DataFrame\n",
    "        df = df.append(csv, ignore_index=True) # append the new DataFrame to the global one\n",
    "\n",
    "    df = df[['year', 'name', 'gender', 'births']] # reorder columns of the global DataFrame\n",
    "    df.to_pickle(\"names.dat\") # save it to pickle format"
   ]
  },
  {
   "cell_type": "markdown",
   "metadata": {},
   "source": [
    "<div class=\"alert alert-info\">\n",
    "<b>Tip</b>\n",
    "<ul>\n",
    "    <li>The `pickle` module of `Python` implements binary protocols for serializing and de-serializing a Python object structure, see: https://docs.python.org/3.6/library/pickle.html.</li>\n",
    "    <li>The `pandas` module implements `to_pickle()` and `read_pickle()` for `Series`and `DataFrame` objects</li>\n",
    "    <li>When the import and transformation of a large dataset is time consuming, it is convenient to serialize the `DataFrame` so as to reload it quickly.</li>\n",
    "    <li>`WARNING`: The serialization of such objects is mostly dependent of the version of `pandas`, and objects serialized using a version might not be loadable again from another version.</li>\n",
    "</ul>\n",
    "</div>"
   ]
  },
  {
   "cell_type": "code",
   "execution_count": 20,
   "metadata": {},
   "outputs": [
    {
     "data": {
      "text/html": [
       "<div>\n",
       "<style scoped>\n",
       "    .dataframe tbody tr th:only-of-type {\n",
       "        vertical-align: middle;\n",
       "    }\n",
       "\n",
       "    .dataframe tbody tr th {\n",
       "        vertical-align: top;\n",
       "    }\n",
       "\n",
       "    .dataframe thead th {\n",
       "        text-align: right;\n",
       "    }\n",
       "</style>\n",
       "<table border=\"1\" class=\"dataframe\">\n",
       "  <thead>\n",
       "    <tr style=\"text-align: right;\">\n",
       "      <th></th>\n",
       "      <th>year</th>\n",
       "      <th>name</th>\n",
       "      <th>gender</th>\n",
       "      <th>births</th>\n",
       "    </tr>\n",
       "  </thead>\n",
       "  <tbody>\n",
       "    <tr>\n",
       "      <th>0</th>\n",
       "      <td>1880</td>\n",
       "      <td>Mary</td>\n",
       "      <td>F</td>\n",
       "      <td>7065</td>\n",
       "    </tr>\n",
       "    <tr>\n",
       "      <th>1</th>\n",
       "      <td>1880</td>\n",
       "      <td>Anna</td>\n",
       "      <td>F</td>\n",
       "      <td>2604</td>\n",
       "    </tr>\n",
       "    <tr>\n",
       "      <th>2</th>\n",
       "      <td>1880</td>\n",
       "      <td>Emma</td>\n",
       "      <td>F</td>\n",
       "      <td>2003</td>\n",
       "    </tr>\n",
       "    <tr>\n",
       "      <th>3</th>\n",
       "      <td>1880</td>\n",
       "      <td>Elizabeth</td>\n",
       "      <td>F</td>\n",
       "      <td>1939</td>\n",
       "    </tr>\n",
       "    <tr>\n",
       "      <th>4</th>\n",
       "      <td>1880</td>\n",
       "      <td>Minnie</td>\n",
       "      <td>F</td>\n",
       "      <td>1746</td>\n",
       "    </tr>\n",
       "    <tr>\n",
       "      <th>5</th>\n",
       "      <td>1880</td>\n",
       "      <td>Margaret</td>\n",
       "      <td>F</td>\n",
       "      <td>1578</td>\n",
       "    </tr>\n",
       "    <tr>\n",
       "      <th>6</th>\n",
       "      <td>1880</td>\n",
       "      <td>Ida</td>\n",
       "      <td>F</td>\n",
       "      <td>1472</td>\n",
       "    </tr>\n",
       "    <tr>\n",
       "      <th>7</th>\n",
       "      <td>1880</td>\n",
       "      <td>Alice</td>\n",
       "      <td>F</td>\n",
       "      <td>1414</td>\n",
       "    </tr>\n",
       "    <tr>\n",
       "      <th>...</th>\n",
       "      <td>...</td>\n",
       "      <td>...</td>\n",
       "      <td>...</td>\n",
       "      <td>...</td>\n",
       "    </tr>\n",
       "    <tr>\n",
       "      <th>1924657</th>\n",
       "      <td>2017</td>\n",
       "      <td>Zyel</td>\n",
       "      <td>M</td>\n",
       "      <td>5</td>\n",
       "    </tr>\n",
       "    <tr>\n",
       "      <th>1924658</th>\n",
       "      <td>2017</td>\n",
       "      <td>Zyheem</td>\n",
       "      <td>M</td>\n",
       "      <td>5</td>\n",
       "    </tr>\n",
       "    <tr>\n",
       "      <th>1924659</th>\n",
       "      <td>2017</td>\n",
       "      <td>Zyhier</td>\n",
       "      <td>M</td>\n",
       "      <td>5</td>\n",
       "    </tr>\n",
       "    <tr>\n",
       "      <th>1924660</th>\n",
       "      <td>2017</td>\n",
       "      <td>Zykai</td>\n",
       "      <td>M</td>\n",
       "      <td>5</td>\n",
       "    </tr>\n",
       "    <tr>\n",
       "      <th>1924661</th>\n",
       "      <td>2017</td>\n",
       "      <td>Zykeem</td>\n",
       "      <td>M</td>\n",
       "      <td>5</td>\n",
       "    </tr>\n",
       "    <tr>\n",
       "      <th>1924662</th>\n",
       "      <td>2017</td>\n",
       "      <td>Zylin</td>\n",
       "      <td>M</td>\n",
       "      <td>5</td>\n",
       "    </tr>\n",
       "    <tr>\n",
       "      <th>1924663</th>\n",
       "      <td>2017</td>\n",
       "      <td>Zylis</td>\n",
       "      <td>M</td>\n",
       "      <td>5</td>\n",
       "    </tr>\n",
       "    <tr>\n",
       "      <th>1924664</th>\n",
       "      <td>2017</td>\n",
       "      <td>Zyrie</td>\n",
       "      <td>M</td>\n",
       "      <td>5</td>\n",
       "    </tr>\n",
       "  </tbody>\n",
       "</table>\n",
       "<p>1924665 rows × 4 columns</p>\n",
       "</div>"
      ],
      "text/plain": [
       "         year       name gender  births\n",
       "0        1880       Mary      F    7065\n",
       "1        1880       Anna      F    2604\n",
       "2        1880       Emma      F    2003\n",
       "3        1880  Elizabeth      F    1939\n",
       "4        1880     Minnie      F    1746\n",
       "5        1880   Margaret      F    1578\n",
       "6        1880        Ida      F    1472\n",
       "7        1880      Alice      F    1414\n",
       "...       ...        ...    ...     ...\n",
       "1924657  2017       Zyel      M       5\n",
       "1924658  2017     Zyheem      M       5\n",
       "1924659  2017     Zyhier      M       5\n",
       "1924660  2017      Zykai      M       5\n",
       "1924661  2017     Zykeem      M       5\n",
       "1924662  2017      Zylin      M       5\n",
       "1924663  2017      Zylis      M       5\n",
       "1924664  2017      Zyrie      M       5\n",
       "\n",
       "[1924665 rows x 4 columns]"
      ]
     },
     "execution_count": 20,
     "metadata": {},
     "output_type": "execute_result"
    }
   ],
   "source": [
    "# the whole data\n",
    "df"
   ]
  },
  {
   "cell_type": "markdown",
   "metadata": {},
   "source": [
    "The result is a large `DataFrame` with 1.924.665 rows and 4 columns. One can access to each column individually which is called a `Series`."
   ]
  },
  {
   "cell_type": "markdown",
   "metadata": {},
   "source": [
    "# 2. Pandas data structures: Series and DataFrame\n",
    "\n",
    "The `panda` name comes from `PAN`(el) + `DA`(taframe) + `S`(eries) where panels, dataframes and series are the 3-D, 2-D and 1-D objects. Panels have been removed from the library and are now replaced by multi-index dataframes.\n",
    "\n",
    "## 2.1 Series, 1-D objects\n",
    "\n",
    "One can access to each column of a `DataFrame` using the square bracket operator `[]` and the label of the column.\n",
    "\n",
    "The obtained object is an instance of Series. it is a 1 dimensionnal structure along with an index.\n",
    "\n",
    "This `Pandas` class relies on the `Numpy.ndarray` structure. All methods available for `ndarray` are more or less available for `Series`.\n",
    "\n",
    "The `Series` object holds an index that is identical to the one of the `DataFrame`. It has a name that is the label of the column of the `DataFrame` object. In fact, it is a view of the `DataFrame`: all modificatons on the `Series` object will be reported on the `DataFrame` object.\n",
    "\n",
    "### 2.1.1 Common Series attributes\n",
    "\n",
    "attribute|result\n",
    "-|-\n",
    "s.name|name of s\n",
    "s.values|values of s\n",
    "s.index|index of s\n",
    "s.shape|dimension of s\n",
    "s.size|number of elements of s\n",
    "s.dtype|type of elements of s\n",
    "s.empty|True if s is empty, False otherwise"
   ]
  },
  {
   "cell_type": "code",
   "execution_count": 26,
   "metadata": {},
   "outputs": [
    {
     "data": {
      "text/plain": [
       "0               Mary\n",
       "1               Anna\n",
       "2               Emma\n",
       "3          Elizabeth\n",
       "4             Minnie\n",
       "5           Margaret\n",
       "6                Ida\n",
       "7              Alice\n",
       "             ...    \n",
       "1924657         Zyel\n",
       "1924658       Zyheem\n",
       "1924659       Zyhier\n",
       "1924660        Zykai\n",
       "1924661       Zykeem\n",
       "1924662        Zylin\n",
       "1924663        Zylis\n",
       "1924664        Zyrie\n",
       "Name: name, Length: 1924665, dtype: object"
      ]
     },
     "execution_count": 26,
     "metadata": {},
     "output_type": "execute_result"
    }
   ],
   "source": [
    "# Series from the 'name' column\n",
    "s = df[\"name\"]\n",
    "s"
   ]
  },
  {
   "cell_type": "code",
   "execution_count": 23,
   "metadata": {},
   "outputs": [
    {
     "data": {
      "text/plain": [
       "pandas.core.series.Series"
      ]
     },
     "execution_count": 23,
     "metadata": {},
     "output_type": "execute_result"
    }
   ],
   "source": [
    "# type of object s\n",
    "type(s)"
   ]
  },
  {
   "cell_type": "code",
   "execution_count": 24,
   "metadata": {},
   "outputs": [
    {
     "data": {
      "text/plain": [
       "'name'"
      ]
     },
     "execution_count": 24,
     "metadata": {},
     "output_type": "execute_result"
    }
   ],
   "source": [
    "# 'name' attribute of s is the label of the column\n",
    "s.name"
   ]
  },
  {
   "cell_type": "code",
   "execution_count": 20,
   "metadata": {},
   "outputs": [
    {
     "data": {
      "text/plain": [
       "array(['Mary', 'Anna', 'Emma', ..., 'Zylin', 'Zylis', 'Zyrie'],\n",
       "      dtype=object)"
      ]
     },
     "execution_count": 20,
     "metadata": {},
     "output_type": "execute_result"
    }
   ],
   "source": [
    "# 'values' attribute of s\n",
    "# it is a 1-D numpy ndarray\n",
    "s.values"
   ]
  },
  {
   "cell_type": "code",
   "execution_count": 21,
   "metadata": {},
   "outputs": [
    {
     "data": {
      "text/plain": [
       "numpy.ndarray"
      ]
     },
     "execution_count": 21,
     "metadata": {},
     "output_type": "execute_result"
    }
   ],
   "source": [
    "type(s.values)"
   ]
  },
  {
   "cell_type": "code",
   "execution_count": 22,
   "metadata": {},
   "outputs": [
    {
     "data": {
      "text/plain": [
       "RangeIndex(start=0, stop=1924665, step=1)"
      ]
     },
     "execution_count": 22,
     "metadata": {},
     "output_type": "execute_result"
    }
   ],
   "source": [
    "# 'index' attribute of s\n",
    "# cf. range type of Python\n",
    "s.index"
   ]
  },
  {
   "cell_type": "code",
   "execution_count": 23,
   "metadata": {},
   "outputs": [
    {
     "data": {
      "text/plain": [
       "(1924665,)"
      ]
     },
     "execution_count": 23,
     "metadata": {},
     "output_type": "execute_result"
    }
   ],
   "source": [
    "# 'shape' attribute of s\n",
    "s.shape"
   ]
  },
  {
   "cell_type": "code",
   "execution_count": 24,
   "metadata": {},
   "outputs": [
    {
     "data": {
      "text/plain": [
       "1924665"
      ]
     },
     "execution_count": 24,
     "metadata": {},
     "output_type": "execute_result"
    }
   ],
   "source": [
    "# 'size' attribute of s\n",
    "s.size"
   ]
  },
  {
   "cell_type": "code",
   "execution_count": 25,
   "metadata": {},
   "outputs": [
    {
     "data": {
      "text/plain": [
       "dtype('O')"
      ]
     },
     "execution_count": 25,
     "metadata": {},
     "output_type": "execute_result"
    }
   ],
   "source": [
    "# 'dtype' attribute of s\n",
    "s.dtype"
   ]
  },
  {
   "cell_type": "markdown",
   "metadata": {},
   "source": [
    "### 2.1.2 Common Series methods\n",
    "\n",
    "`Series` objects have several common methods:\n",
    "\n",
    "method|result\n",
    "-|-\n",
    "s.head()|first elements of s\n",
    "s.tail()|last elements of s\n",
    "s.nunique()|number of unique elements of s\n",
    "s.value_counts()|number of occurrences of unique elements of s\n",
    "s.unique()|ndarray with unique elements of s\n",
    "\n",
    "The `Series` class defines 325 attributes or methods in the `pandas` module."
   ]
  },
  {
   "cell_type": "code",
   "execution_count": 13,
   "metadata": {},
   "outputs": [
    {
     "ename": "NameError",
     "evalue": "name 's' is not defined",
     "output_type": "error",
     "traceback": [
      "\u001b[0;31m---------------------------------------------------------------------------\u001b[0m",
      "\u001b[0;31mNameError\u001b[0m                                 Traceback (most recent call last)",
      "\u001b[0;32m<ipython-input-13-a345bb2afbd7>\u001b[0m in \u001b[0;36m<module>\u001b[0;34m()\u001b[0m\n\u001b[1;32m      1\u001b[0m \u001b[0;31m# first elements, by default 5\u001b[0m\u001b[0;34m\u001b[0m\u001b[0;34m\u001b[0m\u001b[0m\n\u001b[0;32m----> 2\u001b[0;31m \u001b[0ms\u001b[0m\u001b[0;34m.\u001b[0m\u001b[0mhead\u001b[0m\u001b[0;34m(\u001b[0m\u001b[0;34m)\u001b[0m\u001b[0;34m\u001b[0m\u001b[0m\n\u001b[0m",
      "\u001b[0;31mNameError\u001b[0m: name 's' is not defined"
     ]
    }
   ],
   "source": [
    "# first elements, by default 5\n",
    "s.head()"
   ]
  },
  {
   "cell_type": "code",
   "execution_count": 30,
   "metadata": {},
   "outputs": [
    {
     "data": {
      "text/plain": [
       "0          Mary\n",
       "1          Anna\n",
       "2          Emma\n",
       "3     Elizabeth\n",
       "4        Minnie\n",
       "5      Margaret\n",
       "6           Ida\n",
       "7         Alice\n",
       "        ...    \n",
       "92         Ruth\n",
       "93        Viola\n",
       "94        Olive\n",
       "95       Amelia\n",
       "96       Hannah\n",
       "97         Jane\n",
       "98     Virginia\n",
       "99        Emily\n",
       "Name: name, Length: 100, dtype: object"
      ]
     },
     "execution_count": 30,
     "metadata": {},
     "output_type": "execute_result"
    }
   ],
   "source": [
    "s.head(100)"
   ]
  },
  {
   "cell_type": "code",
   "execution_count": 27,
   "metadata": {},
   "outputs": [
    {
     "data": {
      "text/plain": [
       "1924662    Zylin\n",
       "1924663    Zylis\n",
       "1924664    Zyrie\n",
       "Name: name, dtype: object"
      ]
     },
     "execution_count": 27,
     "metadata": {},
     "output_type": "execute_result"
    }
   ],
   "source": [
    "# last elements, by default 5\n",
    "s.tail(3)"
   ]
  },
  {
   "cell_type": "code",
   "execution_count": 31,
   "metadata": {},
   "outputs": [
    {
     "data": {
      "text/plain": [
       "97310"
      ]
     },
     "execution_count": 31,
     "metadata": {},
     "output_type": "execute_result"
    }
   ],
   "source": [
    "# number of unique values\n",
    "s.nunique()"
   ]
  },
  {
   "cell_type": "code",
   "execution_count": 32,
   "metadata": {},
   "outputs": [
    {
     "data": {
      "text/plain": [
       "2"
      ]
     },
     "execution_count": 32,
     "metadata": {},
     "output_type": "execute_result"
    }
   ],
   "source": [
    "# number of unique values\n",
    "df['gender'].nunique()"
   ]
  },
  {
   "cell_type": "code",
   "execution_count": 33,
   "metadata": {},
   "outputs": [
    {
     "data": {
      "text/plain": [
       "138"
      ]
     },
     "execution_count": 33,
     "metadata": {},
     "output_type": "execute_result"
    }
   ],
   "source": [
    "# number of unique values\n",
    "df['year'].nunique()"
   ]
  },
  {
   "cell_type": "code",
   "execution_count": 34,
   "metadata": {},
   "outputs": [
    {
     "data": {
      "text/plain": [
       "5        268536\n",
       "6        191470\n",
       "7        144621\n",
       "8        114284\n",
       "9         92284\n",
       "10        76927\n",
       "11        64677\n",
       "12        55832\n",
       "          ...  \n",
       "5590          1\n",
       "7639          1\n",
       "10704         1\n",
       "52116         1\n",
       "13779         1\n",
       "33222         1\n",
       "7054          1\n",
       "10736         1\n",
       "Name: births, Length: 13691, dtype: int64"
      ]
     },
     "execution_count": 34,
     "metadata": {},
     "output_type": "execute_result"
    }
   ],
   "source": [
    "# value counts\n",
    "df['births'].value_counts()"
   ]
  },
  {
   "cell_type": "markdown",
   "metadata": {},
   "source": [
    "**Observation**\n",
    "\n",
    "The object returned by the `value_counts()` method is also a `Series` object. In `pandas`, many operations on a `Series` or  a `DataFrame` object return another `Series` or `DataFrame` object.\n",
    "\n",
    "The `Series` object is organized so that the values are sorted in the reverse order."
   ]
  },
  {
   "cell_type": "code",
   "execution_count": 35,
   "metadata": {},
   "outputs": [
    {
     "data": {
      "text/plain": [
       "pandas.core.series.Series"
      ]
     },
     "execution_count": 35,
     "metadata": {},
     "output_type": "execute_result"
    }
   ],
   "source": [
    "# value counts\n",
    "s2 = df['births'].value_counts()\n",
    "type(s2)"
   ]
  },
  {
   "cell_type": "code",
   "execution_count": 36,
   "metadata": {},
   "outputs": [
    {
     "data": {
      "text/plain": [
       "Int64Index([    5,     6,     7,     8,     9,    10,    11,    12,    13,\n",
       "               14,\n",
       "            ...\n",
       "            15827, 56214,  5590,  7639, 10704, 52116, 13779, 33222,  7054,\n",
       "            10736],\n",
       "           dtype='int64', length=13691)"
      ]
     },
     "execution_count": 36,
     "metadata": {},
     "output_type": "execute_result"
    }
   ],
   "source": [
    "# 'index' attribute of s2 #birthden gelen index\n",
    "s2.index"
   ]
  },
  {
   "cell_type": "code",
   "execution_count": 37,
   "metadata": {},
   "outputs": [
    {
     "data": {
      "text/plain": [
       "5"
      ]
     },
     "execution_count": 37,
     "metadata": {},
     "output_type": "execute_result"
    }
   ],
   "source": [
    "s2.index[0]"
   ]
  },
  {
   "cell_type": "code",
   "execution_count": null,
   "metadata": {},
   "outputs": [],
   "source": [
    "# to get the most frequent value\n",
    "s2.index[0]"
   ]
  },
  {
   "cell_type": "code",
   "execution_count": null,
   "metadata": {},
   "outputs": [],
   "source": [
    "# 'values' attribute of s2\n",
    "s2.values"
   ]
  },
  {
   "cell_type": "code",
   "execution_count": null,
   "metadata": {},
   "outputs": [],
   "source": [
    "# to get the count of the most frequent value\n",
    "s2.values[0]"
   ]
  },
  {
   "cell_type": "markdown",
   "metadata": {},
   "source": [
    "<div class=\"alert alert-success\">\n",
    "**Exercise 1**\n",
    "<ul>\n",
    "<li>What is the value counts of genders. How can we interpret the result?</li>\n",
    "<li>What are the top 16 value counts of names. How can we interpret the result?</li>\n",
    "<li>What are the 10 years for which we have the most distinct names + gender? What is the finding?</li>\n",
    "</ul>\n",
    "</div>"
   ]
  },
  {
   "cell_type": "code",
   "execution_count": 27,
   "metadata": {},
   "outputs": [
    {
     "data": {
      "text/plain": [
       "F    1138293\n",
       "M     786372\n",
       "Name: gender, dtype: int64"
      ]
     },
     "execution_count": 27,
     "metadata": {},
     "output_type": "execute_result"
    }
   ],
   "source": [
    "df['gender'].value_counts()"
   ]
  },
  {
   "cell_type": "code",
   "execution_count": 42,
   "metadata": {},
   "outputs": [
    {
     "data": {
      "text/plain": [
       "Jesse        276\n",
       "Leslie       276\n",
       "Jean         276\n",
       "James        276\n",
       "John         276\n",
       "William      276\n",
       "Jessie       276\n",
       "Francis      276\n",
       "            ... \n",
       "Arlane         1\n",
       "Chariese       1\n",
       "Taniayah       1\n",
       "Phawn          1\n",
       "Saral          1\n",
       "Rosisela       1\n",
       "Ashleyrae      1\n",
       "Mancie         1\n",
       "Name: name, Length: 97310, dtype: int64"
      ]
     },
     "execution_count": 42,
     "metadata": {},
     "output_type": "execute_result"
    }
   ],
   "source": [
    "df['name'].value_counts()"
   ]
  },
  {
   "cell_type": "code",
   "execution_count": 43,
   "metadata": {},
   "outputs": [
    {
     "data": {
      "text/plain": [
       "Jesse      276\n",
       "Leslie     276\n",
       "Jean       276\n",
       "James      276\n",
       "John       276\n",
       "William    276\n",
       "Jessie     276\n",
       "Francis    276\n",
       "Tommie     276\n",
       "Marion     276\n",
       "Lee        276\n",
       "Johnnie    276\n",
       "Joseph     276\n",
       "Ollie      276\n",
       "Sidney     276\n",
       "Charlie    275\n",
       "Name: name, dtype: int64"
      ]
     },
     "execution_count": 43,
     "metadata": {},
     "output_type": "execute_result"
    }
   ],
   "source": [
    "df['name'].value_counts().head(16)"
   ]
  },
  {
   "cell_type": "code",
   "execution_count": null,
   "metadata": {},
   "outputs": [],
   "source": [
    "# %load session2/ex_01.py"
   ]
  },
  {
   "cell_type": "code",
   "execution_count": null,
   "metadata": {},
   "outputs": [],
   "source": [
    "df['year'].value_counts().head(10)"
   ]
  },
  {
   "cell_type": "markdown",
   "metadata": {},
   "source": [
    "### 2.1.3 Vectorial operations with Series\n",
    "\n",
    "All vectorial operations for `numpy.ndarray` are available for `Series` objects:\n",
    "\n",
    "- logical:\n",
    "    - between 2 `Series` objects: `&` (AND), `|` (OR), `~` (NOT)\n",
    "    - within values of a single `Series` object: `any()` (OR), `all()` (AND)\n",
    "- usual mathematical functions: e.g.,  `abs()`, `sqrt()`, `sign()`, `floor()`, `rint()`\n",
    "- advanced mathematical functions: e.g., trigonometric, logarithm, exponential\n",
    "- vectorial computation with a scalar value, a list of values with the `isin()` method, or another `Series` object\n",
    "- comparison with a scalar value or another `Series` object\n",
    "- usual statistical functions: e.g., `sum()`, `min()`, `max()`, `mean()`, `median()`, `std()`, `var()`, `cumsum()`, `cumprod()`, `cummin()`, `cummax()`, `idxmin()`, `idxmax()`"
   ]
  },
  {
   "cell_type": "code",
   "execution_count": null,
   "metadata": {},
   "outputs": [],
   "source": []
  },
  {
   "cell_type": "code",
   "execution_count": 28,
   "metadata": {},
   "outputs": [
    {
     "data": {
      "text/plain": [
       "0          7065\n",
       "1          2604\n",
       "2          2003\n",
       "3          1939\n",
       "4          1746\n",
       "5          1578\n",
       "6          1472\n",
       "7          1414\n",
       "           ... \n",
       "1924657       5\n",
       "1924658       5\n",
       "1924659       5\n",
       "1924660       5\n",
       "1924661       5\n",
       "1924662       5\n",
       "1924663       5\n",
       "1924664       5\n",
       "Name: births, Length: 1924665, dtype: int64"
      ]
     },
     "execution_count": 28,
     "metadata": {},
     "output_type": "execute_result"
    }
   ],
   "source": [
    "# series of births\n",
    "s = df[\"births\"]\n",
    "s"
   ]
  },
  {
   "cell_type": "code",
   "execution_count": 29,
   "metadata": {},
   "outputs": [
    {
     "data": {
      "text/plain": [
       "348120517"
      ]
     },
     "execution_count": 29,
     "metadata": {},
     "output_type": "execute_result"
    }
   ],
   "source": [
    "# sum of s\n",
    "s.sum()"
   ]
  },
  {
   "cell_type": "code",
   "execution_count": 30,
   "metadata": {},
   "outputs": [
    {
     "data": {
      "text/plain": [
       "5"
      ]
     },
     "execution_count": 30,
     "metadata": {},
     "output_type": "execute_result"
    }
   ],
   "source": [
    "# min of s\n",
    "s.min()"
   ]
  },
  {
   "cell_type": "code",
   "execution_count": 31,
   "metadata": {},
   "outputs": [
    {
     "data": {
      "text/plain": [
       "99686"
      ]
     },
     "execution_count": 31,
     "metadata": {},
     "output_type": "execute_result"
    }
   ],
   "source": [
    "# max of s\n",
    "s.max()"
   ]
  },
  {
   "cell_type": "code",
   "execution_count": 32,
   "metadata": {},
   "outputs": [
    {
     "data": {
      "text/plain": [
       "0          21195\n",
       "1           7812\n",
       "2           6009\n",
       "3           5817\n",
       "4           5238\n",
       "5           4734\n",
       "6           4416\n",
       "7           4242\n",
       "           ...  \n",
       "1924657       15\n",
       "1924658       15\n",
       "1924659       15\n",
       "1924660       15\n",
       "1924661       15\n",
       "1924662       15\n",
       "1924663       15\n",
       "1924664       15\n",
       "Name: births, Length: 1924665, dtype: int64"
      ]
     },
     "execution_count": 32,
     "metadata": {},
     "output_type": "execute_result"
    }
   ],
   "source": [
    "# s times 3\n",
    "s * 3"
   ]
  },
  {
   "cell_type": "code",
   "execution_count": 33,
   "metadata": {},
   "outputs": [
    {
     "data": {
      "text/plain": [
       "0          False\n",
       "1          False\n",
       "2          False\n",
       "3          False\n",
       "4          False\n",
       "5          False\n",
       "6          False\n",
       "7          False\n",
       "           ...  \n",
       "1924657     True\n",
       "1924658     True\n",
       "1924659     True\n",
       "1924660     True\n",
       "1924661     True\n",
       "1924662     True\n",
       "1924663     True\n",
       "1924664     True\n",
       "Name: births, Length: 1924665, dtype: bool"
      ]
     },
     "execution_count": 33,
     "metadata": {},
     "output_type": "execute_result"
    }
   ],
   "source": [
    "# s equals 5\n",
    "s == 5"
   ]
  },
  {
   "cell_type": "code",
   "execution_count": 34,
   "metadata": {},
   "outputs": [
    {
     "data": {
      "text/plain": [
       "0          False\n",
       "1          False\n",
       "2          False\n",
       "3          False\n",
       "4          False\n",
       "5          False\n",
       "6          False\n",
       "7          False\n",
       "           ...  \n",
       "1924657     True\n",
       "1924658     True\n",
       "1924659     True\n",
       "1924660     True\n",
       "1924661     True\n",
       "1924662     True\n",
       "1924663     True\n",
       "1924664     True\n",
       "Name: births, Length: 1924665, dtype: bool"
      ]
     },
     "execution_count": 34,
     "metadata": {},
     "output_type": "execute_result"
    }
   ],
   "source": [
    "# s is in [0, 1, 2, 3, 4, 5, 6, 7, 8, 9]?\n",
    "s.isin(list(range(10)))"
   ]
  },
  {
   "cell_type": "code",
   "execution_count": 35,
   "metadata": {},
   "outputs": [
    {
     "data": {
      "text/plain": [
       "True"
      ]
     },
     "execution_count": 35,
     "metadata": {},
     "output_type": "execute_result"
    }
   ],
   "source": [
    "# are they rows in which number of births equal year?\n",
    "(s == df[\"year\"]).any()"
   ]
  },
  {
   "cell_type": "code",
   "execution_count": 36,
   "metadata": {},
   "outputs": [
    {
     "data": {
      "text/plain": [
       "0               7065\n",
       "1               9669\n",
       "2              11672\n",
       "3              13611\n",
       "4              15357\n",
       "5              16935\n",
       "6              18407\n",
       "7              19821\n",
       "             ...    \n",
       "1924657    348120482\n",
       "1924658    348120487\n",
       "1924659    348120492\n",
       "1924660    348120497\n",
       "1924661    348120502\n",
       "1924662    348120507\n",
       "1924663    348120512\n",
       "1924664    348120517\n",
       "Name: births, Length: 1924665, dtype: int64"
      ]
     },
     "execution_count": 36,
     "metadata": {},
     "output_type": "execute_result"
    }
   ],
   "source": [
    "# cumsum of s\n",
    "s.cumsum()"
   ]
  },
  {
   "cell_type": "code",
   "execution_count": 37,
   "metadata": {},
   "outputs": [
    {
     "data": {
      "text/plain": [
       "0                         7065\n",
       "1                     18397260\n",
       "2                  36849711780\n",
       "3               71451591141420\n",
       "4           124754478132919320\n",
       "5         -6051618317058380816\n",
       "6          1795224891776869376\n",
       "7         -7202685199424825344\n",
       "                  ...         \n",
       "1924657                      0\n",
       "1924658                      0\n",
       "1924659                      0\n",
       "1924660                      0\n",
       "1924661                      0\n",
       "1924662                      0\n",
       "1924663                      0\n",
       "1924664                      0\n",
       "Name: births, Length: 1924665, dtype: int64"
      ]
     },
     "execution_count": 37,
     "metadata": {},
     "output_type": "execute_result"
    }
   ],
   "source": [
    "# cumprod of s\n",
    "# warning to the limited integer representation in the underlying numpy, coded on 64 bits\n",
    "s.cumprod()"
   ]
  },
  {
   "cell_type": "markdown",
   "metadata": {},
   "source": [
    "<div class=\"alert alert-warning\">\n",
    "<b>Further reading</b>\n",
    "<ul>\n",
    "    <li>Floating Point Arithmetic: Issues and Limitations.</li>\n",
    "    <li>To better understand the limit of floating point representation, see: https://docs.python.org/3.6/tutorial/floatingpoint.html</li>\n",
    "</ul>\n",
    "</div>"
   ]
  },
  {
   "cell_type": "markdown",
   "metadata": {},
   "source": [
    "### 2.1.4 Operations on Series objects containing strings\n",
    "\n",
    "The `str` operator enables to deal with `Series` objects holding strings in order to get a new `Series` object.\n",
    "\n",
    "Thanks to the `str` operator, most of Python functions dedicated to strings are available for `Series` object holding strings: `len()`, `startswith()`, `contains()`, `endswith()`, `split()`, `lower()`, `upper()`, `capitalize()`, `title()`, ...\n",
    "\n",
    "These methods return a new `Series` object containing the result of the function applied to each element."
   ]
  },
  {
   "cell_type": "code",
   "execution_count": null,
   "metadata": {},
   "outputs": [],
   "source": [
    "# length of 5 first names\n",
    "df[\"name\"].str.len().head()"
   ]
  },
  {
   "cell_type": "markdown",
   "metadata": {},
   "source": [
    "**Observation**: starting with head() would have been more efficient, since the length is only computed on the 5 first names."
   ]
  },
  {
   "cell_type": "code",
   "execution_count": 40,
   "metadata": {},
   "outputs": [
    {
     "data": {
      "text/plain": [
       "0    4\n",
       "1    4\n",
       "2    4\n",
       "3    9\n",
       "4    6\n",
       "Name: name, dtype: int64"
      ]
     },
     "execution_count": 40,
     "metadata": {},
     "output_type": "execute_result"
    }
   ],
   "source": [
    "# length of 5 first names\n",
    "df[\"name\"].head().str.len()"
   ]
  },
  {
   "cell_type": "markdown",
   "metadata": {},
   "source": [
    "<div class=\"alert alert-info\">\n",
    "<b>Jupyter hint</b>:\n",
    "We can check it with the magic command <pre>%timeit</pre> which enables to compute the efficiency of a statement.\n",
    "</div>"
   ]
  },
  {
   "cell_type": "code",
   "execution_count": 41,
   "metadata": {},
   "outputs": [
    {
     "name": "stdout",
     "output_type": "stream",
     "text": [
      "821 ms ± 55.1 ms per loop (mean ± std. dev. of 7 runs, 1 loop each)\n"
     ]
    }
   ],
   "source": [
    "%timeit df[\"name\"].str.len().head()"
   ]
  },
  {
   "cell_type": "code",
   "execution_count": 42,
   "metadata": {},
   "outputs": [
    {
     "name": "stdout",
     "output_type": "stream",
     "text": [
      "330 µs ± 35.5 µs per loop (mean ± std. dev. of 7 runs, 1000 loops each)\n"
     ]
    }
   ],
   "source": [
    "%timeit df[\"name\"].head().str.len()"
   ]
  },
  {
   "cell_type": "markdown",
   "metadata": {},
   "source": [
    "<div class=\"alert alert-success\">\n",
    "**Exercise 2**\n",
    "<ul>\n",
    "<li>Compute the minimum and the maximum length of names</li>\n",
    "<li>Give the value counts of names length</li>\n",
    "</ul>\n",
    "</div>"
   ]
  },
  {
   "cell_type": "code",
   "execution_count": null,
   "metadata": {},
   "outputs": [],
   "source": [
    "# %load session2/ex_02.py"
   ]
  },
  {
   "cell_type": "code",
   "execution_count": 44,
   "metadata": {},
   "outputs": [
    {
     "data": {
      "text/plain": [
       "2"
      ]
     },
     "execution_count": 44,
     "metadata": {},
     "output_type": "execute_result"
    }
   ],
   "source": [
    "df[\"name\"].str.len().min()"
   ]
  },
  {
   "cell_type": "code",
   "execution_count": 45,
   "metadata": {},
   "outputs": [
    {
     "data": {
      "text/plain": [
       "15"
      ]
     },
     "execution_count": 45,
     "metadata": {},
     "output_type": "execute_result"
    }
   ],
   "source": [
    "df[\"name\"].str.len().max()"
   ]
  },
  {
   "cell_type": "code",
   "execution_count": 46,
   "metadata": {},
   "outputs": [
    {
     "data": {
      "text/plain": [
       "6     546519\n",
       "7     424360\n",
       "5     404291\n",
       "8     213803\n",
       "4     177838\n",
       "9      78946\n",
       "3      41274\n",
       "10     23437\n",
       "11      6461\n",
       "2       4660\n",
       "12      1610\n",
       "13       946\n",
       "14       390\n",
       "15       130\n",
       "Name: name, dtype: int64"
      ]
     },
     "execution_count": 46,
     "metadata": {},
     "output_type": "execute_result"
    }
   ],
   "source": [
    "df[\"name\"].str.len().value_counts()"
   ]
  },
  {
   "cell_type": "markdown",
   "metadata": {},
   "source": [
    "## 2.2 DataFrame, 2-D objects\n",
    "\n",
    "A `DataFrame` object is a table of data as we encounter frequently in many information systems: R data.frame, CSV or TSV file, Excel sheet, table of a data base...\n",
    "\n",
    "Generally, a table is compound of a number of homogeneous records or rows. Each line represents a specific record and the columns stand for the features of each records.\n",
    "\n",
    "The objects that may be included in a `DataFrame` might be of any kind:\n",
    "- booleans: `bool`\n",
    "- integers: `int64`\n",
    "- floating number: `float64`\n",
    "- date objects: `datetime`, `timestamp`\n",
    "- strings and any objects: `object` (the more general object)\n",
    "\n",
    "\n",
    "*Nota bene*\n",
    "\n",
    "- `pandas` tries to use the most adapted type according to the data in each column\n",
    "- If the type of a column is `object`, it may contains other objects than strings.\n",
    "\n",
    "### 2.2.1 Common DataFrame attributes\n",
    "\n",
    "attribute|result\n",
    "-|-\n",
    "df.shape|dimensions of df\n",
    "df.size|number of elements of df\n",
    "df.values|values of df\n",
    "df.index|index of df\n",
    "df.index.is_unique|if index of df is unique\n",
    "df.columns|columns of df\n",
    "df.dtypes|types of columns of df\n",
    "df.empty|True if df is empty, False otherwise"
   ]
  },
  {
   "cell_type": "code",
   "execution_count": 47,
   "metadata": {},
   "outputs": [
    {
     "data": {
      "text/plain": [
       "pandas.core.frame.DataFrame"
      ]
     },
     "execution_count": 47,
     "metadata": {},
     "output_type": "execute_result"
    }
   ],
   "source": [
    "# type of object df\n",
    "type(df)"
   ]
  },
  {
   "cell_type": "code",
   "execution_count": 48,
   "metadata": {},
   "outputs": [
    {
     "data": {
      "text/plain": [
       "(1924665, 4)"
      ]
     },
     "execution_count": 48,
     "metadata": {},
     "output_type": "execute_result"
    }
   ],
   "source": [
    "# dimensions of df\n",
    "df.shape"
   ]
  },
  {
   "cell_type": "code",
   "execution_count": 49,
   "metadata": {},
   "outputs": [
    {
     "data": {
      "text/plain": [
       "1924665"
      ]
     },
     "execution_count": 49,
     "metadata": {},
     "output_type": "execute_result"
    }
   ],
   "source": [
    "# number of rows of df\n",
    "len(df)"
   ]
  },
  {
   "cell_type": "code",
   "execution_count": 50,
   "metadata": {},
   "outputs": [
    {
     "data": {
      "text/plain": [
       "7698660"
      ]
     },
     "execution_count": 50,
     "metadata": {},
     "output_type": "execute_result"
    }
   ],
   "source": [
    "# total number of elements of df\n",
    "df.size"
   ]
  },
  {
   "cell_type": "code",
   "execution_count": 51,
   "metadata": {},
   "outputs": [
    {
     "data": {
      "text/plain": [
       "array([[1880, 'Mary', 'F', 7065],\n",
       "       [1880, 'Anna', 'F', 2604],\n",
       "       [1880, 'Emma', 'F', 2003],\n",
       "       ...,\n",
       "       [2017, 'Zylin', 'M', 5],\n",
       "       [2017, 'Zylis', 'M', 5],\n",
       "       [2017, 'Zyrie', 'M', 5]], dtype=object)"
      ]
     },
     "execution_count": 51,
     "metadata": {},
     "output_type": "execute_result"
    }
   ],
   "source": [
    "# values of df\n",
    "# it is a 2-D numpy ndarray\n",
    "df.values"
   ]
  },
  {
   "cell_type": "code",
   "execution_count": 52,
   "metadata": {},
   "outputs": [
    {
     "data": {
      "text/plain": [
       "array([1880, 'Mary', 'F', 7065], dtype=object)"
      ]
     },
     "execution_count": 52,
     "metadata": {},
     "output_type": "execute_result"
    }
   ],
   "source": [
    "# first line of values of df\n",
    "# numpy accessor\n",
    "df.values[0]"
   ]
  },
  {
   "cell_type": "code",
   "execution_count": 53,
   "metadata": {},
   "outputs": [
    {
     "data": {
      "text/plain": [
       "array([1880, 1880, 1880, ..., 2017, 2017, 2017], dtype=object)"
      ]
     },
     "execution_count": 53,
     "metadata": {},
     "output_type": "execute_result"
    }
   ],
   "source": [
    "# first column of values of df\n",
    "# numpy accessor\n",
    "df.values[:, 0]"
   ]
  },
  {
   "cell_type": "code",
   "execution_count": 54,
   "metadata": {},
   "outputs": [
    {
     "data": {
      "text/plain": [
       "RangeIndex(start=0, stop=1924665, step=1)"
      ]
     },
     "execution_count": 54,
     "metadata": {},
     "output_type": "execute_result"
    }
   ],
   "source": [
    "# index of df\n",
    "df.index"
   ]
  },
  {
   "cell_type": "code",
   "execution_count": 55,
   "metadata": {},
   "outputs": [
    {
     "data": {
      "text/plain": [
       "True"
      ]
     },
     "execution_count": 55,
     "metadata": {},
     "output_type": "execute_result"
    }
   ],
   "source": [
    "# index of df is unique\n",
    "df.index.is_unique"
   ]
  },
  {
   "cell_type": "code",
   "execution_count": 56,
   "metadata": {},
   "outputs": [
    {
     "data": {
      "text/plain": [
       "Index(['year', 'name', 'gender', 'births'], dtype='object')"
      ]
     },
     "execution_count": 56,
     "metadata": {},
     "output_type": "execute_result"
    }
   ],
   "source": [
    "# columns of df\n",
    "df.columns"
   ]
  },
  {
   "cell_type": "code",
   "execution_count": null,
   "metadata": {},
   "outputs": [],
   "source": [
    "# dtypes of columns of df\n",
    "df.dtypes"
   ]
  },
  {
   "cell_type": "markdown",
   "metadata": {},
   "source": [
    "### 2.2.2 Common DataFrame methods\n",
    "\n",
    "`DataFrame` objects have several common methods:\n",
    "\n",
    "method|result\n",
    "-|-\n",
    "df.head()|first rows of df\n",
    "df.tail()|last rows of df\n",
    "df.info()|information on df\n",
    "df.count()|number of non NA elements in each column\n",
    "df.transpose or df.T()|transposition of df\n",
    "\n",
    "The `DataFrame` class defines 224 attributes or methods in the `pandas` module."
   ]
  },
  {
   "cell_type": "code",
   "execution_count": 57,
   "metadata": {},
   "outputs": [
    {
     "data": {
      "text/html": [
       "<div>\n",
       "<style scoped>\n",
       "    .dataframe tbody tr th:only-of-type {\n",
       "        vertical-align: middle;\n",
       "    }\n",
       "\n",
       "    .dataframe tbody tr th {\n",
       "        vertical-align: top;\n",
       "    }\n",
       "\n",
       "    .dataframe thead th {\n",
       "        text-align: right;\n",
       "    }\n",
       "</style>\n",
       "<table border=\"1\" class=\"dataframe\">\n",
       "  <thead>\n",
       "    <tr style=\"text-align: right;\">\n",
       "      <th></th>\n",
       "      <th>year</th>\n",
       "      <th>name</th>\n",
       "      <th>gender</th>\n",
       "      <th>births</th>\n",
       "    </tr>\n",
       "  </thead>\n",
       "  <tbody>\n",
       "    <tr>\n",
       "      <th>0</th>\n",
       "      <td>1880</td>\n",
       "      <td>Mary</td>\n",
       "      <td>F</td>\n",
       "      <td>7065</td>\n",
       "    </tr>\n",
       "    <tr>\n",
       "      <th>1</th>\n",
       "      <td>1880</td>\n",
       "      <td>Anna</td>\n",
       "      <td>F</td>\n",
       "      <td>2604</td>\n",
       "    </tr>\n",
       "    <tr>\n",
       "      <th>2</th>\n",
       "      <td>1880</td>\n",
       "      <td>Emma</td>\n",
       "      <td>F</td>\n",
       "      <td>2003</td>\n",
       "    </tr>\n",
       "    <tr>\n",
       "      <th>3</th>\n",
       "      <td>1880</td>\n",
       "      <td>Elizabeth</td>\n",
       "      <td>F</td>\n",
       "      <td>1939</td>\n",
       "    </tr>\n",
       "    <tr>\n",
       "      <th>4</th>\n",
       "      <td>1880</td>\n",
       "      <td>Minnie</td>\n",
       "      <td>F</td>\n",
       "      <td>1746</td>\n",
       "    </tr>\n",
       "    <tr>\n",
       "      <th>5</th>\n",
       "      <td>1880</td>\n",
       "      <td>Margaret</td>\n",
       "      <td>F</td>\n",
       "      <td>1578</td>\n",
       "    </tr>\n",
       "    <tr>\n",
       "      <th>6</th>\n",
       "      <td>1880</td>\n",
       "      <td>Ida</td>\n",
       "      <td>F</td>\n",
       "      <td>1472</td>\n",
       "    </tr>\n",
       "  </tbody>\n",
       "</table>\n",
       "</div>"
      ],
      "text/plain": [
       "   year       name gender  births\n",
       "0  1880       Mary      F    7065\n",
       "1  1880       Anna      F    2604\n",
       "2  1880       Emma      F    2003\n",
       "3  1880  Elizabeth      F    1939\n",
       "4  1880     Minnie      F    1746\n",
       "5  1880   Margaret      F    1578\n",
       "6  1880        Ida      F    1472"
      ]
     },
     "execution_count": 57,
     "metadata": {},
     "output_type": "execute_result"
    }
   ],
   "source": [
    "# first rows, by default 5\n",
    "df.head(7)"
   ]
  },
  {
   "cell_type": "code",
   "execution_count": 58,
   "metadata": {},
   "outputs": [
    {
     "data": {
      "text/html": [
       "<div>\n",
       "<style scoped>\n",
       "    .dataframe tbody tr th:only-of-type {\n",
       "        vertical-align: middle;\n",
       "    }\n",
       "\n",
       "    .dataframe tbody tr th {\n",
       "        vertical-align: top;\n",
       "    }\n",
       "\n",
       "    .dataframe thead th {\n",
       "        text-align: right;\n",
       "    }\n",
       "</style>\n",
       "<table border=\"1\" class=\"dataframe\">\n",
       "  <thead>\n",
       "    <tr style=\"text-align: right;\">\n",
       "      <th></th>\n",
       "      <th>year</th>\n",
       "      <th>name</th>\n",
       "      <th>gender</th>\n",
       "      <th>births</th>\n",
       "    </tr>\n",
       "  </thead>\n",
       "  <tbody>\n",
       "    <tr>\n",
       "      <th>1924660</th>\n",
       "      <td>2017</td>\n",
       "      <td>Zykai</td>\n",
       "      <td>M</td>\n",
       "      <td>5</td>\n",
       "    </tr>\n",
       "    <tr>\n",
       "      <th>1924661</th>\n",
       "      <td>2017</td>\n",
       "      <td>Zykeem</td>\n",
       "      <td>M</td>\n",
       "      <td>5</td>\n",
       "    </tr>\n",
       "    <tr>\n",
       "      <th>1924662</th>\n",
       "      <td>2017</td>\n",
       "      <td>Zylin</td>\n",
       "      <td>M</td>\n",
       "      <td>5</td>\n",
       "    </tr>\n",
       "    <tr>\n",
       "      <th>1924663</th>\n",
       "      <td>2017</td>\n",
       "      <td>Zylis</td>\n",
       "      <td>M</td>\n",
       "      <td>5</td>\n",
       "    </tr>\n",
       "    <tr>\n",
       "      <th>1924664</th>\n",
       "      <td>2017</td>\n",
       "      <td>Zyrie</td>\n",
       "      <td>M</td>\n",
       "      <td>5</td>\n",
       "    </tr>\n",
       "  </tbody>\n",
       "</table>\n",
       "</div>"
      ],
      "text/plain": [
       "         year    name gender  births\n",
       "1924660  2017   Zykai      M       5\n",
       "1924661  2017  Zykeem      M       5\n",
       "1924662  2017   Zylin      M       5\n",
       "1924663  2017   Zylis      M       5\n",
       "1924664  2017   Zyrie      M       5"
      ]
     },
     "execution_count": 58,
     "metadata": {},
     "output_type": "execute_result"
    }
   ],
   "source": [
    "# last rows, by default 5\n",
    "df.tail()"
   ]
  },
  {
   "cell_type": "code",
   "execution_count": 59,
   "metadata": {},
   "outputs": [
    {
     "name": "stdout",
     "output_type": "stream",
     "text": [
      "<class 'pandas.core.frame.DataFrame'>\n",
      "RangeIndex: 1924665 entries, 0 to 1924664\n",
      "Data columns (total 4 columns):\n",
      "year      int64\n",
      "name      object\n",
      "gender    object\n",
      "births    int64\n",
      "dtypes: int64(2), object(2)\n",
      "memory usage: 58.7+ MB\n"
     ]
    }
   ],
   "source": [
    "# information on df\n",
    "df.info()"
   ]
  },
  {
   "cell_type": "code",
   "execution_count": 60,
   "metadata": {},
   "outputs": [
    {
     "data": {
      "text/html": [
       "<div>\n",
       "<style scoped>\n",
       "    .dataframe tbody tr th:only-of-type {\n",
       "        vertical-align: middle;\n",
       "    }\n",
       "\n",
       "    .dataframe tbody tr th {\n",
       "        vertical-align: top;\n",
       "    }\n",
       "\n",
       "    .dataframe thead th {\n",
       "        text-align: right;\n",
       "    }\n",
       "</style>\n",
       "<table border=\"1\" class=\"dataframe\">\n",
       "  <thead>\n",
       "    <tr style=\"text-align: right;\">\n",
       "      <th></th>\n",
       "      <th>0</th>\n",
       "      <th>1</th>\n",
       "      <th>2</th>\n",
       "      <th>3</th>\n",
       "      <th>4</th>\n",
       "      <th>5</th>\n",
       "      <th>6</th>\n",
       "      <th>7</th>\n",
       "      <th>8</th>\n",
       "      <th>9</th>\n",
       "      <th>10</th>\n",
       "      <th>11</th>\n",
       "      <th>12</th>\n",
       "      <th>13</th>\n",
       "      <th>14</th>\n",
       "      <th>...</th>\n",
       "      <th>1924650</th>\n",
       "      <th>1924651</th>\n",
       "      <th>1924652</th>\n",
       "      <th>1924653</th>\n",
       "      <th>1924654</th>\n",
       "      <th>1924655</th>\n",
       "      <th>1924656</th>\n",
       "      <th>1924657</th>\n",
       "      <th>1924658</th>\n",
       "      <th>1924659</th>\n",
       "      <th>1924660</th>\n",
       "      <th>1924661</th>\n",
       "      <th>1924662</th>\n",
       "      <th>1924663</th>\n",
       "      <th>1924664</th>\n",
       "    </tr>\n",
       "  </thead>\n",
       "  <tbody>\n",
       "    <tr>\n",
       "      <th>year</th>\n",
       "      <td>1880</td>\n",
       "      <td>1880</td>\n",
       "      <td>1880</td>\n",
       "      <td>1880</td>\n",
       "      <td>1880</td>\n",
       "      <td>1880</td>\n",
       "      <td>1880</td>\n",
       "      <td>1880</td>\n",
       "      <td>1880</td>\n",
       "      <td>1880</td>\n",
       "      <td>1880</td>\n",
       "      <td>1880</td>\n",
       "      <td>1880</td>\n",
       "      <td>1880</td>\n",
       "      <td>1880</td>\n",
       "      <td>...</td>\n",
       "      <td>2017</td>\n",
       "      <td>2017</td>\n",
       "      <td>2017</td>\n",
       "      <td>2017</td>\n",
       "      <td>2017</td>\n",
       "      <td>2017</td>\n",
       "      <td>2017</td>\n",
       "      <td>2017</td>\n",
       "      <td>2017</td>\n",
       "      <td>2017</td>\n",
       "      <td>2017</td>\n",
       "      <td>2017</td>\n",
       "      <td>2017</td>\n",
       "      <td>2017</td>\n",
       "      <td>2017</td>\n",
       "    </tr>\n",
       "    <tr>\n",
       "      <th>name</th>\n",
       "      <td>Mary</td>\n",
       "      <td>Anna</td>\n",
       "      <td>Emma</td>\n",
       "      <td>Elizabeth</td>\n",
       "      <td>Minnie</td>\n",
       "      <td>Margaret</td>\n",
       "      <td>Ida</td>\n",
       "      <td>Alice</td>\n",
       "      <td>Bertha</td>\n",
       "      <td>Sarah</td>\n",
       "      <td>Annie</td>\n",
       "      <td>Clara</td>\n",
       "      <td>Ella</td>\n",
       "      <td>Florence</td>\n",
       "      <td>Cora</td>\n",
       "      <td>...</td>\n",
       "      <td>Ziyang</td>\n",
       "      <td>Zkari</td>\n",
       "      <td>Zohaan</td>\n",
       "      <td>Zoren</td>\n",
       "      <td>Zorion</td>\n",
       "      <td>Zubeyr</td>\n",
       "      <td>Zy</td>\n",
       "      <td>Zyel</td>\n",
       "      <td>Zyheem</td>\n",
       "      <td>Zyhier</td>\n",
       "      <td>Zykai</td>\n",
       "      <td>Zykeem</td>\n",
       "      <td>Zylin</td>\n",
       "      <td>Zylis</td>\n",
       "      <td>Zyrie</td>\n",
       "    </tr>\n",
       "    <tr>\n",
       "      <th>gender</th>\n",
       "      <td>F</td>\n",
       "      <td>F</td>\n",
       "      <td>F</td>\n",
       "      <td>F</td>\n",
       "      <td>F</td>\n",
       "      <td>F</td>\n",
       "      <td>F</td>\n",
       "      <td>F</td>\n",
       "      <td>F</td>\n",
       "      <td>F</td>\n",
       "      <td>F</td>\n",
       "      <td>F</td>\n",
       "      <td>F</td>\n",
       "      <td>F</td>\n",
       "      <td>F</td>\n",
       "      <td>...</td>\n",
       "      <td>M</td>\n",
       "      <td>M</td>\n",
       "      <td>M</td>\n",
       "      <td>M</td>\n",
       "      <td>M</td>\n",
       "      <td>M</td>\n",
       "      <td>M</td>\n",
       "      <td>M</td>\n",
       "      <td>M</td>\n",
       "      <td>M</td>\n",
       "      <td>M</td>\n",
       "      <td>M</td>\n",
       "      <td>M</td>\n",
       "      <td>M</td>\n",
       "      <td>M</td>\n",
       "    </tr>\n",
       "    <tr>\n",
       "      <th>births</th>\n",
       "      <td>7065</td>\n",
       "      <td>2604</td>\n",
       "      <td>2003</td>\n",
       "      <td>1939</td>\n",
       "      <td>1746</td>\n",
       "      <td>1578</td>\n",
       "      <td>1472</td>\n",
       "      <td>1414</td>\n",
       "      <td>1320</td>\n",
       "      <td>1288</td>\n",
       "      <td>1258</td>\n",
       "      <td>1226</td>\n",
       "      <td>1156</td>\n",
       "      <td>1063</td>\n",
       "      <td>1045</td>\n",
       "      <td>...</td>\n",
       "      <td>5</td>\n",
       "      <td>5</td>\n",
       "      <td>5</td>\n",
       "      <td>5</td>\n",
       "      <td>5</td>\n",
       "      <td>5</td>\n",
       "      <td>5</td>\n",
       "      <td>5</td>\n",
       "      <td>5</td>\n",
       "      <td>5</td>\n",
       "      <td>5</td>\n",
       "      <td>5</td>\n",
       "      <td>5</td>\n",
       "      <td>5</td>\n",
       "      <td>5</td>\n",
       "    </tr>\n",
       "  </tbody>\n",
       "</table>\n",
       "<p>4 rows × 1924665 columns</p>\n",
       "</div>"
      ],
      "text/plain": [
       "       0       1       2          3       4         5       6       7        \\\n",
       "year      1880    1880    1880       1880    1880      1880    1880    1880   \n",
       "name      Mary    Anna    Emma  Elizabeth  Minnie  Margaret     Ida   Alice   \n",
       "gender       F       F       F          F       F         F       F       F   \n",
       "births    7065    2604    2003       1939    1746      1578    1472    1414   \n",
       "\n",
       "       8       9       10      11      12        13      14        ...    \\\n",
       "year      1880    1880    1880    1880    1880      1880    1880   ...     \n",
       "name    Bertha   Sarah   Annie   Clara    Ella  Florence    Cora   ...     \n",
       "gender       F       F       F       F       F         F       F   ...     \n",
       "births    1320    1288    1258    1226    1156      1063    1045   ...     \n",
       "\n",
       "       1924650 1924651 1924652 1924653 1924654 1924655 1924656 1924657  \\\n",
       "year      2017    2017    2017    2017    2017    2017    2017    2017   \n",
       "name    Ziyang   Zkari  Zohaan   Zoren  Zorion  Zubeyr      Zy    Zyel   \n",
       "gender       M       M       M       M       M       M       M       M   \n",
       "births       5       5       5       5       5       5       5       5   \n",
       "\n",
       "       1924658 1924659 1924660 1924661 1924662 1924663 1924664  \n",
       "year      2017    2017    2017    2017    2017    2017    2017  \n",
       "name    Zyheem  Zyhier   Zykai  Zykeem   Zylin   Zylis   Zyrie  \n",
       "gender       M       M       M       M       M       M       M  \n",
       "births       5       5       5       5       5       5       5  \n",
       "\n",
       "[4 rows x 1924665 columns]"
      ]
     },
     "execution_count": 60,
     "metadata": {},
     "output_type": "execute_result"
    }
   ],
   "source": [
    "# transposition of df\n",
    "df_t = df.T # or df.transpose()\n",
    "df_t"
   ]
  },
  {
   "cell_type": "code",
   "execution_count": 61,
   "metadata": {},
   "outputs": [
    {
     "data": {
      "text/plain": [
       "Index(['year', 'name', 'gender', 'births'], dtype='object')"
      ]
     },
     "execution_count": 61,
     "metadata": {},
     "output_type": "execute_result"
    }
   ],
   "source": [
    "# index of a transposed df is its columns\n",
    "df_t.index"
   ]
  },
  {
   "cell_type": "code",
   "execution_count": 62,
   "metadata": {},
   "outputs": [
    {
     "data": {
      "text/plain": [
       "RangeIndex(start=0, stop=1924665, step=1)"
      ]
     },
     "execution_count": 62,
     "metadata": {},
     "output_type": "execute_result"
    }
   ],
   "source": [
    "# columns of a transposed df are its index\n",
    "df_t.columns"
   ]
  },
  {
   "cell_type": "code",
   "execution_count": 63,
   "metadata": {},
   "outputs": [
    {
     "data": {
      "text/html": [
       "<div>\n",
       "<style scoped>\n",
       "    .dataframe tbody tr th:only-of-type {\n",
       "        vertical-align: middle;\n",
       "    }\n",
       "\n",
       "    .dataframe tbody tr th {\n",
       "        vertical-align: top;\n",
       "    }\n",
       "\n",
       "    .dataframe thead th {\n",
       "        text-align: right;\n",
       "    }\n",
       "</style>\n",
       "<table border=\"1\" class=\"dataframe\">\n",
       "  <thead>\n",
       "    <tr style=\"text-align: right;\">\n",
       "      <th></th>\n",
       "      <th>0</th>\n",
       "    </tr>\n",
       "  </thead>\n",
       "  <tbody>\n",
       "    <tr>\n",
       "      <th>year</th>\n",
       "      <td>1880</td>\n",
       "    </tr>\n",
       "    <tr>\n",
       "      <th>name</th>\n",
       "      <td>Mary</td>\n",
       "    </tr>\n",
       "    <tr>\n",
       "      <th>gender</th>\n",
       "      <td>F</td>\n",
       "    </tr>\n",
       "    <tr>\n",
       "      <th>births</th>\n",
       "      <td>7065</td>\n",
       "    </tr>\n",
       "  </tbody>\n",
       "</table>\n",
       "</div>"
      ],
      "text/plain": [
       "           0\n",
       "year    1880\n",
       "name    Mary\n",
       "gender     F\n",
       "births  7065"
      ]
     },
     "execution_count": 63,
     "metadata": {},
     "output_type": "execute_result"
    }
   ],
   "source": [
    "# first line in a column\n",
    "df.head(1).T"
   ]
  },
  {
   "cell_type": "markdown",
   "metadata": {},
   "source": [
    "<div class=\"alert alert-success\">\n",
    "**Exercise 3**\n",
    "<ul>\n",
    "    <li>Perform few operations on df2017:</li>\n",
    "    <ul>\n",
    "        <li>dimensions</li>\n",
    "        <li>first and last rows</li>\n",
    "        <li>transposition</li>\n",
    "        <li>information</li>\n",
    "    </ul>\n",
    "</ul>\n",
    "</div>"
   ]
  },
  {
   "cell_type": "code",
   "execution_count": null,
   "metadata": {},
   "outputs": [],
   "source": [
    "# %load session2/ex_03.py"
   ]
  },
  {
   "cell_type": "markdown",
   "metadata": {},
   "source": [
    "*Nota bene*\n",
    "\n",
    "When the label of a column does not contains space, or other special characters, and does not overlap with a `DataFrame` object attribute or method, it is possible to use it as an attribute to get the column.\n",
    "\n",
    "For instance: `df.gender`\n",
    "\n",
    "As it does not work systematically, we do not recommend using this notation. It is explained here, since it can be used in code found on the internet."
   ]
  },
  {
   "cell_type": "code",
   "execution_count": 64,
   "metadata": {},
   "outputs": [
    {
     "data": {
      "text/plain": [
       "0          F\n",
       "1          F\n",
       "2          F\n",
       "3          F\n",
       "4          F\n",
       "5          F\n",
       "6          F\n",
       "7          F\n",
       "          ..\n",
       "1924657    M\n",
       "1924658    M\n",
       "1924659    M\n",
       "1924660    M\n",
       "1924661    M\n",
       "1924662    M\n",
       "1924663    M\n",
       "1924664    M\n",
       "Name: gender, Length: 1924665, dtype: object"
      ]
     },
     "execution_count": 64,
     "metadata": {},
     "output_type": "execute_result"
    }
   ],
   "source": [
    "# column name as an attribute\n",
    "df.gender"
   ]
  },
  {
   "cell_type": "markdown",
   "metadata": {},
   "source": [
    "It is possible to modify the index of a `DataFrame` object by using the `set_index()` method with a column of the `DataFrame` object."
   ]
  },
  {
   "cell_type": "code",
   "execution_count": 65,
   "metadata": {},
   "outputs": [
    {
     "data": {
      "text/html": [
       "<div>\n",
       "<style scoped>\n",
       "    .dataframe tbody tr th:only-of-type {\n",
       "        vertical-align: middle;\n",
       "    }\n",
       "\n",
       "    .dataframe tbody tr th {\n",
       "        vertical-align: top;\n",
       "    }\n",
       "\n",
       "    .dataframe thead th {\n",
       "        text-align: right;\n",
       "    }\n",
       "</style>\n",
       "<table border=\"1\" class=\"dataframe\">\n",
       "  <thead>\n",
       "    <tr style=\"text-align: right;\">\n",
       "      <th></th>\n",
       "      <th>name</th>\n",
       "      <th>gender</th>\n",
       "      <th>births</th>\n",
       "    </tr>\n",
       "  </thead>\n",
       "  <tbody>\n",
       "    <tr>\n",
       "      <th>0</th>\n",
       "      <td>Emma</td>\n",
       "      <td>F</td>\n",
       "      <td>19738</td>\n",
       "    </tr>\n",
       "    <tr>\n",
       "      <th>1</th>\n",
       "      <td>Olivia</td>\n",
       "      <td>F</td>\n",
       "      <td>18632</td>\n",
       "    </tr>\n",
       "    <tr>\n",
       "      <th>2</th>\n",
       "      <td>Ava</td>\n",
       "      <td>F</td>\n",
       "      <td>15902</td>\n",
       "    </tr>\n",
       "    <tr>\n",
       "      <th>3</th>\n",
       "      <td>Isabella</td>\n",
       "      <td>F</td>\n",
       "      <td>15100</td>\n",
       "    </tr>\n",
       "    <tr>\n",
       "      <th>4</th>\n",
       "      <td>Sophia</td>\n",
       "      <td>F</td>\n",
       "      <td>14831</td>\n",
       "    </tr>\n",
       "    <tr>\n",
       "      <th>5</th>\n",
       "      <td>Mia</td>\n",
       "      <td>F</td>\n",
       "      <td>13437</td>\n",
       "    </tr>\n",
       "    <tr>\n",
       "      <th>6</th>\n",
       "      <td>Charlotte</td>\n",
       "      <td>F</td>\n",
       "      <td>12893</td>\n",
       "    </tr>\n",
       "    <tr>\n",
       "      <th>7</th>\n",
       "      <td>Amelia</td>\n",
       "      <td>F</td>\n",
       "      <td>11800</td>\n",
       "    </tr>\n",
       "    <tr>\n",
       "      <th>...</th>\n",
       "      <td>...</td>\n",
       "      <td>...</td>\n",
       "      <td>...</td>\n",
       "    </tr>\n",
       "    <tr>\n",
       "      <th>32461</th>\n",
       "      <td>Zyel</td>\n",
       "      <td>M</td>\n",
       "      <td>5</td>\n",
       "    </tr>\n",
       "    <tr>\n",
       "      <th>32462</th>\n",
       "      <td>Zyheem</td>\n",
       "      <td>M</td>\n",
       "      <td>5</td>\n",
       "    </tr>\n",
       "    <tr>\n",
       "      <th>32463</th>\n",
       "      <td>Zyhier</td>\n",
       "      <td>M</td>\n",
       "      <td>5</td>\n",
       "    </tr>\n",
       "    <tr>\n",
       "      <th>32464</th>\n",
       "      <td>Zykai</td>\n",
       "      <td>M</td>\n",
       "      <td>5</td>\n",
       "    </tr>\n",
       "    <tr>\n",
       "      <th>32465</th>\n",
       "      <td>Zykeem</td>\n",
       "      <td>M</td>\n",
       "      <td>5</td>\n",
       "    </tr>\n",
       "    <tr>\n",
       "      <th>32466</th>\n",
       "      <td>Zylin</td>\n",
       "      <td>M</td>\n",
       "      <td>5</td>\n",
       "    </tr>\n",
       "    <tr>\n",
       "      <th>32467</th>\n",
       "      <td>Zylis</td>\n",
       "      <td>M</td>\n",
       "      <td>5</td>\n",
       "    </tr>\n",
       "    <tr>\n",
       "      <th>32468</th>\n",
       "      <td>Zyrie</td>\n",
       "      <td>M</td>\n",
       "      <td>5</td>\n",
       "    </tr>\n",
       "  </tbody>\n",
       "</table>\n",
       "<p>32469 rows × 3 columns</p>\n",
       "</div>"
      ],
      "text/plain": [
       "            name gender  births\n",
       "0           Emma      F   19738\n",
       "1         Olivia      F   18632\n",
       "2            Ava      F   15902\n",
       "3       Isabella      F   15100\n",
       "4         Sophia      F   14831\n",
       "5            Mia      F   13437\n",
       "6      Charlotte      F   12893\n",
       "7         Amelia      F   11800\n",
       "...          ...    ...     ...\n",
       "32461       Zyel      M       5\n",
       "32462     Zyheem      M       5\n",
       "32463     Zyhier      M       5\n",
       "32464      Zykai      M       5\n",
       "32465     Zykeem      M       5\n",
       "32466      Zylin      M       5\n",
       "32467      Zylis      M       5\n",
       "32468      Zyrie      M       5\n",
       "\n",
       "[32469 rows x 3 columns]"
      ]
     },
     "execution_count": 65,
     "metadata": {},
     "output_type": "execute_result"
    }
   ],
   "source": [
    "# year 2017\n",
    "df2017"
   ]
  },
  {
   "cell_type": "code",
   "execution_count": 66,
   "metadata": {},
   "outputs": [
    {
     "data": {
      "text/html": [
       "<div>\n",
       "<style scoped>\n",
       "    .dataframe tbody tr th:only-of-type {\n",
       "        vertical-align: middle;\n",
       "    }\n",
       "\n",
       "    .dataframe tbody tr th {\n",
       "        vertical-align: top;\n",
       "    }\n",
       "\n",
       "    .dataframe thead th {\n",
       "        text-align: right;\n",
       "    }\n",
       "</style>\n",
       "<table border=\"1\" class=\"dataframe\">\n",
       "  <thead>\n",
       "    <tr style=\"text-align: right;\">\n",
       "      <th></th>\n",
       "      <th>gender</th>\n",
       "      <th>births</th>\n",
       "    </tr>\n",
       "    <tr>\n",
       "      <th>name</th>\n",
       "      <th></th>\n",
       "      <th></th>\n",
       "    </tr>\n",
       "  </thead>\n",
       "  <tbody>\n",
       "    <tr>\n",
       "      <th>Emma</th>\n",
       "      <td>F</td>\n",
       "      <td>19738</td>\n",
       "    </tr>\n",
       "    <tr>\n",
       "      <th>Olivia</th>\n",
       "      <td>F</td>\n",
       "      <td>18632</td>\n",
       "    </tr>\n",
       "    <tr>\n",
       "      <th>Ava</th>\n",
       "      <td>F</td>\n",
       "      <td>15902</td>\n",
       "    </tr>\n",
       "    <tr>\n",
       "      <th>Isabella</th>\n",
       "      <td>F</td>\n",
       "      <td>15100</td>\n",
       "    </tr>\n",
       "    <tr>\n",
       "      <th>Sophia</th>\n",
       "      <td>F</td>\n",
       "      <td>14831</td>\n",
       "    </tr>\n",
       "    <tr>\n",
       "      <th>Mia</th>\n",
       "      <td>F</td>\n",
       "      <td>13437</td>\n",
       "    </tr>\n",
       "    <tr>\n",
       "      <th>Charlotte</th>\n",
       "      <td>F</td>\n",
       "      <td>12893</td>\n",
       "    </tr>\n",
       "    <tr>\n",
       "      <th>Amelia</th>\n",
       "      <td>F</td>\n",
       "      <td>11800</td>\n",
       "    </tr>\n",
       "    <tr>\n",
       "      <th>...</th>\n",
       "      <td>...</td>\n",
       "      <td>...</td>\n",
       "    </tr>\n",
       "    <tr>\n",
       "      <th>Zyel</th>\n",
       "      <td>M</td>\n",
       "      <td>5</td>\n",
       "    </tr>\n",
       "    <tr>\n",
       "      <th>Zyheem</th>\n",
       "      <td>M</td>\n",
       "      <td>5</td>\n",
       "    </tr>\n",
       "    <tr>\n",
       "      <th>Zyhier</th>\n",
       "      <td>M</td>\n",
       "      <td>5</td>\n",
       "    </tr>\n",
       "    <tr>\n",
       "      <th>Zykai</th>\n",
       "      <td>M</td>\n",
       "      <td>5</td>\n",
       "    </tr>\n",
       "    <tr>\n",
       "      <th>Zykeem</th>\n",
       "      <td>M</td>\n",
       "      <td>5</td>\n",
       "    </tr>\n",
       "    <tr>\n",
       "      <th>Zylin</th>\n",
       "      <td>M</td>\n",
       "      <td>5</td>\n",
       "    </tr>\n",
       "    <tr>\n",
       "      <th>Zylis</th>\n",
       "      <td>M</td>\n",
       "      <td>5</td>\n",
       "    </tr>\n",
       "    <tr>\n",
       "      <th>Zyrie</th>\n",
       "      <td>M</td>\n",
       "      <td>5</td>\n",
       "    </tr>\n",
       "  </tbody>\n",
       "</table>\n",
       "<p>32469 rows × 2 columns</p>\n",
       "</div>"
      ],
      "text/plain": [
       "          gender  births\n",
       "name                    \n",
       "Emma           F   19738\n",
       "Olivia         F   18632\n",
       "Ava            F   15902\n",
       "Isabella       F   15100\n",
       "Sophia         F   14831\n",
       "Mia            F   13437\n",
       "Charlotte      F   12893\n",
       "Amelia         F   11800\n",
       "...          ...     ...\n",
       "Zyel           M       5\n",
       "Zyheem         M       5\n",
       "Zyhier         M       5\n",
       "Zykai          M       5\n",
       "Zykeem         M       5\n",
       "Zylin          M       5\n",
       "Zylis          M       5\n",
       "Zyrie          M       5\n",
       "\n",
       "[32469 rows x 2 columns]"
      ]
     },
     "execution_count": 66,
     "metadata": {},
     "output_type": "execute_result"
    }
   ],
   "source": [
    "# the name column is used as an index\n",
    "name2017 = df2017.set_index(\"name\")\n",
    "name2017"
   ]
  },
  {
   "cell_type": "code",
   "execution_count": 67,
   "metadata": {},
   "outputs": [
    {
     "data": {
      "text/plain": [
       "name\n",
       "Emma         19738\n",
       "Olivia       18632\n",
       "Ava          15902\n",
       "Isabella     15100\n",
       "Sophia       14831\n",
       "Mia          13437\n",
       "Charlotte    12893\n",
       "Amelia       11800\n",
       "             ...  \n",
       "Zyel             5\n",
       "Zyheem           5\n",
       "Zyhier           5\n",
       "Zykai            5\n",
       "Zykeem           5\n",
       "Zylin            5\n",
       "Zylis            5\n",
       "Zyrie            5\n",
       "Name: births, Length: 32469, dtype: int64"
      ]
     },
     "execution_count": 67,
     "metadata": {},
     "output_type": "execute_result"
    }
   ],
   "source": [
    "# accessing to a column\n",
    "name2017[\"births\"]"
   ]
  },
  {
   "cell_type": "code",
   "execution_count": 68,
   "metadata": {},
   "outputs": [
    {
     "data": {
      "text/plain": [
       "'Aadilynn'"
      ]
     },
     "execution_count": 68,
     "metadata": {},
     "output_type": "execute_result"
    }
   ],
   "source": [
    "# index of min\n",
    "name2017[\"births\"].idxmin()"
   ]
  },
  {
   "cell_type": "code",
   "execution_count": 71,
   "metadata": {},
   "outputs": [
    {
     "data": {
      "text/plain": [
       "'Emma'"
      ]
     },
     "execution_count": 71,
     "metadata": {},
     "output_type": "execute_result"
    }
   ],
   "source": [
    "# index of max\n",
    "name2017[\"births\"].idxmax()"
   ]
  },
  {
   "cell_type": "code",
   "execution_count": 72,
   "metadata": {},
   "outputs": [
    {
     "data": {
      "text/plain": [
       "Index(['Emma', 'Olivia', 'Ava', 'Isabella', 'Sophia', 'Mia', 'Charlotte',\n",
       "       'Amelia', 'Evelyn', 'Abigail',\n",
       "       ...\n",
       "       'Zubeyr', 'Zy', 'Zyel', 'Zyheem', 'Zyhier', 'Zykai', 'Zykeem', 'Zylin',\n",
       "       'Zylis', 'Zyrie'],\n",
       "      dtype='object', name='name', length=32469)"
      ]
     },
     "execution_count": 72,
     "metadata": {},
     "output_type": "execute_result"
    }
   ],
   "source": [
    "# index of the new DataFrame object\n",
    "name2017.index"
   ]
  },
  {
   "cell_type": "code",
   "execution_count": 73,
   "metadata": {},
   "outputs": [
    {
     "data": {
      "text/plain": [
       "'name'"
      ]
     },
     "execution_count": 73,
     "metadata": {},
     "output_type": "execute_result"
    }
   ],
   "source": [
    "# name of the index of the new DataFrame object\n",
    "name2017.index.name"
   ]
  },
  {
   "cell_type": "code",
   "execution_count": 69,
   "metadata": {},
   "outputs": [
    {
     "data": {
      "text/plain": [
       "False"
      ]
     },
     "execution_count": 69,
     "metadata": {},
     "output_type": "execute_result"
    }
   ],
   "source": [
    "# the index of the new DataFrame object is not unique\n",
    "name2017.index.is_unique #why its false not unique, male and female names there are both names f and m mesela Clem hem erkek hem kadın ismi"
   ]
  },
  {
   "cell_type": "markdown",
   "metadata": {},
   "source": [
    "<div class=\"alert alert-success\">\n",
    "**Exercise 4**\n",
    "<ul>\n",
    "    <li>Why is the index not unique?</li>\n",
    "    <li>Limit the name2017 DataFrame object to the first 18309 rows and check that the index is unique.</li>\n",
    "</ul>\n",
    "</div>"
   ]
  },
  {
   "cell_type": "code",
   "execution_count": 74,
   "metadata": {},
   "outputs": [
    {
     "data": {
      "text/plain": [
       "True"
      ]
     },
     "execution_count": 74,
     "metadata": {},
     "output_type": "execute_result"
    }
   ],
   "source": [
    "name2017 = name2017.head(18309)\n",
    "name2017.index.is_unique"
   ]
  },
  {
   "cell_type": "code",
   "execution_count": null,
   "metadata": {},
   "outputs": [],
   "source": [
    "# %load session2/ex_04.py"
   ]
  },
  {
   "cell_type": "markdown",
   "metadata": {},
   "source": [
    "### 2.2.3 Vectorial operations with DataFrame\n",
    "\n",
    "Usual statistical functions available for `Series` objects are also available for `DataFrame` objects: e.g., `sum()`, `min()`, `max()`, `mean()`, `median()`, `std()`, `var()`, `cumsum()`, `cumprod()`, `cummin()`, `cummax()`, `idxmin()`, `idxmax()`.\n",
    "\n",
    "- `f(axis=0)` invokes a function `f` to each <b>column</b> of a `DataFrame` object and returns a <b>row-like</b> result.\n",
    "- `f(axis=1)` invokes a function `f` to each <b>row</b> of a `DataFrame` object and returns a <b>column-like</b> result."
   ]
  },
  {
   "cell_type": "code",
   "execution_count": 75,
   "metadata": {},
   "outputs": [
    {
     "data": {
      "text/plain": [
       "gender        F\n",
       "births    19738\n",
       "dtype: object"
      ]
     },
     "execution_count": 75,
     "metadata": {},
     "output_type": "execute_result"
    }
   ],
   "source": [
    "# max of columns\n",
    "name2017.max()"
   ]
  },
  {
   "cell_type": "code",
   "execution_count": 76,
   "metadata": {},
   "outputs": [
    {
     "data": {
      "text/html": [
       "<div>\n",
       "<style scoped>\n",
       "    .dataframe tbody tr th:only-of-type {\n",
       "        vertical-align: middle;\n",
       "    }\n",
       "\n",
       "    .dataframe tbody tr th {\n",
       "        vertical-align: top;\n",
       "    }\n",
       "\n",
       "    .dataframe thead th {\n",
       "        text-align: right;\n",
       "    }\n",
       "</style>\n",
       "<table border=\"1\" class=\"dataframe\">\n",
       "  <thead>\n",
       "    <tr style=\"text-align: right;\">\n",
       "      <th></th>\n",
       "      <th>name</th>\n",
       "      <th>gender</th>\n",
       "      <th>births</th>\n",
       "    </tr>\n",
       "  </thead>\n",
       "  <tbody>\n",
       "    <tr>\n",
       "      <th>0</th>\n",
       "      <td>Emma</td>\n",
       "      <td>F</td>\n",
       "      <td>19738</td>\n",
       "    </tr>\n",
       "    <tr>\n",
       "      <th>1</th>\n",
       "      <td>Olivia</td>\n",
       "      <td>F</td>\n",
       "      <td>18632</td>\n",
       "    </tr>\n",
       "    <tr>\n",
       "      <th>2</th>\n",
       "      <td>Ava</td>\n",
       "      <td>F</td>\n",
       "      <td>15902</td>\n",
       "    </tr>\n",
       "    <tr>\n",
       "      <th>3</th>\n",
       "      <td>Isabella</td>\n",
       "      <td>F</td>\n",
       "      <td>15100</td>\n",
       "    </tr>\n",
       "    <tr>\n",
       "      <th>4</th>\n",
       "      <td>Sophia</td>\n",
       "      <td>F</td>\n",
       "      <td>14831</td>\n",
       "    </tr>\n",
       "  </tbody>\n",
       "</table>\n",
       "</div>"
      ],
      "text/plain": [
       "       name gender  births\n",
       "0      Emma      F   19738\n",
       "1    Olivia      F   18632\n",
       "2       Ava      F   15902\n",
       "3  Isabella      F   15100\n",
       "4    Sophia      F   14831"
      ]
     },
     "execution_count": 76,
     "metadata": {},
     "output_type": "execute_result"
    }
   ],
   "source": [
    "# max of rows\n",
    "df2017.head()#min(axis=1)"
   ]
  },
  {
   "cell_type": "markdown",
   "metadata": {},
   "source": [
    "# 3. Accessing to data\n",
    "\n",
    "Observation about the vocabulary:\n",
    "- Objects of type `Series` and `DataFrame` have index which might be integer (by default) or more generally labels such as strings. When the index is unique, these objects behave like a dictionary which is accessed with a key.\n",
    "- These objects are also based on `numpy.ndarray` vectors or tables which can be accessed by position, i.e. by an integer (starting at 0). Therefore these objects may also behave like an ordered sequence of 1 or 2 dimensions which is accessed with a position.\n",
    "\n",
    "The notation used for ordered sequences in `Python`, and `ndarray` in `numpy`, has been re-used for index of `Series` and `DataFrame`,with a slightly difference:\n",
    "- When 2 labels are indicated, the second label is included in the selection, contrary to standard `Python` and `numpy` slicing.\n",
    "- When 2 labels are indicated, the notation works only if the index is unique."
   ]
  },
  {
   "cell_type": "markdown",
   "metadata": {},
   "source": [
    "## 3.1 Accessing to data from Series\n",
    "\n",
    "Several operators enable to access to data from Series.\n",
    "- `[]`: selection with a label or a position (if the index is not made of integers)\n",
    "    - `s[i]`: selection of a single label or position\n",
    "    - `s[[i, j, k]]`: selection of several labels or positions (also called fancy indexing)\n",
    "    - `s[i:j]`, `s[i:j:k]`: selection of a slice (`j` is included when it is a label and excluded when it is a position)\n",
    "    - `s[mask]`: selection from a boolean mask sharing the very same index than the `Series` object, `True` = selection, `False` = non selection\n",
    "- `.loc[]`: idem but reserved to labels\n",
    "- `.iloc[]`: idem but reserved to positions\n",
    "\n",
    "When the selection corresponds to a single value, it returns a scalar value.\n",
    "\n",
    "When the selection corresponds to several values, it returns a `Series` object."
   ]
  },
  {
   "cell_type": "code",
   "execution_count": 77,
   "metadata": {},
   "outputs": [
    {
     "data": {
      "text/plain": [
       "name\n",
       "Emma         19738\n",
       "Olivia       18632\n",
       "Ava          15902\n",
       "Isabella     15100\n",
       "Sophia       14831\n",
       "Mia          13437\n",
       "Charlotte    12893\n",
       "Amelia       11800\n",
       "             ...  \n",
       "Zulmy            5\n",
       "Zyannah          5\n",
       "Zyiana           5\n",
       "Zyianna          5\n",
       "Zykira           5\n",
       "Zymia            5\n",
       "Zynia            5\n",
       "Zyonn            5\n",
       "Name: births, Length: 18309, dtype: int64"
      ]
     },
     "execution_count": 77,
     "metadata": {},
     "output_type": "execute_result"
    }
   ],
   "source": [
    "# selection of a column\n",
    "s = name2017[\"births\"]\n",
    "s"
   ]
  },
  {
   "cell_type": "markdown",
   "metadata": {},
   "source": [
    "### 3.1.1 Selection in Series by label or position"
   ]
  },
  {
   "cell_type": "code",
   "execution_count": 79,
   "metadata": {},
   "outputs": [
    {
     "data": {
      "text/plain": [
       "19738"
      ]
     },
     "execution_count": 79,
     "metadata": {},
     "output_type": "execute_result"
    }
   ],
   "source": [
    "# selection by label\n",
    "s.loc[\"Emma\"] # or s[\"Emma\"]"
   ]
  },
  {
   "cell_type": "code",
   "execution_count": 80,
   "metadata": {},
   "outputs": [
    {
     "data": {
      "text/plain": [
       "19738"
      ]
     },
     "execution_count": 80,
     "metadata": {},
     "output_type": "execute_result"
    }
   ],
   "source": [
    "# selection by position\n",
    "s.iloc[0] # or s[0]"
   ]
  },
  {
   "cell_type": "code",
   "execution_count": 81,
   "metadata": {},
   "outputs": [
    {
     "data": {
      "text/plain": [
       "name\n",
       "Emma      19738\n",
       "Sophia    14831\n",
       "Mia       13437\n",
       "Name: births, dtype: int64"
      ]
     },
     "execution_count": 81,
     "metadata": {},
     "output_type": "execute_result"
    }
   ],
   "source": [
    "# selection by a list of labels\n",
    "s.loc[[\"Emma\", \"Sophia\", \"Mia\"]]  # or s[[\"Emma\", \"Sophia\", \"Mia\"]]"
   ]
  },
  {
   "cell_type": "code",
   "execution_count": 82,
   "metadata": {},
   "outputs": [
    {
     "data": {
      "text/plain": [
       "name\n",
       "Emma    19738\n",
       "Ava     15902\n",
       "Mia     13437\n",
       "Name: births, dtype: int64"
      ]
     },
     "execution_count": 82,
     "metadata": {},
     "output_type": "execute_result"
    }
   ],
   "source": [
    "# selection by a list of positions\n",
    "s.iloc[[0, 2, 5]]  # or s[[0, 2, 5]]"
   ]
  },
  {
   "cell_type": "code",
   "execution_count": 78,
   "metadata": {},
   "outputs": [
    {
     "data": {
      "text/plain": [
       "name\n",
       "Emma        19738\n",
       "Olivia      18632\n",
       "Ava         15902\n",
       "Isabella    15100\n",
       "Sophia      14831\n",
       "Mia         13437\n",
       "Name: births, dtype: int64"
      ]
     },
     "execution_count": 78,
     "metadata": {},
     "output_type": "execute_result"
    }
   ],
   "source": [
    "# selection by a slice of index\n",
    "# Warning label \"Mia\" is included\n",
    "s.loc[\"Emma\":\"Mia\"]  # or s[\"Emma\":\"Mia\"]"
   ]
  },
  {
   "cell_type": "code",
   "execution_count": 83,
   "metadata": {},
   "outputs": [
    {
     "data": {
      "text/plain": [
       "name\n",
       "Emma      19738\n",
       "Ava       15902\n",
       "Sophia    14831\n",
       "Name: births, dtype: int64"
      ]
     },
     "execution_count": 83,
     "metadata": {},
     "output_type": "execute_result"
    }
   ],
   "source": [
    "# selection by a slice of index\n",
    "# Warning label \"Mia\" is included\n",
    "s.loc[\"Emma\":\"Mia\":2]  # or s[\"Emma\":\"Mia\":2]"
   ]
  },
  {
   "cell_type": "code",
   "execution_count": 84,
   "metadata": {},
   "outputs": [
    {
     "data": {
      "text/plain": [
       "name\n",
       "Emma        19738\n",
       "Olivia      18632\n",
       "Ava         15902\n",
       "Isabella    15100\n",
       "Sophia      14831\n",
       "Mia         13437\n",
       "Name: births, dtype: int64"
      ]
     },
     "execution_count": 84,
     "metadata": {},
     "output_type": "execute_result"
    }
   ],
   "source": [
    "# selection by a slice of positions\n",
    "# Warning position 6 is excluded\n",
    "s.iloc[0:6]  # or s[0:6]"
   ]
  },
  {
   "cell_type": "code",
   "execution_count": 85,
   "metadata": {},
   "outputs": [
    {
     "data": {
      "text/plain": [
       "name\n",
       "Emma      19738\n",
       "Ava       15902\n",
       "Sophia    14831\n",
       "Name: births, dtype: int64"
      ]
     },
     "execution_count": 85,
     "metadata": {},
     "output_type": "execute_result"
    }
   ],
   "source": [
    "# selection by a slice of positions\n",
    "# Warning position 6 is excluded\n",
    "s.iloc[0:6:2]  # or s[0:6:2]"
   ]
  },
  {
   "cell_type": "markdown",
   "metadata": {},
   "source": [
    "### 3.1.2 Selection in Series with a boolean mask\n",
    "\n",
    "It is possible to perform a selection in `Series` object with a boolean mask, i.e. a boolean Series objects sharing the same index than the initial `Series`.\n",
    "\n",
    "The easiest way is to build a boolean `Series` object from the `Series` object itself.\n",
    "\n",
    "It is possible to combine boolean masks using logicial operations between boolean objects of type `Series`:\n",
    "\n",
    "- AND is `&`\n",
    "- OR is `|`\n",
    "- NOT is `~`"
   ]
  },
  {
   "cell_type": "code",
   "execution_count": 86,
   "metadata": {},
   "outputs": [
    {
     "data": {
      "text/plain": [
       "0               Mary\n",
       "1               Anna\n",
       "2               Emma\n",
       "3          Elizabeth\n",
       "4             Minnie\n",
       "5           Margaret\n",
       "6                Ida\n",
       "7              Alice\n",
       "             ...    \n",
       "1924657         Zyel\n",
       "1924658       Zyheem\n",
       "1924659       Zyhier\n",
       "1924660        Zykai\n",
       "1924661       Zykeem\n",
       "1924662        Zylin\n",
       "1924663        Zylis\n",
       "1924664        Zyrie\n",
       "Name: name, Length: 1924665, dtype: object"
      ]
     },
     "execution_count": 86,
     "metadata": {},
     "output_type": "execute_result"
    }
   ],
   "source": [
    "# all names\n",
    "s = df[\"name\"]\n",
    "s"
   ]
  },
  {
   "cell_type": "code",
   "execution_count": 87,
   "metadata": {},
   "outputs": [
    {
     "data": {
      "text/plain": [
       "0          False\n",
       "1           True\n",
       "2          False\n",
       "3          False\n",
       "4          False\n",
       "5          False\n",
       "6          False\n",
       "7           True\n",
       "           ...  \n",
       "1924657    False\n",
       "1924658    False\n",
       "1924659    False\n",
       "1924660    False\n",
       "1924661    False\n",
       "1924662    False\n",
       "1924663    False\n",
       "1924664    False\n",
       "Name: name, Length: 1924665, dtype: bool"
      ]
     },
     "execution_count": 87,
     "metadata": {},
     "output_type": "execute_result"
    }
   ],
   "source": [
    "# boolean vector according if the name starts with an \"A\"\n",
    "mask = s.str.startswith(\"A\")  #burdaki s en basta yazan ustte tanımladıgım s \n",
    "mask"
   ]
  },
  {
   "cell_type": "code",
   "execution_count": 88,
   "metadata": {},
   "outputs": [
    {
     "data": {
      "text/plain": [
       "1             Anna\n",
       "7            Alice\n",
       "10           Annie\n",
       "32             Ada\n",
       "53           Agnes\n",
       "81            Alma\n",
       "82           Addie\n",
       "88          Amanda\n",
       "            ...   \n",
       "1922906     Ayston\n",
       "1922907      Ayvan\n",
       "1922908      Azani\n",
       "1922909    Azavier\n",
       "1922910       Azen\n",
       "1922911    Azeriah\n",
       "1922912      Azier\n",
       "1922913       Azra\n",
       "Name: name, Length: 187950, dtype: object"
      ]
     },
     "execution_count": 88,
     "metadata": {},
     "output_type": "execute_result"
    }
   ],
   "source": [
    "# selection from a boolean mask\n",
    "s2 = s.loc[mask]  # or s[mask]\n",
    "s2"
   ]
  },
  {
   "cell_type": "code",
   "execution_count": 89,
   "metadata": {},
   "outputs": [
    {
     "data": {
      "text/plain": [
       "1056          Nathan\n",
       "1146       Nathaniel\n",
       "1961       Nathanial\n",
       "2724        Nathalie\n",
       "3073          Nathan\n",
       "3158       Nathaniel\n",
       "5086          Nathan\n",
       "5181       Nathaniel\n",
       "             ...    \n",
       "1912905    Nathanial\n",
       "1913039       Nathen\n",
       "1917867     Nathanel\n",
       "1918408       Nathyn\n",
       "1919074       Nathon\n",
       "1920883    Nathaneal\n",
       "1924065    Nathanyel\n",
       "1924066      Nathias\n",
       "Name: name, Length: 1736, dtype: object"
      ]
     },
     "execution_count": 89,
     "metadata": {},
     "output_type": "execute_result"
    }
   ],
   "source": [
    "# names starting with \"Nath\"\n",
    "s.loc[s.str.startswith(\"Nath\")]"
   ]
  },
  {
   "cell_type": "markdown",
   "metadata": {},
   "source": [
    "<div class=\"alert alert-success\">\n",
    "**Exercise 5**\n",
    "<ul>\n",
    "<li>Which names start with a \"Z\"?</li>\n",
    "<li>Which names end with a \"z\"?</li>\n",
    "<li>Which names start with a \"Z\" and end with a \"z\"?</li>\n",
    "</ul>\n",
    "</div>"
   ]
  },
  {
   "cell_type": "code",
   "execution_count": 90,
   "metadata": {},
   "outputs": [
    {
     "data": {
      "text/plain": [
       "280         Zella\n",
       "303          Zora\n",
       "307          Zula\n",
       "340           Zoe\n",
       "386         Zelma\n",
       "490          Zada\n",
       "675         Zetta\n",
       "676           Zoa\n",
       "            ...  \n",
       "1924657      Zyel\n",
       "1924658    Zyheem\n",
       "1924659    Zyhier\n",
       "1924660     Zykai\n",
       "1924661    Zykeem\n",
       "1924662     Zylin\n",
       "1924663     Zylis\n",
       "1924664     Zyrie\n",
       "Name: name, Length: 23452, dtype: object"
      ]
     },
     "execution_count": 90,
     "metadata": {},
     "output_type": "execute_result"
    }
   ],
   "source": [
    "s.loc[s.str.startswith(\"Z\")]"
   ]
  },
  {
   "cell_type": "code",
   "execution_count": null,
   "metadata": {},
   "outputs": [],
   "source": [
    "# %load session2/ex_05.py"
   ]
  },
  {
   "cell_type": "code",
   "execution_count": 94,
   "metadata": {
    "scrolled": true
   },
   "outputs": [
    {
     "data": {
      "text/plain": [
       "140           Inez\n",
       "1349         Fritz\n",
       "1778          Cruz\n",
       "1929         Jabez\n",
       "2149          Inez\n",
       "3606         Fritz\n",
       "4090          Inez\n",
       "5356         Fritz\n",
       "            ...   \n",
       "1924347    Shawaiz\n",
       "1924398     Stilez\n",
       "1924441      Tarez\n",
       "1924448       Tazz\n",
       "1924468     Thomaz\n",
       "1924514      Tyrez\n",
       "1924578      Yagiz\n",
       "1924588      Yavuz\n",
       "Name: name, Length: 7171, dtype: object"
      ]
     },
     "execution_count": 94,
     "metadata": {},
     "output_type": "execute_result"
    }
   ],
   "source": [
    "s.loc[s.str.endswith(\"z\")]  #buyuk Z degil kucuk z olması lazım son harf oldugu icin"
   ]
  },
  {
   "cell_type": "code",
   "execution_count": 95,
   "metadata": {},
   "outputs": [
    {
     "data": {
      "text/plain": [
       "1332737    Zyquez\n",
       "1551207    Zyquez\n",
       "1583538    Zyquez\n",
       "1616296    Zyquez\n",
       "1721126    Zyquez\n",
       "1826111    Zoraiz\n",
       "1853909    Zoraiz\n",
       "1888736    Zoraiz\n",
       "1921199    Zoraiz\n",
       "Name: name, dtype: object"
      ]
     },
     "execution_count": 95,
     "metadata": {},
     "output_type": "execute_result"
    }
   ],
   "source": [
    "s.loc[s.str.startswith(\"Z\") & s.str.endswith(\"z\") ]"
   ]
  },
  {
   "cell_type": "code",
   "execution_count": 97,
   "metadata": {},
   "outputs": [
    {
     "data": {
      "text/plain": [
       "array(['Aziz', 'Aziza', 'Azizi', 'Azizah', 'Abdulaziz', 'Abdelaziz',\n",
       "       'Abdiaziz', 'Aranzazu', 'Azuzena', 'Azazel', 'Abdoulaziz', 'Zzyzx',\n",
       "       'Azizjon', 'Ezoza'], dtype=object)"
      ]
     },
     "execution_count": 97,
     "metadata": {},
     "output_type": "execute_result"
    }
   ],
   "source": [
    "# names that contain 2 \"z\" separated by at least one character\n",
    "s.loc[s.str.contains(\"z.z\")].unique()   #zler ortasına . koyarsan z arada herhangi bi harf ve z olan names leri goster "
   ]
  },
  {
   "cell_type": "code",
   "execution_count": 98,
   "metadata": {},
   "outputs": [
    {
     "data": {
      "text/plain": [
       "array(['Lizzie', 'Kizzie', 'Dezzie', 'Nezzie', 'Ozzie', 'Azzie', 'Mazzie',\n",
       "       'Izzie', 'Lizzy', 'Elizzie', 'Hezzie', 'Ezzie', 'Nazzareno',\n",
       "       'Izzy', 'Lizzette', 'Hazzie', 'Lazzaro', 'Rozzie', 'Buzzy', 'Buzz',\n",
       "       'Dizzy', 'Yazzie', 'Suzzanne', 'Suzzette', 'Suzzane', 'Ezzard',\n",
       "       'Suzzanna', 'Suzzie', 'Lizz', 'Melizza', 'Cazzie', 'Lizza',\n",
       "       'Shabazz', 'Lizzett', 'Lizzet', 'Kizzy', 'Kizzi', 'Kizzey',\n",
       "       'Lakizzy', 'Kezzy', 'Brezzy', 'Kezzie', 'Lizzeth', 'Rizza',\n",
       "       'Jazzmine', 'Kizze', 'Chazz', 'Jazzmin', 'Ozzy', 'Jazzmen',\n",
       "       'Jazzlyn', 'Jazz', 'Jazzma', 'Jazzman', 'Vanezza', 'Jazzlynn',\n",
       "       'Yizza', 'Lizzete', 'Jazzmon', 'Calizza', 'Lizzieann', 'Jazzmyn',\n",
       "       'Uzziel', 'Jazzy', 'Jazzmyne', 'Jazzalyn', 'Jazzi', 'Jazzie',\n",
       "       'Alyzza', 'Jazzlin', 'Gizzel', 'Jazzmene', 'Marizza', 'Tazz',\n",
       "       'Yazzmine', 'Azzam', 'Kazz', 'Kazzandra', 'Jazzae', 'Uzziah',\n",
       "       'Jazzia', 'Fizza', 'Jazzmaine', 'Julizza', 'Mazzy', 'Jazzmun',\n",
       "       'Jazzmond', 'Izzat', 'Yulizza', 'Azza', 'Jazzminn', 'Izzabella',\n",
       "       'Dazza', 'Elizza', 'Jazzarae', 'Izzac', 'Muzzammil', 'Alizza',\n",
       "       'Jazzlyne', 'Fabrizzio', 'Azzan', 'Izzak', 'Litzzy', 'Gizzelle',\n",
       "       'Brizza', 'Jazzelle', 'Izza', 'Azzure', 'Izzabelle', 'Larizza',\n",
       "       'Jazziel', 'Izziah', 'Aizza', 'Yazzmin', 'Lizzbeth', 'Dazzlyn',\n",
       "       'Mazzi', 'Hazzel', 'Azzaria', 'Izzabell', 'Ozziel', 'Azzareya',\n",
       "       'Jazzalynn', 'Lizzi', 'Azziah', 'Izzah', 'Jazzell', 'Condoleezza',\n",
       "       'Jazzel', 'Jazzlynne', 'Jezzel', 'Jizzel', 'Izzi', 'Jazzlene',\n",
       "       'Jizzelle', 'Jazzelyn', 'Izzaiah', 'Alizzon', 'Allizzon',\n",
       "       'Izzabela', 'Jazziah', 'Brizzia', 'Izzibella', 'Jazzanae',\n",
       "       'Jezzelle', 'Yaritzza', 'Jazzleen', 'Izzabel', 'Izzabellah',\n",
       "       'Jozzlynn', 'Dezzarae', 'Ezzah', 'Jazzilyn', 'Jazzabella',\n",
       "       'Jazzariah', 'Jazzmarie', 'Muizz', 'Enzzo', 'Izzik', 'Mezziah',\n",
       "       'Jazzilynn', 'Elizzabeth', 'Jazzabelle', 'Izzybella', 'Rozzlyn',\n",
       "       'Yazziel', 'Elyzza', 'Jazzmynn', 'Azzahra', 'Daleyzza', 'Grizzly',\n",
       "       'Rizzo', 'Drizzt', 'Izzack', 'Uzziyah', 'Ozzi'], dtype=object)"
      ]
     },
     "execution_count": 98,
     "metadata": {},
     "output_type": "execute_result"
    }
   ],
   "source": [
    "s.loc[s.str.contains(\"zz\")].unique()"
   ]
  },
  {
   "cell_type": "markdown",
   "metadata": {},
   "source": [
    "<div class=\"alert alert-info\">\n",
    "<b>Tip</b><br />\n",
    "**Regular expressions**, or **regex**, enable to capture paterns in strings. In this kind of expressions, some characters have a special meaning to perform matching:\n",
    "<ul>\n",
    "    <li>`.`: matches any character</li>\n",
    "    <li>`^`: matches the start of the string</li>\n",
    "    <li>`$`: matches the end of the string</li>\n",
    "    <li>`*`: matches 0 or more repetitions of the preceding expression</li>\n",
    "    <li>`+`: matches 1 or more repetitions of the preceding expression</li>\n",
    "    <li>`?`: matches 0 or 1 repetition of the preceding expression</li>\n",
    "    <li>Prefix any of those special characters with a backslash `\\` so that they are considered as standard characters</li>\n",
    "</ul>\n",
    "The string method  `contains()` tackles by default with regular expressions. Use the `regex=False` option to search for literals.\n",
    "</div>"
   ]
  },
  {
   "cell_type": "code",
   "execution_count": 99,
   "metadata": {},
   "outputs": [
    {
     "data": {
      "text/plain": [
       "array(['Kazimierz', 'Krzysztof', 'Aziz', 'Aziza', 'Azizi', 'Azizah',\n",
       "       'Abdulaziz', 'Grzegorz', 'Nixzaliz', 'Azeez', 'Abdelaziz',\n",
       "       'Abdulazeez', 'Abdiaziz', 'Aranzazu', 'Azuzena', 'Ezperanza',\n",
       "       'Azazel', 'Abdoulaziz', 'Zzyzx', 'Azeeza', 'Azizjon', 'Ezoza'],\n",
       "      dtype=object)"
      ]
     },
     "execution_count": 99,
     "metadata": {},
     "output_type": "execute_result"
    }
   ],
   "source": [
    "s.loc[s.str.contains(\"z.+z\")].unique() #z ve arada herhangi harfler olsun z'ler arasında "
   ]
  },
  {
   "cell_type": "markdown",
   "metadata": {},
   "source": [
    "<div class=\"alert alert-warning\">\n",
    "<b>Further reading</b>\n",
    "<ul>\n",
    "    <li>Regular expressions are useful when dealing with textual information.</li>\n",
    "    <li>For more information on regular expressions in Python, see: https://docs.python.org/3.6/library/re.html</li>\n",
    "</ul>\n",
    "</div>"
   ]
  },
  {
   "cell_type": "markdown",
   "metadata": {},
   "source": [
    "## 3.2 Accessing to data from DataFrame\n",
    "\n",
    "Same operators enable to access to data from `DataFrame`.\n",
    "- `[]`: selection of a column with a label or a position (if the column names are not made of integers)\n",
    "    - `df[i]`: selection of a single column by label or position\n",
    "    - `df[[i, j, k]]`: selection of several columns by labels or positions (fancy indexing)\n",
    "    - `df[i:j]`, `df[i:j:k]`: selection of a slice (`j` is included when it is a label and excluded when it is a position)\n",
    "    - `df[mask]`: selection from a boolean mask sharing the very same index than the `DataFrame` object, `True` = selection, `False` = non selection\n",
    "- `.loc[x, y]`: idem but reserved to labels, when y is not defined all columns are returned\n",
    "- `.iloc[x, y]`: idem but reserved to positions, when y is not defined all columns are returned\n",
    "\n",
    "When the selection corresponds to a single value, it returns a scalar value.\n",
    "\n",
    "When the selection corresponds to a part of column or of a row, it returns a `Series` object. When it is a subpart of a column, its index is a subpart of the index of the initial `DataFrame`. When it is a subpart of a row, its index is a subpart of the columns of the initial `DataFrame`.\n",
    "\n",
    "When the selection corresponds to several rows and several columns, it returns a `DataFrame` object, which index is is a subpart of the index of the initial `DataFrame` and the columns a subpart of the columns of the initial `DataFrame`."
   ]
  },
  {
   "cell_type": "markdown",
   "metadata": {},
   "source": [
    "### 3.2.1 Selecting columns in DataFrame\n",
    "\n",
    "When selecting a single column, we obtain a `Series` object which shares the same index than the `DataFrame`.\n",
    "\n",
    "When selecting several columns, we obtain a new `DataFrame`: subset of the original one and sharing the same index with as many rows.\n",
    "\n",
    "This last technique enables also to reorder the columns of a `DataFrame`."
   ]
  },
  {
   "cell_type": "code",
   "execution_count": 101,
   "metadata": {},
   "outputs": [
    {
     "data": {
      "text/html": [
       "<div>\n",
       "<style scoped>\n",
       "    .dataframe tbody tr th:only-of-type {\n",
       "        vertical-align: middle;\n",
       "    }\n",
       "\n",
       "    .dataframe tbody tr th {\n",
       "        vertical-align: top;\n",
       "    }\n",
       "\n",
       "    .dataframe thead th {\n",
       "        text-align: right;\n",
       "    }\n",
       "</style>\n",
       "<table border=\"1\" class=\"dataframe\">\n",
       "  <thead>\n",
       "    <tr style=\"text-align: right;\">\n",
       "      <th></th>\n",
       "      <th>name</th>\n",
       "      <th>gender</th>\n",
       "    </tr>\n",
       "  </thead>\n",
       "  <tbody>\n",
       "    <tr>\n",
       "      <th>0</th>\n",
       "      <td>Mary</td>\n",
       "      <td>F</td>\n",
       "    </tr>\n",
       "    <tr>\n",
       "      <th>1</th>\n",
       "      <td>Anna</td>\n",
       "      <td>F</td>\n",
       "    </tr>\n",
       "    <tr>\n",
       "      <th>2</th>\n",
       "      <td>Emma</td>\n",
       "      <td>F</td>\n",
       "    </tr>\n",
       "    <tr>\n",
       "      <th>3</th>\n",
       "      <td>Elizabeth</td>\n",
       "      <td>F</td>\n",
       "    </tr>\n",
       "    <tr>\n",
       "      <th>4</th>\n",
       "      <td>Minnie</td>\n",
       "      <td>F</td>\n",
       "    </tr>\n",
       "    <tr>\n",
       "      <th>5</th>\n",
       "      <td>Margaret</td>\n",
       "      <td>F</td>\n",
       "    </tr>\n",
       "    <tr>\n",
       "      <th>6</th>\n",
       "      <td>Ida</td>\n",
       "      <td>F</td>\n",
       "    </tr>\n",
       "    <tr>\n",
       "      <th>7</th>\n",
       "      <td>Alice</td>\n",
       "      <td>F</td>\n",
       "    </tr>\n",
       "    <tr>\n",
       "      <th>...</th>\n",
       "      <td>...</td>\n",
       "      <td>...</td>\n",
       "    </tr>\n",
       "    <tr>\n",
       "      <th>1924657</th>\n",
       "      <td>Zyel</td>\n",
       "      <td>M</td>\n",
       "    </tr>\n",
       "    <tr>\n",
       "      <th>1924658</th>\n",
       "      <td>Zyheem</td>\n",
       "      <td>M</td>\n",
       "    </tr>\n",
       "    <tr>\n",
       "      <th>1924659</th>\n",
       "      <td>Zyhier</td>\n",
       "      <td>M</td>\n",
       "    </tr>\n",
       "    <tr>\n",
       "      <th>1924660</th>\n",
       "      <td>Zykai</td>\n",
       "      <td>M</td>\n",
       "    </tr>\n",
       "    <tr>\n",
       "      <th>1924661</th>\n",
       "      <td>Zykeem</td>\n",
       "      <td>M</td>\n",
       "    </tr>\n",
       "    <tr>\n",
       "      <th>1924662</th>\n",
       "      <td>Zylin</td>\n",
       "      <td>M</td>\n",
       "    </tr>\n",
       "    <tr>\n",
       "      <th>1924663</th>\n",
       "      <td>Zylis</td>\n",
       "      <td>M</td>\n",
       "    </tr>\n",
       "    <tr>\n",
       "      <th>1924664</th>\n",
       "      <td>Zyrie</td>\n",
       "      <td>M</td>\n",
       "    </tr>\n",
       "  </tbody>\n",
       "</table>\n",
       "<p>1924665 rows × 2 columns</p>\n",
       "</div>"
      ],
      "text/plain": [
       "              name gender\n",
       "0             Mary      F\n",
       "1             Anna      F\n",
       "2             Emma      F\n",
       "3        Elizabeth      F\n",
       "4           Minnie      F\n",
       "5         Margaret      F\n",
       "6              Ida      F\n",
       "7            Alice      F\n",
       "...            ...    ...\n",
       "1924657       Zyel      M\n",
       "1924658     Zyheem      M\n",
       "1924659     Zyhier      M\n",
       "1924660      Zykai      M\n",
       "1924661     Zykeem      M\n",
       "1924662      Zylin      M\n",
       "1924663      Zylis      M\n",
       "1924664      Zyrie      M\n",
       "\n",
       "[1924665 rows x 2 columns]"
      ]
     },
     "execution_count": 101,
     "metadata": {},
     "output_type": "execute_result"
    }
   ],
   "source": [
    "# selection of columns by labels\n",
    "df[[\"name\", \"gender\"]]"
   ]
  },
  {
   "cell_type": "markdown",
   "metadata": {},
   "source": [
    "**With the `.loc[]` operator**\n",
    "- the first argument selects rows; to select all rows one can put a column `:`\n",
    "- the second argument selects columns (optionnal)"
   ]
  },
  {
   "cell_type": "code",
   "execution_count": 102,
   "metadata": {},
   "outputs": [
    {
     "data": {
      "text/html": [
       "<div>\n",
       "<style scoped>\n",
       "    .dataframe tbody tr th:only-of-type {\n",
       "        vertical-align: middle;\n",
       "    }\n",
       "\n",
       "    .dataframe tbody tr th {\n",
       "        vertical-align: top;\n",
       "    }\n",
       "\n",
       "    .dataframe thead th {\n",
       "        text-align: right;\n",
       "    }\n",
       "</style>\n",
       "<table border=\"1\" class=\"dataframe\">\n",
       "  <thead>\n",
       "    <tr style=\"text-align: right;\">\n",
       "      <th></th>\n",
       "      <th>name</th>\n",
       "      <th>gender</th>\n",
       "    </tr>\n",
       "  </thead>\n",
       "  <tbody>\n",
       "    <tr>\n",
       "      <th>0</th>\n",
       "      <td>Mary</td>\n",
       "      <td>F</td>\n",
       "    </tr>\n",
       "    <tr>\n",
       "      <th>1</th>\n",
       "      <td>Anna</td>\n",
       "      <td>F</td>\n",
       "    </tr>\n",
       "    <tr>\n",
       "      <th>2</th>\n",
       "      <td>Emma</td>\n",
       "      <td>F</td>\n",
       "    </tr>\n",
       "    <tr>\n",
       "      <th>3</th>\n",
       "      <td>Elizabeth</td>\n",
       "      <td>F</td>\n",
       "    </tr>\n",
       "    <tr>\n",
       "      <th>4</th>\n",
       "      <td>Minnie</td>\n",
       "      <td>F</td>\n",
       "    </tr>\n",
       "    <tr>\n",
       "      <th>5</th>\n",
       "      <td>Margaret</td>\n",
       "      <td>F</td>\n",
       "    </tr>\n",
       "    <tr>\n",
       "      <th>6</th>\n",
       "      <td>Ida</td>\n",
       "      <td>F</td>\n",
       "    </tr>\n",
       "    <tr>\n",
       "      <th>7</th>\n",
       "      <td>Alice</td>\n",
       "      <td>F</td>\n",
       "    </tr>\n",
       "    <tr>\n",
       "      <th>...</th>\n",
       "      <td>...</td>\n",
       "      <td>...</td>\n",
       "    </tr>\n",
       "    <tr>\n",
       "      <th>1924657</th>\n",
       "      <td>Zyel</td>\n",
       "      <td>M</td>\n",
       "    </tr>\n",
       "    <tr>\n",
       "      <th>1924658</th>\n",
       "      <td>Zyheem</td>\n",
       "      <td>M</td>\n",
       "    </tr>\n",
       "    <tr>\n",
       "      <th>1924659</th>\n",
       "      <td>Zyhier</td>\n",
       "      <td>M</td>\n",
       "    </tr>\n",
       "    <tr>\n",
       "      <th>1924660</th>\n",
       "      <td>Zykai</td>\n",
       "      <td>M</td>\n",
       "    </tr>\n",
       "    <tr>\n",
       "      <th>1924661</th>\n",
       "      <td>Zykeem</td>\n",
       "      <td>M</td>\n",
       "    </tr>\n",
       "    <tr>\n",
       "      <th>1924662</th>\n",
       "      <td>Zylin</td>\n",
       "      <td>M</td>\n",
       "    </tr>\n",
       "    <tr>\n",
       "      <th>1924663</th>\n",
       "      <td>Zylis</td>\n",
       "      <td>M</td>\n",
       "    </tr>\n",
       "    <tr>\n",
       "      <th>1924664</th>\n",
       "      <td>Zyrie</td>\n",
       "      <td>M</td>\n",
       "    </tr>\n",
       "  </tbody>\n",
       "</table>\n",
       "<p>1924665 rows × 2 columns</p>\n",
       "</div>"
      ],
      "text/plain": [
       "              name gender\n",
       "0             Mary      F\n",
       "1             Anna      F\n",
       "2             Emma      F\n",
       "3        Elizabeth      F\n",
       "4           Minnie      F\n",
       "5         Margaret      F\n",
       "6              Ida      F\n",
       "7            Alice      F\n",
       "...            ...    ...\n",
       "1924657       Zyel      M\n",
       "1924658     Zyheem      M\n",
       "1924659     Zyhier      M\n",
       "1924660      Zykai      M\n",
       "1924661     Zykeem      M\n",
       "1924662      Zylin      M\n",
       "1924663      Zylis      M\n",
       "1924664      Zyrie      M\n",
       "\n",
       "[1924665 rows x 2 columns]"
      ]
     },
     "execution_count": 102,
     "metadata": {},
     "output_type": "execute_result"
    }
   ],
   "source": [
    "# selection of columns by labels using .loc\n",
    "# the : alone stands for all rows from start to end\n",
    "df.loc[:, [\"name\", \"gender\"]]"
   ]
  },
  {
   "cell_type": "markdown",
   "metadata": {},
   "source": [
    "**With the `.iloc[]` operator**\n",
    "- the first argument selects rows; to select all rows one can put a column `:`\n",
    "- the second argument selects columns (optionnal)"
   ]
  },
  {
   "cell_type": "code",
   "execution_count": 103,
   "metadata": {},
   "outputs": [
    {
     "data": {
      "text/html": [
       "<div>\n",
       "<style scoped>\n",
       "    .dataframe tbody tr th:only-of-type {\n",
       "        vertical-align: middle;\n",
       "    }\n",
       "\n",
       "    .dataframe tbody tr th {\n",
       "        vertical-align: top;\n",
       "    }\n",
       "\n",
       "    .dataframe thead th {\n",
       "        text-align: right;\n",
       "    }\n",
       "</style>\n",
       "<table border=\"1\" class=\"dataframe\">\n",
       "  <thead>\n",
       "    <tr style=\"text-align: right;\">\n",
       "      <th></th>\n",
       "      <th>name</th>\n",
       "      <th>gender</th>\n",
       "    </tr>\n",
       "  </thead>\n",
       "  <tbody>\n",
       "    <tr>\n",
       "      <th>0</th>\n",
       "      <td>Mary</td>\n",
       "      <td>F</td>\n",
       "    </tr>\n",
       "    <tr>\n",
       "      <th>1</th>\n",
       "      <td>Anna</td>\n",
       "      <td>F</td>\n",
       "    </tr>\n",
       "    <tr>\n",
       "      <th>2</th>\n",
       "      <td>Emma</td>\n",
       "      <td>F</td>\n",
       "    </tr>\n",
       "    <tr>\n",
       "      <th>3</th>\n",
       "      <td>Elizabeth</td>\n",
       "      <td>F</td>\n",
       "    </tr>\n",
       "    <tr>\n",
       "      <th>4</th>\n",
       "      <td>Minnie</td>\n",
       "      <td>F</td>\n",
       "    </tr>\n",
       "    <tr>\n",
       "      <th>5</th>\n",
       "      <td>Margaret</td>\n",
       "      <td>F</td>\n",
       "    </tr>\n",
       "    <tr>\n",
       "      <th>6</th>\n",
       "      <td>Ida</td>\n",
       "      <td>F</td>\n",
       "    </tr>\n",
       "    <tr>\n",
       "      <th>7</th>\n",
       "      <td>Alice</td>\n",
       "      <td>F</td>\n",
       "    </tr>\n",
       "    <tr>\n",
       "      <th>...</th>\n",
       "      <td>...</td>\n",
       "      <td>...</td>\n",
       "    </tr>\n",
       "    <tr>\n",
       "      <th>1924657</th>\n",
       "      <td>Zyel</td>\n",
       "      <td>M</td>\n",
       "    </tr>\n",
       "    <tr>\n",
       "      <th>1924658</th>\n",
       "      <td>Zyheem</td>\n",
       "      <td>M</td>\n",
       "    </tr>\n",
       "    <tr>\n",
       "      <th>1924659</th>\n",
       "      <td>Zyhier</td>\n",
       "      <td>M</td>\n",
       "    </tr>\n",
       "    <tr>\n",
       "      <th>1924660</th>\n",
       "      <td>Zykai</td>\n",
       "      <td>M</td>\n",
       "    </tr>\n",
       "    <tr>\n",
       "      <th>1924661</th>\n",
       "      <td>Zykeem</td>\n",
       "      <td>M</td>\n",
       "    </tr>\n",
       "    <tr>\n",
       "      <th>1924662</th>\n",
       "      <td>Zylin</td>\n",
       "      <td>M</td>\n",
       "    </tr>\n",
       "    <tr>\n",
       "      <th>1924663</th>\n",
       "      <td>Zylis</td>\n",
       "      <td>M</td>\n",
       "    </tr>\n",
       "    <tr>\n",
       "      <th>1924664</th>\n",
       "      <td>Zyrie</td>\n",
       "      <td>M</td>\n",
       "    </tr>\n",
       "  </tbody>\n",
       "</table>\n",
       "<p>1924665 rows × 2 columns</p>\n",
       "</div>"
      ],
      "text/plain": [
       "              name gender\n",
       "0             Mary      F\n",
       "1             Anna      F\n",
       "2             Emma      F\n",
       "3        Elizabeth      F\n",
       "4           Minnie      F\n",
       "5         Margaret      F\n",
       "6              Ida      F\n",
       "7            Alice      F\n",
       "...            ...    ...\n",
       "1924657       Zyel      M\n",
       "1924658     Zyheem      M\n",
       "1924659     Zyhier      M\n",
       "1924660      Zykai      M\n",
       "1924661     Zykeem      M\n",
       "1924662      Zylin      M\n",
       "1924663      Zylis      M\n",
       "1924664      Zyrie      M\n",
       "\n",
       "[1924665 rows x 2 columns]"
      ]
     },
     "execution_count": 103,
     "metadata": {},
     "output_type": "execute_result"
    }
   ],
   "source": [
    "# selection of columns by slice of positions using .iloc\n",
    "# the : alone stands for all rows from start to end\n",
    "df.iloc[:, 1:3]"
   ]
  },
  {
   "cell_type": "markdown",
   "metadata": {},
   "source": [
    "### 3.2.2 Selecting rows in DataFrame\n",
    "\n",
    "When selecting a single row, we obtain a `Series` object which index corresponds to the columns of the `DataFrame`.\n",
    "\n",
    "When selecting several rows, we obtain a new `DataFrame`: subset of the original one and sharing the index with as many columns.\n",
    "\n",
    "**With the `.loc[]` operator**"
   ]
  },
  {
   "cell_type": "code",
   "execution_count": 104,
   "metadata": {},
   "outputs": [
    {
     "data": {
      "text/plain": [
       "gender        F\n",
       "births    19738\n",
       "Name: Emma, dtype: object"
      ]
     },
     "execution_count": 104,
     "metadata": {},
     "output_type": "execute_result"
    }
   ],
   "source": [
    "# selection of a row\n",
    "row = name2017.loc[\"Emma\"] # or name2017.loc[\"Emma\", :]\n",
    "row"
   ]
  },
  {
   "cell_type": "code",
   "execution_count": 105,
   "metadata": {},
   "outputs": [
    {
     "data": {
      "text/plain": [
       "pandas.core.series.Series"
      ]
     },
     "execution_count": 105,
     "metadata": {},
     "output_type": "execute_result"
    }
   ],
   "source": [
    "# row is indeed a Series object\n",
    "type(row)"
   ]
  },
  {
   "cell_type": "markdown",
   "metadata": {},
   "source": [
    "## test equality of DataFrame columns and row index\n",
    "(name2017.columns == row.index).all()"
   ]
  },
  {
   "cell_type": "code",
   "execution_count": null,
   "metadata": {},
   "outputs": [],
   "source": [
    "# selection of several rows\n",
    "name2017.loc[\"Olivia\":\"Isabella\"]  # or name2017.loc[\"Olivia\":\"Isabella\", :]"
   ]
  },
  {
   "cell_type": "markdown",
   "metadata": {},
   "source": [
    "**With the `.iloc[]` operator**"
   ]
  },
  {
   "cell_type": "code",
   "execution_count": null,
   "metadata": {},
   "outputs": [],
   "source": [
    "# selection of the last row\n",
    "row = df.iloc[-1] # or name2017.iloc[-1, :]\n",
    "row"
   ]
  },
  {
   "cell_type": "markdown",
   "metadata": {},
   "source": [
    "### 3.2.3 Selecting rows and columns in DataFrame\n",
    "\n",
    "When selecting a single row, we obtain a `Series` object which index is a subset of the columns of the `DataFrame` object.\n",
    "\n",
    "When selecting several rows, we obtain a new `DataFrame`: subset of the original one.\n",
    "\n",
    "**With the `.loc[]` operator**"
   ]
  },
  {
   "cell_type": "code",
   "execution_count": null,
   "metadata": {},
   "outputs": [],
   "source": [
    "# selection of a single row and several columns\n",
    "name2017.loc[\"Olivia\", \"gender\":\"births\"]"
   ]
  },
  {
   "cell_type": "code",
   "execution_count": null,
   "metadata": {},
   "outputs": [],
   "source": [
    "# selection of several rows and columns\n",
    "name2017.loc[\"Olivia\":\"Isabella\", \"gender\":\"births\"]"
   ]
  },
  {
   "cell_type": "markdown",
   "metadata": {},
   "source": [
    "**With the `.iloc[]` operator**"
   ]
  },
  {
   "cell_type": "code",
   "execution_count": null,
   "metadata": {},
   "outputs": [],
   "source": [
    "# selection of several rows and columns\n",
    "df.iloc[[0, -1], 1:3]"
   ]
  },
  {
   "cell_type": "markdown",
   "metadata": {},
   "source": [
    "**Selection when the index is not unique**"
   ]
  },
  {
   "cell_type": "code",
   "execution_count": null,
   "metadata": {},
   "outputs": [],
   "source": [
    "name = df.set_index(\"name\")\n",
    "name"
   ]
  },
  {
   "cell_type": "code",
   "execution_count": null,
   "metadata": {},
   "outputs": [],
   "source": [
    "# selection of a single index\n",
    "name.loc[\"Emma\"]"
   ]
  },
  {
   "cell_type": "code",
   "execution_count": null,
   "metadata": {},
   "outputs": [],
   "source": [
    "# selection of a several index\n",
    "# multiple selection when the index is not unique does not work\n",
    "# name.loc[\"Emma\":\"Mia\"]"
   ]
  },
  {
   "cell_type": "markdown",
   "metadata": {},
   "source": [
    "### 3.2.4 Selection in DataFrame with a boolean mask\n",
    "\n",
    "It is possible to select in `DataFrame` object with a boolean mask sharing the same index than the `DataFrame`.\n",
    "\n",
    "The easiest way is to build a boolean `Series` object from one or several columns of the initial `DataFrame` object.\n",
    "\n",
    "It is possible to combine boolean masks using logicial operations between boolean objects of type `Series`:\n",
    "\n",
    "- AND is `&`\n",
    "- OR is `|`\n",
    "- NOT is `~`"
   ]
  },
  {
   "cell_type": "code",
   "execution_count": 100,
   "metadata": {},
   "outputs": [
    {
     "data": {
      "text/plain": [
       "0          False\n",
       "1          False\n",
       "2           True\n",
       "3          False\n",
       "4          False\n",
       "5          False\n",
       "6          False\n",
       "7          False\n",
       "           ...  \n",
       "1924657    False\n",
       "1924658    False\n",
       "1924659    False\n",
       "1924660    False\n",
       "1924661    False\n",
       "1924662    False\n",
       "1924663    False\n",
       "1924664    False\n",
       "Name: name, Length: 1924665, dtype: bool"
      ]
     },
     "execution_count": 100,
     "metadata": {},
     "output_type": "execute_result"
    }
   ],
   "source": [
    "# selection with name equals Emma\n",
    "mask = (df[\"name\"] == \"Emma\")\n",
    "mask"
   ]
  },
  {
   "cell_type": "code",
   "execution_count": null,
   "metadata": {},
   "outputs": [],
   "source": [
    "# selection with name equals Emma\n",
    "df.loc[mask]"
   ]
  },
  {
   "cell_type": "code",
   "execution_count": null,
   "metadata": {},
   "outputs": [],
   "source": [
    "# names used at least 1000 times in a year\n",
    "df.loc[df[\"births\"] >= 1000]"
   ]
  },
  {
   "cell_type": "code",
   "execution_count": null,
   "metadata": {},
   "outputs": [],
   "source": [
    "# female names used at least 1000 times in a year\n",
    "df.loc[(df[\"gender\"] == \"F\") & (df[\"births\"] >= 1000)]"
   ]
  },
  {
   "cell_type": "markdown",
   "metadata": {},
   "source": [
    "<div class=\"alert alert-success\">\n",
    "**Exercise 6**\n",
    "<ul>\n",
    "    <li>Print years, names and births of all names with only 2 letters.</li>\n",
    "    <li>How many names do we have?</li>\n",
    "    <li>Give the list of such names in alphabetical order.</li>\n",
    "    <li>How many births of persons with names with only 2 letters?</li>\n",
    "    <li>How many years where the number of births for a name is exactly 1000?</li>\n",
    "    <li>Are there any years for which the number of births for a name is equal to the year?.</li>\n",
    "    <li>Give the list of such names in alphabetical order.</li>\n",
    "</ul>\n",
    "</div>"
   ]
  },
  {
   "cell_type": "code",
   "execution_count": null,
   "metadata": {},
   "outputs": [],
   "source": [
    "# %load session2/ex_06.py"
   ]
  },
  {
   "cell_type": "markdown",
   "metadata": {},
   "source": [
    "## 3.3 Testing data\n",
    "\n",
    "The SSA web site explains:\n",
    "- To safeguard privacy, we restrict our list of names to those with at least 5 occurrences.\n",
    "- Name is 2 to 15 characters\n",
    "\n",
    "We will check these points."
   ]
  },
  {
   "cell_type": "markdown",
   "metadata": {},
   "source": [
    "<div class=\"alert alert-success\">\n",
    "**Exercise 7**\n",
    "<ul>\n",
    "    <li>Check that all births are at least 5</li>\n",
    "    <li>Check that all names have betwen 2 and 15 characters</li>\n",
    "</ul>\n",
    "</div>"
   ]
  },
  {
   "cell_type": "code",
   "execution_count": null,
   "metadata": {},
   "outputs": [],
   "source": [
    "# %load session2/ex_07.py"
   ]
  },
  {
   "cell_type": "markdown",
   "metadata": {},
   "source": [
    "## Summary\n",
    "\n",
    "The `pandas` module is an open source library providing high-performance, easy-to-use data structures and data analysis tools for the Python programming language.\n",
    "\n",
    "It introduces 1-dimensional `Series` objects and 2-dimentional `DataFrame` objects to manipulate data.\n",
    "\n",
    "`Series` objects offer dictionary-like along the index and vector-like accessing to data. They might contains booleans, numbers, time objects and strings and provide appropriate operators according to their type of data.\n",
    "\n",
    "`DataFrame` objects offer dictionary-like along the index and the columns and also matrix-like accessing to data.\n",
    "\n",
    "The `.loc[]` operator enables to select data using labels or boolean operations.\n",
    "\n",
    "The `.iloc[]` operator enables to select data using positions."
   ]
  }
 ],
 "metadata": {
  "kernelspec": {
   "display_name": "Python 3",
   "language": "python",
   "name": "python3"
  },
  "language_info": {
   "codemirror_mode": {
    "name": "ipython",
    "version": 3
   },
   "file_extension": ".py",
   "mimetype": "text/x-python",
   "name": "python",
   "nbconvert_exporter": "python",
   "pygments_lexer": "ipython3",
   "version": "3.7.0"
  }
 },
 "nbformat": 4,
 "nbformat_minor": 2
}
