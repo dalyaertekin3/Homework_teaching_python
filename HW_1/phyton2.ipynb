{
 "cells": [
  {
   "cell_type": "markdown",
   "metadata": {},
   "source": [
    "# EM Lyon - Python coding bootcamp - Session 2\n",
    "\n",
    "1. **Introduction**\n",
    "2. **Pandas data structures: Series and DataFrame**\n",
    "3. **Accessing to data**\n",
    "4. Data management and processing\n",
    "5. Data Visualisation\n",
    "6. Statistical analysis\n",
    "\n",
    "&#169; 2018 Yotta Conseil\n",
    "\n",
    "# 1. Introduction\n",
    "\n",
    "\n",
    "## 1.1 Presentation of the dataset\n",
    "\n",
    "This session uses the data available on the US Social Security web site: https://www.ssa.gov/oact/babynames/limits.html\n",
    "\n",
    "We will use the national dataset `names.zip`.\n",
    "\n",
    "### Read me provided by SSA:\n",
    "\n",
    "> For each year of birth YYYY after 1879, we created a comma-delimited file called yobYYYY.txt. Each record in the individual annual files has the format \"name,sex,number\", where name is 2 to 15 characters, sex is M (male) or F (female) and \"number\" is the number of occurrences of the name. Each file is sorted first on sex and then on number of occurrences in descending order. When there is a tie on the number of occurrences, names are listed in alphabetical order. (...)\n",
    "> To safeguard privacy, we restrict our list of names to those with at least 5 occurrences."
   ]
  },
  {
   "cell_type": "code",
   "execution_count": 1,
   "metadata": {},
   "outputs": [
    {
     "name": "stdout",
     "output_type": "stream",
     "text": [
      "/Users/Thomas/Dropbox/Learning/GitHub/project/Homework_teaching_python/HW_1\r\n"
     ]
    }
   ],
   "source": [
    "!pwd"
   ]
  },
  {
   "cell_type": "code",
   "execution_count": 3,
   "metadata": {},
   "outputs": [
    {
     "data": {
      "text/plain": [
       "'/Users/Thomas/Dropbox/Learning/GitHub/project/Homework_teaching_python/HW_1'"
      ]
     },
     "execution_count": 3,
     "metadata": {},
     "output_type": "execute_result"
    }
   ],
   "source": [
    "import os\n",
    "os.getcwd()"
   ]
  },
  {
   "cell_type": "markdown",
   "metadata": {},
   "source": [
    "## 1.2 Importing the necessary modules\n",
    "\n",
    "We will start by using the `pandas` module.\n",
    "\n",
    "We use the Python `import` statement followed by the name of the module. After being imported the name of the module is know in the Python environement and the user can access to any of its attributes by using the *dot* operator materialized by a point: `.`.\n",
    "\n",
    "Example, accessing to the version number of a Python module:\n",
    "```python\n",
    "import pandas\n",
    "print(pandas.__version__)\n",
    "```\n",
    "\n",
    "Python allows also to rename a module using the `as` keyword followed by another name, generally shorter than the original one."
   ]
  },
  {
   "cell_type": "code",
   "execution_count": 6,
   "metadata": {},
   "outputs": [
    {
     "name": "stdout",
     "output_type": "stream",
     "text": [
      "0.23.0\n"
     ]
    }
   ],
   "source": [
    "# import pandas and name the module 'pd'\n",
    "import pandas as pd\n",
    "print(pd.__version__)"
   ]
  },
  {
   "cell_type": "code",
   "execution_count": null,
   "metadata": {},
   "outputs": [],
   "source": [
    "# pandas is unkown since it has been renamed as 'pd' when imported\n",
    "#pandas"
   ]
  },
  {
   "cell_type": "code",
   "execution_count": null,
   "metadata": {},
   "outputs": [],
   "source": [
    "pd?"
   ]
  },
  {
   "cell_type": "markdown",
   "metadata": {},
   "source": [
    "<div class=\"alert alert-info\">\n",
    "<b>Tip</b>\n",
    "<ul>\n",
    "    <li>In Jupyter notebook, you can get an help by following any know symbol by using the question mark operator: `?`.</li>\n",
    "    <li>It opens a pop up window with a text written by developers and intended to help users.</li>\n",
    "</ul>\n",
    "</div>"
   ]
  },
  {
   "cell_type": "code",
   "execution_count": null,
   "metadata": {},
   "outputs": [],
   "source": [
    "# display options\n",
    "pd.set_option(\"display.max_rows\", 16)\n",
    "pd.set_option(\"display.max_columns\", 30)"
   ]
  },
  {
   "cell_type": "markdown",
   "metadata": {},
   "source": [
    "## 1.3 Loading a single file\n",
    "\n",
    "`pandas` is equiped with the `read_csv()` function which enables to load CSV files.\n",
    "\n",
    "In order to understand how to use the `read_csv()` function, here again we can use the `?` operator."
   ]
  },
  {
   "cell_type": "code",
   "execution_count": null,
   "metadata": {},
   "outputs": [],
   "source": [
    "pd.read_csv?"
   ]
  },
  {
   "cell_type": "markdown",
   "metadata": {},
   "source": [
    "Reading a file with `pandas` is performed with a single statement and the appropriate arguments:\n",
    "- file path\n",
    "- column names"
   ]
  },
  {
   "cell_type": "code",
   "execution_count": 9,
   "metadata": {},
   "outputs": [],
   "source": [
    "# loading the 2017 file\n",
    "df2017 = pd.read_csv('names/yob2017.txt', sep=',', names=['name', 'gender', 'births'])"
   ]
  },
  {
   "cell_type": "code",
   "execution_count": 12,
   "metadata": {},
   "outputs": [
    {
     "data": {
      "text/html": [
       "<div>\n",
       "<style scoped>\n",
       "    .dataframe tbody tr th:only-of-type {\n",
       "        vertical-align: middle;\n",
       "    }\n",
       "\n",
       "    .dataframe tbody tr th {\n",
       "        vertical-align: top;\n",
       "    }\n",
       "\n",
       "    .dataframe thead th {\n",
       "        text-align: right;\n",
       "    }\n",
       "</style>\n",
       "<table border=\"1\" class=\"dataframe\">\n",
       "  <thead>\n",
       "    <tr style=\"text-align: right;\">\n",
       "      <th></th>\n",
       "      <th>name</th>\n",
       "      <th>gender</th>\n",
       "      <th>births</th>\n",
       "    </tr>\n",
       "  </thead>\n",
       "  <tbody>\n",
       "    <tr>\n",
       "      <th>0</th>\n",
       "      <td>Emma</td>\n",
       "      <td>F</td>\n",
       "      <td>19738</td>\n",
       "    </tr>\n",
       "    <tr>\n",
       "      <th>1</th>\n",
       "      <td>Olivia</td>\n",
       "      <td>F</td>\n",
       "      <td>18632</td>\n",
       "    </tr>\n",
       "    <tr>\n",
       "      <th>2</th>\n",
       "      <td>Ava</td>\n",
       "      <td>F</td>\n",
       "      <td>15902</td>\n",
       "    </tr>\n",
       "    <tr>\n",
       "      <th>3</th>\n",
       "      <td>Isabella</td>\n",
       "      <td>F</td>\n",
       "      <td>15100</td>\n",
       "    </tr>\n",
       "    <tr>\n",
       "      <th>4</th>\n",
       "      <td>Sophia</td>\n",
       "      <td>F</td>\n",
       "      <td>14831</td>\n",
       "    </tr>\n",
       "  </tbody>\n",
       "</table>\n",
       "</div>"
      ],
      "text/plain": [
       "       name gender  births\n",
       "0      Emma      F   19738\n",
       "1    Olivia      F   18632\n",
       "2       Ava      F   15902\n",
       "3  Isabella      F   15100\n",
       "4    Sophia      F   14831"
      ]
     },
     "execution_count": 12,
     "metadata": {},
     "output_type": "execute_result"
    }
   ],
   "source": [
    "df2017.head(5)"
   ]
  },
  {
   "cell_type": "code",
   "execution_count": 18,
   "metadata": {},
   "outputs": [
    {
     "data": {
      "text/plain": [
       "name      object\n",
       "gender    object\n",
       "births     int64\n",
       "dtype: object"
      ]
     },
     "execution_count": 18,
     "metadata": {},
     "output_type": "execute_result"
    }
   ],
   "source": [
    "df2017.dtypes"
   ]
  },
  {
   "cell_type": "code",
   "execution_count": 19,
   "metadata": {},
   "outputs": [
    {
     "data": {
      "text/plain": [
       "(32469, 3)"
      ]
     },
     "execution_count": 19,
     "metadata": {},
     "output_type": "execute_result"
    }
   ],
   "source": [
    "df2017.shape"
   ]
  },
  {
   "cell_type": "code",
   "execution_count": 17,
   "metadata": {},
   "outputs": [
    {
     "data": {
      "text/html": [
       "<div>\n",
       "<style scoped>\n",
       "    .dataframe tbody tr th:only-of-type {\n",
       "        vertical-align: middle;\n",
       "    }\n",
       "\n",
       "    .dataframe tbody tr th {\n",
       "        vertical-align: top;\n",
       "    }\n",
       "\n",
       "    .dataframe thead th {\n",
       "        text-align: right;\n",
       "    }\n",
       "</style>\n",
       "<table border=\"1\" class=\"dataframe\">\n",
       "  <thead>\n",
       "    <tr style=\"text-align: right;\">\n",
       "      <th></th>\n",
       "      <th>births</th>\n",
       "    </tr>\n",
       "  </thead>\n",
       "  <tbody>\n",
       "    <tr>\n",
       "      <th>count</th>\n",
       "      <td>32469.000000</td>\n",
       "    </tr>\n",
       "    <tr>\n",
       "      <th>mean</th>\n",
       "      <td>109.221134</td>\n",
       "    </tr>\n",
       "    <tr>\n",
       "      <th>std</th>\n",
       "      <td>639.965484</td>\n",
       "    </tr>\n",
       "    <tr>\n",
       "      <th>min</th>\n",
       "      <td>5.000000</td>\n",
       "    </tr>\n",
       "    <tr>\n",
       "      <th>25%</th>\n",
       "      <td>7.000000</td>\n",
       "    </tr>\n",
       "    <tr>\n",
       "      <th>50%</th>\n",
       "      <td>12.000000</td>\n",
       "    </tr>\n",
       "    <tr>\n",
       "      <th>75%</th>\n",
       "      <td>30.000000</td>\n",
       "    </tr>\n",
       "    <tr>\n",
       "      <th>max</th>\n",
       "      <td>19738.000000</td>\n",
       "    </tr>\n",
       "  </tbody>\n",
       "</table>\n",
       "</div>"
      ],
      "text/plain": [
       "             births\n",
       "count  32469.000000\n",
       "mean     109.221134\n",
       "std      639.965484\n",
       "min        5.000000\n",
       "25%        7.000000\n",
       "50%       12.000000\n",
       "75%       30.000000\n",
       "max    19738.000000"
      ]
     },
     "execution_count": 17,
     "metadata": {},
     "output_type": "execute_result"
    }
   ],
   "source": [
    "df2017.describe()"
   ]
  },
  {
   "cell_type": "markdown",
   "metadata": {},
   "source": [
    "The result is a `DataFrame` object which is assigned to a variable. It denotes the object which has been assigned to it. This \n",
    "`DataFrame` object has 32.469 rows and 3 columns.\n",
    "\n",
    "There are many other functions which aim is to import data according to different formats. One can type `pd.read` and  then press the `Tab` key. Jupyter displays a list of available functions starting with `read`. One can select the appropriate function by using the up and down arrows. Press `Esc` to exit the list."
   ]
  },
  {
   "cell_type": "code",
   "execution_count": 11,
   "metadata": {},
   "outputs": [
    {
     "data": {
      "text/plain": [
       "<function pandas.io.clipboards.read_clipboard(sep='\\\\s+', **kwargs)>"
      ]
     },
     "execution_count": 11,
     "metadata": {},
     "output_type": "execute_result"
    }
   ],
   "source": [
    "pd.read_clipboard # press Tab key and Esc to exit from the list"
   ]
  },
  {
   "cell_type": "markdown",
   "metadata": {},
   "source": [
    "function | usage\n",
    "-|-\n",
    "read_clipboard | read data from memory\n",
    "read_csv | read data from a CSV file (Comma-Separated Value)\n",
    "read_excel | read data from an Excel workbook\n",
    "read_html | read data from an HTML file (search for < table > tags)\n",
    "read_json | read data from a JSON file (JavaScript Object Notation)\n",
    "read_sql | read data from an SQL query\n",
    "read_sas | read data from a SAS file\n",
    "read_table | read data from a tabular file"
   ]
  },
  {
   "cell_type": "markdown",
   "metadata": {},
   "source": [
    "All of these functions contains a large number of options - through keywords arguments with default values - and which enable to adapt the behavior of the function to the real data to be processed.\n",
    "\n",
    "<div class=\"alert alert-warning\">\n",
    "**Further reading**\n",
    "<ul>\n",
    "    <li>For most of `read_xxx()` functions, a `to_xxx()` functions exist and export the `DataFrame` object to the appropriate format, see: http://pandas.pydata.org/pandas-docs/stable/io.html</li>\n",
    "</ul>\n",
    "</div>"
   ]
  },
  {
   "cell_type": "markdown",
   "metadata": {},
   "source": [
    "## 1.4 Loading all files\n",
    "\n",
    "We are going to import all data from all files and not a single one.\n",
    "\n",
    "This is done with a small script that is out of scope for the moment. It has to loop on all files in order to build a large `DataFrame`which includes a fourth column with each year.\n",
    "\n",
    "We are only interessed in the result of the script."
   ]
  },
  {
   "cell_type": "code",
   "execution_count": 20,
   "metadata": {},
   "outputs": [],
   "source": [
    "# Import all data in a single DataFrame\n",
    "\n",
    "\n",
    "\n",
    "if False:   \n",
    "    df = pd.read_pickle(\"names.dat\") # load it from pickle format\n",
    "\n",
    "else:\n",
    "    import os # Python module which implements the listdir() function\n",
    "    df = pd.DataFrame() # global DataFrame in which all data will be put\n",
    "    path = 'names' # folder with files to be processed\n",
    "\n",
    "    for filename in os.listdir(path): # loop on all files in the folder\n",
    "        if filename[-3:] != 'txt': # check whether the file is to be processed or not #mesela folderin icinde alakasiz bi\n",
    "            #pdf dosyası var, onu cıkarmak ıcın son 3 harfi txt olmayan seyleri cıkar yapıyosun\n",
    "            continue\n",
    "        year = int(filename[3:7]) # extract year from file name\n",
    "        csv = pd.read_csv(os.path.join(path, filename), names=['name', 'gender', 'births']) # load the file as a new DataFrame\n",
    "        csv['year'] = year # add a column with the year to the new DataFrame\n",
    "        df = df.append(csv, ignore_index=True) # append the new DataFrame to the global one\n",
    "\n",
    "    df = df[['year', 'name', 'gender', 'births']] # reorder columns of the global DataFrame\n",
    "    df.to_pickle(\"names.dat\") # save it to pickle format"
   ]
  },
  {
   "cell_type": "markdown",
   "metadata": {},
   "source": [
    "<div class=\"alert alert-info\">\n",
    "<b>Tip</b>\n",
    "<ul>\n",
    "    <li>The `pickle` module of `Python` implements binary protocols for serializing and de-serializing a Python object structure, see: https://docs.python.org/3.6/library/pickle.html.</li>\n",
    "    <li>The `pandas` module implements `to_pickle()` and `read_pickle()` for `Series`and `DataFrame` objects</li>\n",
    "    <li>When the import and transformation of a large dataset is time consuming, it is convenient to serialize the `DataFrame` so as to reload it quickly.</li>\n",
    "    <li>`WARNING`: The serialization of such objects is mostly dependent of the version of `pandas`, and objects serialized using a version might not be loadable again from another version.</li>\n",
    "</ul>\n",
    "</div>"
   ]
  },
  {
   "cell_type": "code",
   "execution_count": 25,
   "metadata": {},
   "outputs": [
    {
     "data": {
      "text/plain": [
       "year       int64\n",
       "name      object\n",
       "gender    object\n",
       "births     int64\n",
       "dtype: object"
      ]
     },
     "execution_count": 25,
     "metadata": {},
     "output_type": "execute_result"
    }
   ],
   "source": [
    "# the whole data\n",
    "df.dtypes"
   ]
  },
  {
   "cell_type": "markdown",
   "metadata": {},
   "source": [
    "The result is a large `DataFrame` with 1.924.665 rows and 4 columns. One can access to each column individually which is called a `Series`."
   ]
  },
  {
   "cell_type": "markdown",
   "metadata": {},
   "source": [
    "# 2. Pandas data structures: Series and DataFrame\n",
    "\n",
    "The `panda` name comes from `PAN`(el) + `DA`(taframe) + `S`(eries) where panels, dataframes and series are the 3-D, 2-D and 1-D objects. Panels have been removed from the library and are now replaced by multi-index dataframes.\n",
    "\n",
    "## 2.1 Series, 1-D objects\n",
    "\n",
    "One can access to each column of a `DataFrame` using the square bracket operator `[]` and the label of the column.\n",
    "\n",
    "The obtained object is an instance of Series. it is a 1 dimensionnal structure along with an index.\n",
    "\n",
    "This `Pandas` class relies on the `Numpy.ndarray` structure. All methods available for `ndarray` are more or less available for `Series`.\n",
    "\n",
    "The `Series` object holds an index that is identical to the one of the `DataFrame`. It has a name that is the label of the column of the `DataFrame` object. In fact, it is a view of the `DataFrame`: all modificatons on the `Series` object will be reported on the `DataFrame` object.\n",
    "\n",
    "### 2.1.1 Common Series attributes\n",
    "\n",
    "attribute|result\n",
    "-|-\n",
    "s.name|name of s\n",
    "s.values|values of s\n",
    "s.index|index of s\n",
    "s.shape|dimension of s\n",
    "s.size|number of elements of s\n",
    "s.dtype|type of elements of s\n",
    "s.empty|True if s is empty, False otherwise"
   ]
  },
  {
   "cell_type": "code",
   "execution_count": 27,
   "metadata": {},
   "outputs": [
    {
     "data": {
      "text/plain": [
       "0      Emily\n",
       "1     Hannah\n",
       "2    Madison\n",
       "3     Ashley\n",
       "4      Sarah\n",
       "Name: name, dtype: object"
      ]
     },
     "execution_count": 27,
     "metadata": {},
     "output_type": "execute_result"
    }
   ],
   "source": [
    "# Series from the 'name' column\n",
    "s = df[\"name\"]\n",
    "s.head(5)"
   ]
  },
  {
   "cell_type": "code",
   "execution_count": 30,
   "metadata": {},
   "outputs": [
    {
     "name": "stdout",
     "output_type": "stream",
     "text": [
      "<class 'pandas.core.series.Series'> <class 'pandas.core.frame.DataFrame'>\n"
     ]
    }
   ],
   "source": [
    "# type of object s\n",
    "print(type(s), type(df))"
   ]
  },
  {
   "cell_type": "code",
   "execution_count": null,
   "metadata": {},
   "outputs": [],
   "source": [
    "# 'name' attribute of s is the label of the column\n",
    "s.name"
   ]
  },
  {
   "cell_type": "code",
   "execution_count": null,
   "metadata": {},
   "outputs": [],
   "source": [
    "# 'values' attribute of s\n",
    "# it is a 1-D numpy ndarray\n",
    "s.values"
   ]
  },
  {
   "cell_type": "code",
   "execution_count": null,
   "metadata": {},
   "outputs": [],
   "source": [
    "type(s.values)"
   ]
  },
  {
   "cell_type": "code",
   "execution_count": null,
   "metadata": {},
   "outputs": [],
   "source": [
    "# 'index' attribute of s\n",
    "# cf. range type of Python\n",
    "s.index"
   ]
  },
  {
   "cell_type": "code",
   "execution_count": null,
   "metadata": {},
   "outputs": [],
   "source": [
    "# 'shape' attribute of s\n",
    "s.shape"
   ]
  },
  {
   "cell_type": "code",
   "execution_count": null,
   "metadata": {},
   "outputs": [],
   "source": [
    "# 'size' attribute of s\n",
    "s.size"
   ]
  },
  {
   "cell_type": "code",
   "execution_count": null,
   "metadata": {},
   "outputs": [],
   "source": [
    "# 'dtype' attribute of s\n",
    "s.dtype"
   ]
  },
  {
   "cell_type": "markdown",
   "metadata": {},
   "source": [
    "### 2.1.2 Common Series methods\n",
    "\n",
    "`Series` objects have several common methods:\n",
    "\n",
    "method|result\n",
    "-|-\n",
    "s.head()|first elements of s\n",
    "s.tail()|last elements of s\n",
    "s.nunique()|number of unique elements of s\n",
    "s.value_counts()|number of occurrences of unique elements of s\n",
    "s.unique()|ndarray with unique elements of s\n",
    "\n",
    "The `Series` class defines 325 attributes or methods in the `pandas` module."
   ]
  },
  {
   "cell_type": "code",
   "execution_count": null,
   "metadata": {},
   "outputs": [],
   "source": [
    "# first elements, by default 5\n",
    "s.head()"
   ]
  },
  {
   "cell_type": "code",
   "execution_count": null,
   "metadata": {},
   "outputs": [],
   "source": [
    "s.head(100)"
   ]
  },
  {
   "cell_type": "code",
   "execution_count": null,
   "metadata": {},
   "outputs": [],
   "source": [
    "# last elements, by default 5\n",
    "s.tail(3)"
   ]
  },
  {
   "cell_type": "code",
   "execution_count": null,
   "metadata": {},
   "outputs": [],
   "source": [
    "# number of unique values\n",
    "s.nunique()"
   ]
  },
  {
   "cell_type": "code",
   "execution_count": 31,
   "metadata": {},
   "outputs": [
    {
     "data": {
      "text/plain": [
       "2"
      ]
     },
     "execution_count": 31,
     "metadata": {},
     "output_type": "execute_result"
    }
   ],
   "source": [
    "# number of unique values\n",
    "df['gender'].nunique()"
   ]
  },
  {
   "cell_type": "code",
   "execution_count": 36,
   "metadata": {},
   "outputs": [
    {
     "data": {
      "text/plain": [
       "138"
      ]
     },
     "execution_count": 36,
     "metadata": {},
     "output_type": "execute_result"
    }
   ],
   "source": [
    "# number of unique values\n",
    "df['year'].nunique()"
   ]
  },
  {
   "cell_type": "code",
   "execution_count": 42,
   "metadata": {},
   "outputs": [
    {
     "data": {
      "text/plain": [
       "180.87330366583276"
      ]
     },
     "execution_count": 42,
     "metadata": {},
     "output_type": "execute_result"
    }
   ],
   "source": [
    "df['births'].mean()"
   ]
  },
  {
   "cell_type": "code",
   "execution_count": 33,
   "metadata": {},
   "outputs": [
    {
     "data": {
      "text/plain": [
       "5        268536\n",
       "6        191470\n",
       "7        144621\n",
       "8        114284\n",
       "9         92284\n",
       "10        76927\n",
       "11        64677\n",
       "12        55832\n",
       "13        48283\n",
       "14        42272\n",
       "15        37652\n",
       "16        34068\n",
       "17        30350\n",
       "18        27439\n",
       "19        24885\n",
       "20        22914\n",
       "21        20695\n",
       "22        19361\n",
       "23        17725\n",
       "24        16555\n",
       "25        15616\n",
       "26        14344\n",
       "27        13288\n",
       "28        12830\n",
       "29        12022\n",
       "30        11317\n",
       "31        10619\n",
       "32        10020\n",
       "33         9448\n",
       "34         8932\n",
       "          ...  \n",
       "5587          1\n",
       "13776         1\n",
       "13783         1\n",
       "6609          1\n",
       "5004          1\n",
       "10711         1\n",
       "18907         1\n",
       "11735         1\n",
       "17882         1\n",
       "19931         1\n",
       "4561          1\n",
       "19335         1\n",
       "8663          1\n",
       "20953         1\n",
       "25055         1\n",
       "11734         1\n",
       "8656          1\n",
       "12754         1\n",
       "4566          1\n",
       "29146         1\n",
       "15827         1\n",
       "56214         1\n",
       "5590          1\n",
       "7639          1\n",
       "10704         1\n",
       "52116         1\n",
       "13779         1\n",
       "33222         1\n",
       "7054          1\n",
       "10736         1\n",
       "Name: births, Length: 13691, dtype: int64"
      ]
     },
     "execution_count": 33,
     "metadata": {},
     "output_type": "execute_result"
    }
   ],
   "source": [
    "# value counts\n",
    "df['births'].value_counts()"
   ]
  },
  {
   "cell_type": "markdown",
   "metadata": {},
   "source": [
    "**Observation**\n",
    "\n",
    "The object returned by the `value_counts()` method is also a `Series` object. In `pandas`, many operations on a `Series` or  a `DataFrame` object return another `Series` or `DataFrame` object.\n",
    "\n",
    "The `Series` object is organized so that the values are sorted in the reverse order."
   ]
  },
  {
   "cell_type": "code",
   "execution_count": 71,
   "metadata": {},
   "outputs": [
    {
     "data": {
      "text/plain": [
       "pandas.core.series.Series"
      ]
     },
     "execution_count": 71,
     "metadata": {},
     "output_type": "execute_result"
    }
   ],
   "source": [
    "# value counts\n",
    "s2 = df['births'].value_counts()\n",
    "type(s2)"
   ]
  },
  {
   "cell_type": "code",
   "execution_count": 76,
   "metadata": {},
   "outputs": [
    {
     "data": {
      "text/plain": [
       "2000    11\n",
       "Name: year, dtype: int64"
      ]
     },
     "execution_count": 76,
     "metadata": {},
     "output_type": "execute_result"
    }
   ],
   "source": [
    "df.loc[:10, 'year'].value_counts()"
   ]
  },
  {
   "cell_type": "code",
   "execution_count": 66,
   "metadata": {},
   "outputs": [
    {
     "data": {
      "text/html": [
       "<div>\n",
       "<style scoped>\n",
       "    .dataframe tbody tr th:only-of-type {\n",
       "        vertical-align: middle;\n",
       "    }\n",
       "\n",
       "    .dataframe tbody tr th {\n",
       "        vertical-align: top;\n",
       "    }\n",
       "\n",
       "    .dataframe thead th {\n",
       "        text-align: right;\n",
       "    }\n",
       "</style>\n",
       "<table border=\"1\" class=\"dataframe\">\n",
       "  <thead>\n",
       "    <tr style=\"text-align: right;\">\n",
       "      <th></th>\n",
       "      <th>births</th>\n",
       "      <th>gender</th>\n",
       "    </tr>\n",
       "  </thead>\n",
       "  <tbody>\n",
       "    <tr>\n",
       "      <th>10</th>\n",
       "      <td>14175</td>\n",
       "      <td>F</td>\n",
       "    </tr>\n",
       "    <tr>\n",
       "      <th>11</th>\n",
       "      <td>13553</td>\n",
       "      <td>F</td>\n",
       "    </tr>\n",
       "    <tr>\n",
       "      <th>12</th>\n",
       "      <td>13312</td>\n",
       "      <td>F</td>\n",
       "    </tr>\n",
       "    <tr>\n",
       "      <th>13</th>\n",
       "      <td>13088</td>\n",
       "      <td>F</td>\n",
       "    </tr>\n",
       "    <tr>\n",
       "      <th>14</th>\n",
       "      <td>12878</td>\n",
       "      <td>F</td>\n",
       "    </tr>\n",
       "    <tr>\n",
       "      <th>15</th>\n",
       "      <td>12852</td>\n",
       "      <td>F</td>\n",
       "    </tr>\n",
       "  </tbody>\n",
       "</table>\n",
       "</div>"
      ],
      "text/plain": [
       "    births gender\n",
       "10   14175      F\n",
       "11   13553      F\n",
       "12   13312      F\n",
       "13   13088      F\n",
       "14   12878      F\n",
       "15   12852      F"
      ]
     },
     "execution_count": 66,
     "metadata": {},
     "output_type": "execute_result"
    }
   ],
   "source": [
    "df.loc[10:15,['births', 'gender']]"
   ]
  },
  {
   "cell_type": "code",
   "execution_count": 67,
   "metadata": {},
   "outputs": [
    {
     "data": {
      "text/plain": [
       "year       int64\n",
       "name      object\n",
       "gender    object\n",
       "births     int64\n",
       "dtype: object"
      ]
     },
     "execution_count": 67,
     "metadata": {},
     "output_type": "execute_result"
    }
   ],
   "source": [
    "df.dtypes"
   ]
  },
  {
   "cell_type": "code",
   "execution_count": 80,
   "metadata": {},
   "outputs": [
    {
     "data": {
      "text/html": [
       "<div>\n",
       "<style scoped>\n",
       "    .dataframe tbody tr th:only-of-type {\n",
       "        vertical-align: middle;\n",
       "    }\n",
       "\n",
       "    .dataframe tbody tr th {\n",
       "        vertical-align: top;\n",
       "    }\n",
       "\n",
       "    .dataframe thead th {\n",
       "        text-align: right;\n",
       "    }\n",
       "</style>\n",
       "<table border=\"1\" class=\"dataframe\">\n",
       "  <thead>\n",
       "    <tr style=\"text-align: right;\">\n",
       "      <th></th>\n",
       "      <th>year</th>\n",
       "      <th>name</th>\n",
       "    </tr>\n",
       "  </thead>\n",
       "  <tbody>\n",
       "    <tr>\n",
       "      <th>10</th>\n",
       "      <td>2000</td>\n",
       "      <td>Lauren</td>\n",
       "    </tr>\n",
       "    <tr>\n",
       "      <th>11</th>\n",
       "      <td>2000</td>\n",
       "      <td>Alyssa</td>\n",
       "    </tr>\n",
       "    <tr>\n",
       "      <th>12</th>\n",
       "      <td>2000</td>\n",
       "      <td>Kayla</td>\n",
       "    </tr>\n",
       "    <tr>\n",
       "      <th>13</th>\n",
       "      <td>2000</td>\n",
       "      <td>Abigail</td>\n",
       "    </tr>\n",
       "    <tr>\n",
       "      <th>14</th>\n",
       "      <td>2000</td>\n",
       "      <td>Brianna</td>\n",
       "    </tr>\n",
       "  </tbody>\n",
       "</table>\n",
       "</div>"
      ],
      "text/plain": [
       "    year     name\n",
       "10  2000   Lauren\n",
       "11  2000   Alyssa\n",
       "12  2000    Kayla\n",
       "13  2000  Abigail\n",
       "14  2000  Brianna"
      ]
     },
     "execution_count": 80,
     "metadata": {},
     "output_type": "execute_result"
    }
   ],
   "source": [
    "df.iloc[10:15,:2]"
   ]
  },
  {
   "cell_type": "code",
   "execution_count": null,
   "metadata": {},
   "outputs": [],
   "source": [
    "# 'index' attribute of s2 #birthden gelen index\n",
    "s2.index"
   ]
  },
  {
   "cell_type": "code",
   "execution_count": 44,
   "metadata": {},
   "outputs": [
    {
     "data": {
      "text/plain": [
       "5"
      ]
     },
     "execution_count": 44,
     "metadata": {},
     "output_type": "execute_result"
    }
   ],
   "source": [
    "s2.index[0]"
   ]
  },
  {
   "cell_type": "code",
   "execution_count": null,
   "metadata": {},
   "outputs": [],
   "source": [
    "# to get the most frequent value\n",
    "s2.index[0]"
   ]
  },
  {
   "cell_type": "code",
   "execution_count": null,
   "metadata": {},
   "outputs": [],
   "source": [
    "# 'values' attribute of s2\n",
    "s2.values"
   ]
  },
  {
   "cell_type": "code",
   "execution_count": null,
   "metadata": {},
   "outputs": [],
   "source": [
    "# to get the count of the most frequent value\n",
    "s2.values[0]"
   ]
  },
  {
   "cell_type": "markdown",
   "metadata": {},
   "source": [
    "<div class=\"alert alert-success\">\n",
    "**Exercise 1**\n",
    "<ul>\n",
    "<li>What is the value counts of genders. How can we interpret the result?</li>\n",
    "<li>What are the top 16 value counts of names. How can we interpret the result?</li>\n",
    "<li>What are the 10 years for which we have the most distinct names + gender? What is the finding?</li>\n",
    "</ul>\n",
    "</div>"
   ]
  },
  {
   "cell_type": "code",
   "execution_count": null,
   "metadata": {},
   "outputs": [],
   "source": [
    "df['gender'].value_counts()"
   ]
  },
  {
   "cell_type": "code",
   "execution_count": null,
   "metadata": {},
   "outputs": [],
   "source": [
    "df['name'].value_counts()"
   ]
  },
  {
   "cell_type": "code",
   "execution_count": null,
   "metadata": {},
   "outputs": [],
   "source": [
    "df['name'].value_counts().head(16)"
   ]
  },
  {
   "cell_type": "code",
   "execution_count": null,
   "metadata": {},
   "outputs": [],
   "source": [
    "# %load session2/ex_01.py"
   ]
  },
  {
   "cell_type": "code",
   "execution_count": null,
   "metadata": {},
   "outputs": [],
   "source": [
    "df['year'].value_counts().head(10)"
   ]
  },
  {
   "cell_type": "markdown",
   "metadata": {},
   "source": [
    "### 2.1.3 Vectorial operations with Series\n",
    "\n",
    "All vectorial operations for `numpy.ndarray` are available for `Series` objects:\n",
    "\n",
    "- logical:\n",
    "    - between 2 `Series` objects: `&` (AND), `|` (OR), `~` (NOT)\n",
    "    - within values of a single `Series` object: `any()` (OR), `all()` (AND)\n",
    "- usual mathematical functions: e.g.,  `abs()`, `sqrt()`, `sign()`, `floor()`, `rint()`\n",
    "- advanced mathematical functions: e.g., trigonometric, logarithm, exponential\n",
    "- vectorial computation with a scalar value, a list of values with the `isin()` method, or another `Series` object\n",
    "- comparison with a scalar value or another `Series` object\n",
    "- usual statistical functions: e.g., `sum()`, `min()`, `max()`, `mean()`, `median()`, `std()`, `var()`, `cumsum()`, `cumprod()`, `cummin()`, `cummax()`, `idxmin()`, `idxmax()`"
   ]
  },
  {
   "cell_type": "code",
   "execution_count": null,
   "metadata": {},
   "outputs": [],
   "source": [
    "# series of births\n",
    "s = df[\"births\"]\n",
    "s"
   ]
  },
  {
   "cell_type": "code",
   "execution_count": null,
   "metadata": {},
   "outputs": [],
   "source": [
    "# sum of s\n",
    "s.sum()"
   ]
  },
  {
   "cell_type": "code",
   "execution_count": null,
   "metadata": {},
   "outputs": [],
   "source": [
    "# min of s\n",
    "s.min()"
   ]
  },
  {
   "cell_type": "code",
   "execution_count": null,
   "metadata": {},
   "outputs": [],
   "source": [
    "# max of s\n",
    "s.max()"
   ]
  },
  {
   "cell_type": "code",
   "execution_count": null,
   "metadata": {},
   "outputs": [],
   "source": [
    "# s times 3\n",
    "s * 3"
   ]
  },
  {
   "cell_type": "code",
   "execution_count": null,
   "metadata": {},
   "outputs": [],
   "source": [
    "# s equals 5\n",
    "s == 5"
   ]
  },
  {
   "cell_type": "code",
   "execution_count": null,
   "metadata": {},
   "outputs": [],
   "source": [
    "# s is in [0, 1, 2, 3, 4, 5, 6, 7, 8, 9]?\n",
    "s.isin(list(range(10)))"
   ]
  },
  {
   "cell_type": "code",
   "execution_count": null,
   "metadata": {},
   "outputs": [],
   "source": [
    "# are they rows in which number of births equal year?\n",
    "(s == df[\"year\"]).any()"
   ]
  },
  {
   "cell_type": "code",
   "execution_count": null,
   "metadata": {},
   "outputs": [],
   "source": [
    "# cumsum of s\n",
    "s.cumsum()"
   ]
  },
  {
   "cell_type": "code",
   "execution_count": null,
   "metadata": {},
   "outputs": [],
   "source": [
    "# cumprod of s\n",
    "# warning to the limited integer representation in the underlying numpy, coded on 64 bits\n",
    "s.cumprod()"
   ]
  },
  {
   "cell_type": "markdown",
   "metadata": {},
   "source": [
    "<div class=\"alert alert-warning\">\n",
    "<b>Further reading</b>\n",
    "<ul>\n",
    "    <li>Floating Point Arithmetic: Issues and Limitations.</li>\n",
    "    <li>To better understand the limit of floating point representation, see: https://docs.python.org/3.6/tutorial/floatingpoint.html</li>\n",
    "</ul>\n",
    "</div>"
   ]
  },
  {
   "cell_type": "markdown",
   "metadata": {},
   "source": [
    "### 2.1.4 Operations on Series objects containing strings\n",
    "\n",
    "The `str` operator enables to deal with `Series` objects holding strings in order to get a new `Series` object.\n",
    "\n",
    "Thanks to the `str` operator, most of Python functions dedicated to strings are available for `Series` object holding strings: `len()`, `startswith()`, `contains()`, `endswith()`, `split()`, `lower()`, `upper()`, `capitalize()`, `title()`, ...\n",
    "\n",
    "These methods return a new `Series` object containing the result of the function applied to each element."
   ]
  },
  {
   "cell_type": "code",
   "execution_count": null,
   "metadata": {},
   "outputs": [],
   "source": [
    "# length of 5 first names\n",
    "df[\"name\"].str.len().head()"
   ]
  },
  {
   "cell_type": "markdown",
   "metadata": {},
   "source": [
    "**Observation**: starting with head() would have been more efficient, since the length is only computed on the 5 first names."
   ]
  },
  {
   "cell_type": "code",
   "execution_count": null,
   "metadata": {},
   "outputs": [],
   "source": [
    "# length of 5 first names\n",
    "df[\"name\"].head().str.len()"
   ]
  },
  {
   "cell_type": "markdown",
   "metadata": {},
   "source": [
    "<div class=\"alert alert-info\">\n",
    "<b>Jupyter hint</b>:\n",
    "We can check it with the magic command <pre>%timeit</pre> which enables to compute the efficiency of a statement.\n",
    "</div>"
   ]
  },
  {
   "cell_type": "code",
   "execution_count": null,
   "metadata": {},
   "outputs": [],
   "source": [
    "%timeit df[\"name\"].str.len().head()"
   ]
  },
  {
   "cell_type": "code",
   "execution_count": null,
   "metadata": {},
   "outputs": [],
   "source": [
    "%timeit df[\"name\"].head().str.len()"
   ]
  },
  {
   "cell_type": "markdown",
   "metadata": {},
   "source": [
    "<div class=\"alert alert-success\">\n",
    "**Exercise 2**\n",
    "<ul>\n",
    "<li>Compute the minimum and the maximum length of names</li>\n",
    "<li>Give the value counts of names length</li>\n",
    "</ul>\n",
    "</div>"
   ]
  },
  {
   "cell_type": "code",
   "execution_count": null,
   "metadata": {},
   "outputs": [],
   "source": [
    "# %load session2/ex_02.py"
   ]
  },
  {
   "cell_type": "code",
   "execution_count": null,
   "metadata": {},
   "outputs": [],
   "source": [
    "df[\"name\"].str.len().min()"
   ]
  },
  {
   "cell_type": "code",
   "execution_count": null,
   "metadata": {},
   "outputs": [],
   "source": [
    "df[\"name\"].str.len().max()"
   ]
  },
  {
   "cell_type": "code",
   "execution_count": null,
   "metadata": {},
   "outputs": [],
   "source": [
    "df[\"name\"].str.len().value_counts()"
   ]
  },
  {
   "cell_type": "markdown",
   "metadata": {},
   "source": [
    "## 2.2 DataFrame, 2-D objects\n",
    "\n",
    "A `DataFrame` object is a table of data as we encounter frequently in many information systems: R data.frame, CSV or TSV file, Excel sheet, table of a data base...\n",
    "\n",
    "Generally, a table is compound of a number of homogeneous records or rows. Each line represents a specific record and the columns stand for the features of each records.\n",
    "\n",
    "The objects that may be included in a `DataFrame` might be of any kind:\n",
    "- booleans: `bool`\n",
    "- integers: `int64`\n",
    "- floating number: `float64`\n",
    "- date objects: `datetime`, `timestamp`\n",
    "- strings and any objects: `object` (the more general object)\n",
    "\n",
    "\n",
    "*Nota bene*\n",
    "\n",
    "- `pandas` tries to use the most adapted type according to the data in each column\n",
    "- If the type of a column is `object`, it may contains other objects than strings.\n",
    "\n",
    "### 2.2.1 Common DataFrame attributes\n",
    "\n",
    "attribute|result\n",
    "-|-\n",
    "df.shape|dimensions of df\n",
    "df.size|number of elements of df\n",
    "df.values|values of df\n",
    "df.index|index of df\n",
    "df.index.is_unique|if index of df is unique\n",
    "df.columns|columns of df\n",
    "df.dtypes|types of columns of df\n",
    "df.empty|True if df is empty, False otherwise"
   ]
  },
  {
   "cell_type": "code",
   "execution_count": null,
   "metadata": {},
   "outputs": [],
   "source": [
    "# type of object df\n",
    "type(df)"
   ]
  },
  {
   "cell_type": "code",
   "execution_count": null,
   "metadata": {},
   "outputs": [],
   "source": [
    "# dimensions of df\n",
    "df.shape"
   ]
  },
  {
   "cell_type": "code",
   "execution_count": null,
   "metadata": {},
   "outputs": [],
   "source": [
    "# number of rows of df\n",
    "len(df)"
   ]
  },
  {
   "cell_type": "code",
   "execution_count": null,
   "metadata": {},
   "outputs": [],
   "source": [
    "# total number of elements of df\n",
    "df.size"
   ]
  },
  {
   "cell_type": "code",
   "execution_count": null,
   "metadata": {},
   "outputs": [],
   "source": [
    "# values of df\n",
    "# it is a 2-D numpy ndarray\n",
    "df.values"
   ]
  },
  {
   "cell_type": "code",
   "execution_count": null,
   "metadata": {},
   "outputs": [],
   "source": [
    "# first line of values of df\n",
    "# numpy accessor\n",
    "df.values[0]"
   ]
  },
  {
   "cell_type": "code",
   "execution_count": null,
   "metadata": {},
   "outputs": [],
   "source": [
    "# first column of values of df\n",
    "# numpy accessor\n",
    "df.values[:, 0]"
   ]
  },
  {
   "cell_type": "code",
   "execution_count": null,
   "metadata": {},
   "outputs": [],
   "source": [
    "# index of df\n",
    "df.index"
   ]
  },
  {
   "cell_type": "code",
   "execution_count": null,
   "metadata": {},
   "outputs": [],
   "source": [
    "# index of df is unique\n",
    "df.index.is_unique"
   ]
  },
  {
   "cell_type": "code",
   "execution_count": null,
   "metadata": {},
   "outputs": [],
   "source": [
    "# columns of df\n",
    "df.columns"
   ]
  },
  {
   "cell_type": "code",
   "execution_count": null,
   "metadata": {},
   "outputs": [],
   "source": [
    "# dtypes of columns of df\n",
    "df.dtypes"
   ]
  },
  {
   "cell_type": "markdown",
   "metadata": {},
   "source": [
    "### 2.2.2 Common DataFrame methods\n",
    "\n",
    "`DataFrame` objects have several common methods:\n",
    "\n",
    "method|result\n",
    "-|-\n",
    "df.head()|first rows of df\n",
    "df.tail()|last rows of df\n",
    "df.info()|information on df\n",
    "df.count()|number of non NA elements in each column\n",
    "df.transpose or df.T()|transposition of df\n",
    "\n",
    "The `DataFrame` class defines 224 attributes or methods in the `pandas` module."
   ]
  },
  {
   "cell_type": "code",
   "execution_count": null,
   "metadata": {},
   "outputs": [],
   "source": [
    "# first rows, by default 5\n",
    "df.head(7)"
   ]
  },
  {
   "cell_type": "code",
   "execution_count": null,
   "metadata": {},
   "outputs": [],
   "source": [
    "# last rows, by default 5\n",
    "df.tail()"
   ]
  },
  {
   "cell_type": "code",
   "execution_count": null,
   "metadata": {},
   "outputs": [],
   "source": [
    "# information on df\n",
    "df.info()"
   ]
  },
  {
   "cell_type": "code",
   "execution_count": null,
   "metadata": {},
   "outputs": [],
   "source": [
    "# transposition of df\n",
    "df_t = df.T # or df.transpose()\n",
    "df_t"
   ]
  },
  {
   "cell_type": "code",
   "execution_count": null,
   "metadata": {},
   "outputs": [],
   "source": [
    "# index of a transposed df is its columns\n",
    "df_t.index"
   ]
  },
  {
   "cell_type": "code",
   "execution_count": null,
   "metadata": {},
   "outputs": [],
   "source": [
    "# columns of a transposed df are its index\n",
    "df_t.columns"
   ]
  },
  {
   "cell_type": "code",
   "execution_count": null,
   "metadata": {},
   "outputs": [],
   "source": [
    "# first line in a column\n",
    "df.head(1).T"
   ]
  },
  {
   "cell_type": "markdown",
   "metadata": {},
   "source": [
    "<div class=\"alert alert-success\">\n",
    "**Exercise 3**\n",
    "<ul>\n",
    "    <li>Perform few operations on df2017:</li>\n",
    "    <ul>\n",
    "        <li>dimensions</li>\n",
    "        <li>first and last rows</li>\n",
    "        <li>transposition</li>\n",
    "        <li>information</li>\n",
    "    </ul>\n",
    "</ul>\n",
    "</div>"
   ]
  },
  {
   "cell_type": "code",
   "execution_count": null,
   "metadata": {},
   "outputs": [],
   "source": [
    "# %load session2/ex_03.py"
   ]
  },
  {
   "cell_type": "markdown",
   "metadata": {},
   "source": [
    "*Nota bene*\n",
    "\n",
    "When the label of a column does not contains space, or other special characters, and does not overlap with a `DataFrame` object attribute or method, it is possible to use it as an attribute to get the column.\n",
    "\n",
    "For instance: `df.gender`\n",
    "\n",
    "As it does not work systematically, we do not recommend using this notation. It is explained here, since it can be used in code found on the internet."
   ]
  },
  {
   "cell_type": "code",
   "execution_count": null,
   "metadata": {},
   "outputs": [],
   "source": [
    "# column name as an attribute\n",
    "df.gender"
   ]
  },
  {
   "cell_type": "markdown",
   "metadata": {},
   "source": [
    "It is possible to modify the index of a `DataFrame` object by using the `set_index()` method with a column of the `DataFrame` object."
   ]
  },
  {
   "cell_type": "code",
   "execution_count": null,
   "metadata": {},
   "outputs": [],
   "source": [
    "# year 2017\n",
    "df2017"
   ]
  },
  {
   "cell_type": "code",
   "execution_count": null,
   "metadata": {},
   "outputs": [],
   "source": [
    "# the name column is used as an index\n",
    "name2017 = df2017.set_index(\"name\")\n",
    "name2017"
   ]
  },
  {
   "cell_type": "code",
   "execution_count": null,
   "metadata": {},
   "outputs": [],
   "source": [
    "# accessing to a column\n",
    "name2017[\"births\"]"
   ]
  },
  {
   "cell_type": "code",
   "execution_count": null,
   "metadata": {},
   "outputs": [],
   "source": [
    "# index of min\n",
    "name2017[\"births\"].idxmin()"
   ]
  },
  {
   "cell_type": "code",
   "execution_count": null,
   "metadata": {},
   "outputs": [],
   "source": [
    "# index of max\n",
    "name2017[\"births\"].idxmax()"
   ]
  },
  {
   "cell_type": "code",
   "execution_count": null,
   "metadata": {},
   "outputs": [],
   "source": [
    "# index of the new DataFrame object\n",
    "name2017.index"
   ]
  },
  {
   "cell_type": "code",
   "execution_count": null,
   "metadata": {},
   "outputs": [],
   "source": [
    "# name of the index of the new DataFrame object\n",
    "name2017.index.name"
   ]
  },
  {
   "cell_type": "code",
   "execution_count": null,
   "metadata": {},
   "outputs": [],
   "source": [
    "# the index of the new DataFrame object is not unique\n",
    "name2017.index.is_unique #why its false not unique, male and female names there are both names f and m mesela Clem hem erkek hem kadın ismi"
   ]
  },
  {
   "cell_type": "markdown",
   "metadata": {},
   "source": [
    "<div class=\"alert alert-success\">\n",
    "**Exercise 4**\n",
    "<ul>\n",
    "    <li>Why is the index not unique?</li>\n",
    "    <li>Limit the name2017 DataFrame object to the first 18309 rows and check that the index is unique.</li>\n",
    "</ul>\n",
    "</div>"
   ]
  },
  {
   "cell_type": "code",
   "execution_count": null,
   "metadata": {},
   "outputs": [],
   "source": [
    "name2017 = name2017.head(18309)\n",
    "name2017.index.is_unique"
   ]
  },
  {
   "cell_type": "code",
   "execution_count": null,
   "metadata": {},
   "outputs": [],
   "source": [
    "# %load session2/ex_04.py"
   ]
  },
  {
   "cell_type": "markdown",
   "metadata": {},
   "source": [
    "### 2.2.3 Vectorial operations with DataFrame\n",
    "\n",
    "Usual statistical functions available for `Series` objects are also available for `DataFrame` objects: e.g., `sum()`, `min()`, `max()`, `mean()`, `median()`, `std()`, `var()`, `cumsum()`, `cumprod()`, `cummin()`, `cummax()`, `idxmin()`, `idxmax()`.\n",
    "\n",
    "- `f(axis=0)` invokes a function `f` to each <b>column</b> of a `DataFrame` object and returns a <b>row-like</b> result.\n",
    "- `f(axis=1)` invokes a function `f` to each <b>row</b> of a `DataFrame` object and returns a <b>column-like</b> result."
   ]
  },
  {
   "cell_type": "code",
   "execution_count": null,
   "metadata": {},
   "outputs": [],
   "source": [
    "# max of columns\n",
    "name2017.max()"
   ]
  },
  {
   "cell_type": "code",
   "execution_count": null,
   "metadata": {},
   "outputs": [],
   "source": [
    "# max of rows\n",
    "df2017.head()#min(axis=1)"
   ]
  },
  {
   "cell_type": "markdown",
   "metadata": {},
   "source": [
    "# 3. Accessing to data\n",
    "\n",
    "Observation about the vocabulary:\n",
    "- Objects of type `Series` and `DataFrame` have index which might be integer (by default) or more generally labels such as strings. When the index is unique, these objects behave like a dictionary which is accessed with a key.\n",
    "- These objects are also based on `numpy.ndarray` vectors or tables which can be accessed by position, i.e. by an integer (starting at 0). Therefore these objects may also behave like an ordered sequence of 1 or 2 dimensions which is accessed with a position.\n",
    "\n",
    "The notation used for ordered sequences in `Python`, and `ndarray` in `numpy`, has been re-used for index of `Series` and `DataFrame`,with a slightly difference:\n",
    "- When 2 labels are indicated, the second label is included in the selection, contrary to standard `Python` and `numpy` slicing.\n",
    "- When 2 labels are indicated, the notation works only if the index is unique."
   ]
  },
  {
   "cell_type": "markdown",
   "metadata": {},
   "source": [
    "## 3.1 Accessing to data from Series\n",
    "\n",
    "Several operators enable to access to data from Series.\n",
    "- `[]`: selection with a label or a position (if the index is not made of integers)\n",
    "    - `s[i]`: selection of a single label or position\n",
    "    - `s[[i, j, k]]`: selection of several labels or positions (also called fancy indexing)\n",
    "    - `s[i:j]`, `s[i:j:k]`: selection of a slice (`j` is included when it is a label and excluded when it is a position)\n",
    "    - `s[mask]`: selection from a boolean mask sharing the very same index than the `Series` object, `True` = selection, `False` = non selection\n",
    "- `.loc[]`: idem but reserved to labels\n",
    "- `.iloc[]`: idem but reserved to positions\n",
    "\n",
    "When the selection corresponds to a single value, it returns a scalar value.\n",
    "\n",
    "When the selection corresponds to several values, it returns a `Series` object."
   ]
  },
  {
   "cell_type": "code",
   "execution_count": null,
   "metadata": {},
   "outputs": [],
   "source": [
    "# selection of a column\n",
    "s = name2017[\"births\"]\n",
    "s"
   ]
  },
  {
   "cell_type": "markdown",
   "metadata": {},
   "source": [
    "### 3.1.1 Selection in Series by label or position"
   ]
  },
  {
   "cell_type": "code",
   "execution_count": null,
   "metadata": {},
   "outputs": [],
   "source": [
    "# selection by label\n",
    "s.loc[\"Emma\"] # or s[\"Emma\"]"
   ]
  },
  {
   "cell_type": "code",
   "execution_count": null,
   "metadata": {},
   "outputs": [],
   "source": [
    "# selection by position\n",
    "s.iloc[0] # or s[0]"
   ]
  },
  {
   "cell_type": "code",
   "execution_count": null,
   "metadata": {},
   "outputs": [],
   "source": [
    "# selection by a list of labels\n",
    "s.loc[[\"Emma\", \"Sophia\", \"Mia\"]]  # or s[[\"Emma\", \"Sophia\", \"Mia\"]]"
   ]
  },
  {
   "cell_type": "code",
   "execution_count": null,
   "metadata": {},
   "outputs": [],
   "source": [
    "# selection by a list of positions\n",
    "s.iloc[[0, 2, 5]]  # or s[[0, 2, 5]]"
   ]
  },
  {
   "cell_type": "code",
   "execution_count": null,
   "metadata": {},
   "outputs": [],
   "source": [
    "# selection by a slice of index\n",
    "# Warning label \"Mia\" is included\n",
    "s.loc[\"Emma\":\"Mia\"]  # or s[\"Emma\":\"Mia\"]"
   ]
  },
  {
   "cell_type": "code",
   "execution_count": null,
   "metadata": {},
   "outputs": [],
   "source": [
    "# selection by a slice of index\n",
    "# Warning label \"Mia\" is included\n",
    "s.loc[\"Emma\":\"Mia\":2]  # or s[\"Emma\":\"Mia\":2]"
   ]
  },
  {
   "cell_type": "code",
   "execution_count": null,
   "metadata": {},
   "outputs": [],
   "source": [
    "# selection by a slice of positions\n",
    "# Warning position 6 is excluded\n",
    "s.iloc[0:6]  # or s[0:6]"
   ]
  },
  {
   "cell_type": "code",
   "execution_count": null,
   "metadata": {},
   "outputs": [],
   "source": [
    "# selection by a slice of positions\n",
    "# Warning position 6 is excluded\n",
    "s.iloc[0:6:2]  # or s[0:6:2]"
   ]
  },
  {
   "cell_type": "markdown",
   "metadata": {},
   "source": [
    "### 3.1.2 Selection in Series with a boolean mask\n",
    "\n",
    "It is possible to perform a selection in `Series` object with a boolean mask, i.e. a boolean Series objects sharing the same index than the initial `Series`.\n",
    "\n",
    "The easiest way is to build a boolean `Series` object from the `Series` object itself.\n",
    "\n",
    "It is possible to combine boolean masks using logicial operations between boolean objects of type `Series`:\n",
    "\n",
    "- AND is `&`\n",
    "- OR is `|`\n",
    "- NOT is `~`"
   ]
  },
  {
   "cell_type": "code",
   "execution_count": null,
   "metadata": {},
   "outputs": [],
   "source": [
    "# all names\n",
    "s = df[\"name\"]\n",
    "s"
   ]
  },
  {
   "cell_type": "code",
   "execution_count": null,
   "metadata": {},
   "outputs": [],
   "source": [
    "# boolean vector according if the name starts with an \"A\"\n",
    "mask = s.str.startswith(\"A\")  #burdaki s en basta yazan ustte tanımladıgım s \n",
    "mask"
   ]
  },
  {
   "cell_type": "code",
   "execution_count": null,
   "metadata": {},
   "outputs": [],
   "source": [
    "# selection from a boolean mask\n",
    "s2 = s.loc[mask]  # or s[mask]\n",
    "s2"
   ]
  },
  {
   "cell_type": "code",
   "execution_count": null,
   "metadata": {},
   "outputs": [],
   "source": [
    "# names starting with \"Nath\"\n",
    "s.loc[s.str.startswith(\"Nath\")]"
   ]
  },
  {
   "cell_type": "markdown",
   "metadata": {},
   "source": [
    "<div class=\"alert alert-success\">\n",
    "**Exercise 5**\n",
    "<ul>\n",
    "<li>Which names start with a \"Z\"?</li>\n",
    "<li>Which names end with a \"z\"?</li>\n",
    "<li>Which names start with a \"Z\" and end with a \"z\"?</li>\n",
    "</ul>\n",
    "</div>"
   ]
  },
  {
   "cell_type": "code",
   "execution_count": null,
   "metadata": {},
   "outputs": [],
   "source": [
    "s.loc[s.str.startswith(\"Z\")]"
   ]
  },
  {
   "cell_type": "code",
   "execution_count": null,
   "metadata": {},
   "outputs": [],
   "source": [
    "# %load session2/ex_05.py"
   ]
  },
  {
   "cell_type": "code",
   "execution_count": null,
   "metadata": {
    "scrolled": true
   },
   "outputs": [],
   "source": [
    "s.loc[s.str.endswith(\"z\")]  #buyuk Z degil kucuk z olması lazım son harf oldugu icin"
   ]
  },
  {
   "cell_type": "code",
   "execution_count": null,
   "metadata": {},
   "outputs": [],
   "source": [
    "s.loc[s.str.startswith(\"Z\") & s.str.endswith(\"z\") ]"
   ]
  },
  {
   "cell_type": "code",
   "execution_count": null,
   "metadata": {},
   "outputs": [],
   "source": [
    "# names that contain 2 \"z\" separated by at least one character\n",
    "s.loc[s.str.contains(\"z.z\")].unique()   #zler ortasına . koyarsan z arada herhangi bi harf ve z olan names leri goster "
   ]
  },
  {
   "cell_type": "code",
   "execution_count": null,
   "metadata": {},
   "outputs": [],
   "source": [
    "s.loc[s.str.contains(\"zz\")].unique()"
   ]
  },
  {
   "cell_type": "markdown",
   "metadata": {},
   "source": [
    "<div class=\"alert alert-info\">\n",
    "<b>Tip</b><br />\n",
    "**Regular expressions**, or **regex**, enable to capture paterns in strings. In this kind of expressions, some characters have a special meaning to perform matching:\n",
    "<ul>\n",
    "    <li>`.`: matches any character</li>\n",
    "    <li>`^`: matches the start of the string</li>\n",
    "    <li>`$`: matches the end of the string</li>\n",
    "    <li>`*`: matches 0 or more repetitions of the preceding expression</li>\n",
    "    <li>`+`: matches 1 or more repetitions of the preceding expression</li>\n",
    "    <li>`?`: matches 0 or 1 repetition of the preceding expression</li>\n",
    "    <li>Prefix any of those special characters with a backslash `\\` so that they are considered as standard characters</li>\n",
    "</ul>\n",
    "The string method  `contains()` tackles by default with regular expressions. Use the `regex=False` option to search for literals.\n",
    "</div>"
   ]
  },
  {
   "cell_type": "code",
   "execution_count": null,
   "metadata": {},
   "outputs": [],
   "source": [
    "s.loc[s.str.contains(\"z.+z\")].unique() #z ve arada herhangi harfler olsun z'ler arasında "
   ]
  },
  {
   "cell_type": "markdown",
   "metadata": {},
   "source": [
    "<div class=\"alert alert-warning\">\n",
    "<b>Further reading</b>\n",
    "<ul>\n",
    "    <li>Regular expressions are useful when dealing with textual information.</li>\n",
    "    <li>For more information on regular expressions in Python, see: https://docs.python.org/3.6/library/re.html</li>\n",
    "</ul>\n",
    "</div>"
   ]
  },
  {
   "cell_type": "markdown",
   "metadata": {},
   "source": [
    "## 3.2 Accessing to data from DataFrame\n",
    "\n",
    "Same operators enable to access to data from `DataFrame`.\n",
    "- `[]`: selection of a column with a label or a position (if the column names are not made of integers)\n",
    "    - `df[i]`: selection of a single column by label or position\n",
    "    - `df[[i, j, k]]`: selection of several columns by labels or positions (fancy indexing)\n",
    "    - `df[i:j]`, `df[i:j:k]`: selection of a slice (`j` is included when it is a label and excluded when it is a position)\n",
    "    - `df[mask]`: selection from a boolean mask sharing the very same index than the `DataFrame` object, `True` = selection, `False` = non selection\n",
    "- `.loc[x, y]`: idem but reserved to labels, when y is not defined all columns are returned\n",
    "- `.iloc[x, y]`: idem but reserved to positions, when y is not defined all columns are returned\n",
    "\n",
    "When the selection corresponds to a single value, it returns a scalar value.\n",
    "\n",
    "When the selection corresponds to a part of column or of a row, it returns a `Series` object. When it is a subpart of a column, its index is a subpart of the index of the initial `DataFrame`. When it is a subpart of a row, its index is a subpart of the columns of the initial `DataFrame`.\n",
    "\n",
    "When the selection corresponds to several rows and several columns, it returns a `DataFrame` object, which index is is a subpart of the index of the initial `DataFrame` and the columns a subpart of the columns of the initial `DataFrame`."
   ]
  },
  {
   "cell_type": "markdown",
   "metadata": {},
   "source": [
    "### 3.2.1 Selecting columns in DataFrame\n",
    "\n",
    "When selecting a single column, we obtain a `Series` object which shares the same index than the `DataFrame`.\n",
    "\n",
    "When selecting several columns, we obtain a new `DataFrame`: subset of the original one and sharing the same index with as many rows.\n",
    "\n",
    "This last technique enables also to reorder the columns of a `DataFrame`."
   ]
  },
  {
   "cell_type": "code",
   "execution_count": null,
   "metadata": {},
   "outputs": [],
   "source": [
    "# selection of columns by labels\n",
    "df[[\"name\", \"gender\"]]"
   ]
  },
  {
   "cell_type": "markdown",
   "metadata": {},
   "source": [
    "**With the `.loc[]` operator**\n",
    "- the first argument selects rows; to select all rows one can put a column `:`\n",
    "- the second argument selects columns (optionnal)"
   ]
  },
  {
   "cell_type": "code",
   "execution_count": null,
   "metadata": {},
   "outputs": [],
   "source": [
    "# selection of columns by labels using .loc\n",
    "# the : alone stands for all rows from start to end\n",
    "df.loc[:, [\"name\", \"gender\"]]"
   ]
  },
  {
   "cell_type": "markdown",
   "metadata": {},
   "source": [
    "**With the `.iloc[]` operator**\n",
    "- the first argument selects rows; to select all rows one can put a column `:`\n",
    "- the second argument selects columns (optionnal)"
   ]
  },
  {
   "cell_type": "code",
   "execution_count": null,
   "metadata": {},
   "outputs": [],
   "source": [
    "# selection of columns by slice of positions using .iloc\n",
    "# the : alone stands for all rows from start to end\n",
    "df.iloc[:, 1:3]"
   ]
  },
  {
   "cell_type": "markdown",
   "metadata": {},
   "source": [
    "### 3.2.2 Selecting rows in DataFrame\n",
    "\n",
    "When selecting a single row, we obtain a `Series` object which index corresponds to the columns of the `DataFrame`.\n",
    "\n",
    "When selecting several rows, we obtain a new `DataFrame`: subset of the original one and sharing the index with as many columns.\n",
    "\n",
    "**With the `.loc[]` operator**"
   ]
  },
  {
   "cell_type": "code",
   "execution_count": null,
   "metadata": {},
   "outputs": [],
   "source": [
    "# selection of a row\n",
    "row = name2017.loc[\"Emma\"] # or name2017.loc[\"Emma\", :]\n",
    "row"
   ]
  },
  {
   "cell_type": "code",
   "execution_count": null,
   "metadata": {},
   "outputs": [],
   "source": [
    "# row is indeed a Series object\n",
    "type(row)"
   ]
  },
  {
   "cell_type": "markdown",
   "metadata": {},
   "source": [
    "## test equality of DataFrame columns and row index\n",
    "(name2017.columns == row.index).all()"
   ]
  },
  {
   "cell_type": "code",
   "execution_count": null,
   "metadata": {},
   "outputs": [],
   "source": [
    "# selection of several rows\n",
    "name2017.loc[\"Olivia\":\"Isabella\"]  # or name2017.loc[\"Olivia\":\"Isabella\", :]"
   ]
  },
  {
   "cell_type": "markdown",
   "metadata": {},
   "source": [
    "**With the `.iloc[]` operator**"
   ]
  },
  {
   "cell_type": "code",
   "execution_count": null,
   "metadata": {},
   "outputs": [],
   "source": [
    "# selection of the last row\n",
    "row = df.iloc[-1] # or name2017.iloc[-1, :]\n",
    "row"
   ]
  },
  {
   "cell_type": "markdown",
   "metadata": {},
   "source": [
    "### 3.2.3 Selecting rows and columns in DataFrame\n",
    "\n",
    "When selecting a single row, we obtain a `Series` object which index is a subset of the columns of the `DataFrame` object.\n",
    "\n",
    "When selecting several rows, we obtain a new `DataFrame`: subset of the original one.\n",
    "\n",
    "**With the `.loc[]` operator**"
   ]
  },
  {
   "cell_type": "code",
   "execution_count": null,
   "metadata": {},
   "outputs": [],
   "source": [
    "# selection of a single row and several columns\n",
    "name2017.loc[\"Olivia\", \"gender\":\"births\"]"
   ]
  },
  {
   "cell_type": "code",
   "execution_count": null,
   "metadata": {},
   "outputs": [],
   "source": [
    "# selection of several rows and columns\n",
    "name2017.loc[\"Olivia\":\"Isabella\", \"gender\":\"births\"]"
   ]
  },
  {
   "cell_type": "markdown",
   "metadata": {},
   "source": [
    "**With the `.iloc[]` operator**"
   ]
  },
  {
   "cell_type": "code",
   "execution_count": null,
   "metadata": {},
   "outputs": [],
   "source": [
    "# selection of several rows and columns\n",
    "df.iloc[[0, -1], 1:3]"
   ]
  },
  {
   "cell_type": "markdown",
   "metadata": {},
   "source": [
    "**Selection when the index is not unique**"
   ]
  },
  {
   "cell_type": "code",
   "execution_count": null,
   "metadata": {},
   "outputs": [],
   "source": [
    "name = df.set_index(\"name\")\n",
    "name"
   ]
  },
  {
   "cell_type": "code",
   "execution_count": null,
   "metadata": {},
   "outputs": [],
   "source": [
    "# selection of a single index\n",
    "name.loc[\"Emma\"]"
   ]
  },
  {
   "cell_type": "code",
   "execution_count": null,
   "metadata": {},
   "outputs": [],
   "source": [
    "# selection of a several index\n",
    "# multiple selection when the index is not unique does not work\n",
    "# name.loc[\"Emma\":\"Mia\"]"
   ]
  },
  {
   "cell_type": "markdown",
   "metadata": {},
   "source": [
    "### 3.2.4 Selection in DataFrame with a boolean mask\n",
    "\n",
    "It is possible to select in `DataFrame` object with a boolean mask sharing the same index than the `DataFrame`.\n",
    "\n",
    "The easiest way is to build a boolean `Series` object from one or several columns of the initial `DataFrame` object.\n",
    "\n",
    "It is possible to combine boolean masks using logicial operations between boolean objects of type `Series`:\n",
    "\n",
    "- AND is `&`\n",
    "- OR is `|`\n",
    "- NOT is `~`"
   ]
  },
  {
   "cell_type": "code",
   "execution_count": null,
   "metadata": {},
   "outputs": [],
   "source": [
    "# selection with name equals Emma\n",
    "mask = (df[\"name\"] == \"Emma\")\n",
    "mask"
   ]
  },
  {
   "cell_type": "code",
   "execution_count": null,
   "metadata": {},
   "outputs": [],
   "source": [
    "# selection with name equals Emma\n",
    "df.loc[mask]"
   ]
  },
  {
   "cell_type": "code",
   "execution_count": null,
   "metadata": {},
   "outputs": [],
   "source": [
    "# names used at least 1000 times in a year\n",
    "df.loc[df[\"births\"] >= 1000]"
   ]
  },
  {
   "cell_type": "code",
   "execution_count": null,
   "metadata": {},
   "outputs": [],
   "source": [
    "# female names used at least 1000 times in a year\n",
    "df.loc[(df[\"gender\"] == \"F\") & (df[\"births\"] >= 1000)]"
   ]
  },
  {
   "cell_type": "markdown",
   "metadata": {},
   "source": [
    "<div class=\"alert alert-success\">\n",
    "**Exercise 6**\n",
    "<ul>\n",
    "    <li>Print years, names and births of all names with only 2 letters.</li>\n",
    "    <li>How many names do we have?</li>\n",
    "    <li>Give the list of such names in alphabetical order.</li>\n",
    "    <li>How many births of persons with names with only 2 letters?</li>\n",
    "    <li>How many years where the number of births for a name is exactly 1000?</li>\n",
    "    <li>Are there any years for which the number of births for a name is equal to the year?.</li>\n",
    "    <li>Give the list of such names in alphabetical order.</li>\n",
    "</ul>\n",
    "</div>"
   ]
  },
  {
   "cell_type": "code",
   "execution_count": null,
   "metadata": {},
   "outputs": [],
   "source": [
    "# %load session2/ex_06.py"
   ]
  },
  {
   "cell_type": "markdown",
   "metadata": {},
   "source": [
    "## 3.3 Testing data\n",
    "\n",
    "The SSA web site explains:\n",
    "- To safeguard privacy, we restrict our list of names to those with at least 5 occurrences.\n",
    "- Name is 2 to 15 characters\n",
    "\n",
    "We will check these points."
   ]
  },
  {
   "cell_type": "markdown",
   "metadata": {},
   "source": [
    "<div class=\"alert alert-success\">\n",
    "**Exercise 7**\n",
    "<ul>\n",
    "    <li>Check that all births are at least 5</li>\n",
    "    <li>Check that all names have betwen 2 and 15 characters</li>\n",
    "</ul>\n",
    "</div>"
   ]
  },
  {
   "cell_type": "code",
   "execution_count": null,
   "metadata": {},
   "outputs": [],
   "source": [
    "# %load session2/ex_07.py"
   ]
  },
  {
   "cell_type": "markdown",
   "metadata": {},
   "source": [
    "## Summary\n",
    "\n",
    "The `pandas` module is an open source library providing high-performance, easy-to-use data structures and data analysis tools for the Python programming language.\n",
    "\n",
    "It introduces 1-dimensional `Series` objects and 2-dimentional `DataFrame` objects to manipulate data.\n",
    "\n",
    "`Series` objects offer dictionary-like along the index and vector-like accessing to data. They might contains booleans, numbers, time objects and strings and provide appropriate operators according to their type of data.\n",
    "\n",
    "`DataFrame` objects offer dictionary-like along the index and the columns and also matrix-like accessing to data.\n",
    "\n",
    "The `.loc[]` operator enables to select data using labels or boolean operations.\n",
    "\n",
    "The `.iloc[]` operator enables to select data using positions."
   ]
  }
 ],
 "metadata": {
  "kernelspec": {
   "display_name": "Python 3",
   "language": "python",
   "name": "python3"
  },
  "language_info": {
   "codemirror_mode": {
    "name": "ipython",
    "version": 3
   },
   "file_extension": ".py",
   "mimetype": "text/x-python",
   "name": "python",
   "nbconvert_exporter": "python",
   "pygments_lexer": "ipython3",
   "version": "3.6.5"
  }
 },
 "nbformat": 4,
 "nbformat_minor": 2
}
