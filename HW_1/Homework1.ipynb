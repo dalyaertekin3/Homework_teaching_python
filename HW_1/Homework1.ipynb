{
 "cells": [
  {
   "cell_type": "markdown",
   "metadata": {},
   "source": [
    "1) Create a function which given 2 booleans computes the exclusive OR (should return True if one boolean is True and the other boolean is False; and False if\n",
    "both booleans are True or both booleans are False). Example: given True and False, should returns True.\n"
   ]
  },
  {
   "cell_type": "code",
   "execution_count": 205,
   "metadata": {},
   "outputs": [],
   "source": [
    "def exercice_01(bool1, bool2):\n",
    "    print(not bool1 and bool2 or not bool2)"
   ]
  },
  {
   "cell_type": "code",
   "execution_count": 209,
   "metadata": {},
   "outputs": [
    {
     "name": "stdout",
     "output_type": "stream",
     "text": [
      "True\n"
     ]
    }
   ],
   "source": [
    "exercice_01(False, False)"
   ]
  },
  {
   "cell_type": "code",
   "execution_count": null,
   "metadata": {},
   "outputs": [],
   "source": [
    "TT = False\n",
    "TF = True\n",
    "FT = True\n",
    "FF = True"
   ]
  },
  {
   "cell_type": "code",
   "execution_count": 210,
   "metadata": {},
   "outputs": [
    {
     "name": "stdout",
     "output_type": "stream",
     "text": [
      "False False True True\n"
     ]
    }
   ],
   "source": [
    "a = False\n",
    "b = False\n",
    "print(a and b, a or b, not a, not b)"
   ]
  },
  {
   "cell_type": "markdown",
   "metadata": {},
   "source": [
    "2) Create a function which given hours, minutes and seconds computes the total number of seconds. Example: given 1 hour, 1 minute and 1 second, should\n",
    "returns 3661\n"
   ]
  },
  {
   "cell_type": "code",
   "execution_count": 211,
   "metadata": {},
   "outputs": [],
   "source": [
    "def exercice_02(hours, minutes, seconds):\n",
    "    results = hours *60*60 + minutes*60 + seconds\n",
    "    return results"
   ]
  },
  {
   "cell_type": "code",
   "execution_count": 214,
   "metadata": {},
   "outputs": [
    {
     "data": {
      "text/plain": [
       "3661"
      ]
     },
     "execution_count": 214,
     "metadata": {},
     "output_type": "execute_result"
    }
   ],
   "source": [
    "exercice_02(hours = 1, minutes = 1, seconds= 1)"
   ]
  },
  {
   "cell_type": "markdown",
   "metadata": {},
   "source": [
    "3) Create a function which given an integer, compute the sum of all integers between this integer and its double included. Example: given 3, should returns 18\n",
    "(3 + 4+5 + 6).\n"
   ]
  },
  {
   "cell_type": "code",
   "execution_count": 242,
   "metadata": {},
   "outputs": [],
   "source": [
    "def exercice_03(integer, formula = 1):\n",
    "    ### (B + A)(B - A + 1)/2\n",
    "    ### Or Euler\n",
    "    ### (n(n+1)/2)*3\n",
    "    if formula == 1:\n",
    "        result = (integer*2 + integer)*(integer*2 - integer + 1)/2\n",
    "    else:\n",
    "        result = ((integer**2 + integer)/2)*3\n",
    "    return result"
   ]
  },
  {
   "cell_type": "code",
   "execution_count": 247,
   "metadata": {},
   "outputs": [
    {
     "data": {
      "text/plain": [
       "63.0"
      ]
     },
     "execution_count": 247,
     "metadata": {},
     "output_type": "execute_result"
    }
   ],
   "source": [
    "exercice_03(integer = 6, formula =1)"
   ]
  },
  {
   "cell_type": "markdown",
   "metadata": {},
   "source": [
    "4) Create a function which given a string produces a 2 characters string with the first character of the initial string and the last one. If the initial string is empty, it\n",
    "should return an empty string. Example: given ‘Python’, should returns ‘Pn\n"
   ]
  },
  {
   "cell_type": "code",
   "execution_count": 255,
   "metadata": {},
   "outputs": [],
   "source": [
    "def exercice_04(string):\n",
    "    result = string[0] + string[-1]\n",
    "    return result"
   ]
  },
  {
   "cell_type": "code",
   "execution_count": 258,
   "metadata": {},
   "outputs": [
    {
     "data": {
      "text/plain": [
       "'Ho'"
      ]
     },
     "execution_count": 258,
     "metadata": {},
     "output_type": "execute_result"
    }
   ],
   "source": [
    "exercice_04(string = 'Hello')"
   ]
  },
  {
   "attachments": {},
   "cell_type": "markdown",
   "metadata": {},
   "source": [
    "5) Create a function which given a string returns the sentence: The reverse of X is Y.’ where X is the initial string and Y is the reverse of the initial string\n",
    "Example: given . Paris, should returns The reverse of Paris is siraP\n"
   ]
  },
  {
   "cell_type": "code",
   "execution_count": 259,
   "metadata": {},
   "outputs": [],
   "source": [
    "def exercice_05(string):\n",
    "    result = string[::-1]\n",
    "    return result"
   ]
  },
  {
   "cell_type": "code",
   "execution_count": 261,
   "metadata": {},
   "outputs": [
    {
     "data": {
      "text/plain": [
       "'olleH'"
      ]
     },
     "execution_count": 261,
     "metadata": {},
     "output_type": "execute_result"
    }
   ],
   "source": [
    "exercice_05(string = 'Hello')"
   ]
  },
  {
   "cell_type": "markdown",
   "metadata": {},
   "source": [
    "6) Create a function which given a string returns True if the letters of the string are unique and False otherwise. Example: given Python, should return True; and\n",
    "given ‘alphabet’, should returns False.\n"
   ]
  },
  {
   "cell_type": "code",
   "execution_count": 272,
   "metadata": {},
   "outputs": [],
   "source": [
    "def exercice_06(string):\n",
    "    ##Find the unique characters in the string\n",
    "    # set(iterable) iterates over the parameter to make a set.\n",
    "    result = len(string) == len(set(string))\n",
    "    return result"
   ]
  },
  {
   "cell_type": "code",
   "execution_count": 266,
   "metadata": {},
   "outputs": [
    {
     "data": {
      "text/plain": [
       "False"
      ]
     },
     "execution_count": 266,
     "metadata": {},
     "output_type": "execute_result"
    }
   ],
   "source": [
    "exercice_06(string = 'alphabet')"
   ]
  },
  {
   "cell_type": "markdown",
   "metadata": {},
   "source": [
    "7) Create a function which given a string returns True if the string is a palindrome (e.g., a word which has the property of reading the same forwards as it does\n",
    "backwards) and False otherwise. Example, given ‘rotator’, should returns True; and given ‘alphabet’, should returns False.\n"
   ]
  },
  {
   "cell_type": "code",
   "execution_count": 273,
   "metadata": {},
   "outputs": [],
   "source": [
    "def exercice_07(string):\n",
    "    result = string[::-1] == string\n",
    "    return result"
   ]
  },
  {
   "cell_type": "code",
   "execution_count": 276,
   "metadata": {},
   "outputs": [
    {
     "data": {
      "text/plain": [
       "True"
      ]
     },
     "execution_count": 276,
     "metadata": {},
     "output_type": "execute_result"
    }
   ],
   "source": [
    "exercice_07(string = 'rotator')"
   ]
  },
  {
   "cell_type": "code",
   "execution_count": 295,
   "metadata": {},
   "outputs": [],
   "source": [
    "import numpy as np\n",
    "def exercice_08(number_1, number_2, number_3):\n",
    "    a = np.median([number_1, number_2, number_3])\n",
    "    return a"
   ]
  },
  {
   "cell_type": "code",
   "execution_count": 301,
   "metadata": {},
   "outputs": [
    {
     "data": {
      "text/plain": [
       "2.0"
      ]
     },
     "execution_count": 301,
     "metadata": {},
     "output_type": "execute_result"
    }
   ],
   "source": [
    "exercice_08(number_1 = 20, number_2 = 2, number_3 = 1)"
   ]
  },
  {
   "attachments": {},
   "cell_type": "markdown",
   "metadata": {},
   "source": [
    "9) Create a function which given a list of strings produces a string with the first character of each non empty string of the list. Example: given [‘Hi’, ‘elephants’,\n",
    "“, ‘like’, ‘lazy’, ‘olives’], should returns ‘Hello’\n"
   ]
  },
  {
   "cell_type": "code",
   "execution_count": 302,
   "metadata": {},
   "outputs": [],
   "source": [
    "def exercice_09(list_of_string):\n",
    "    result = [x[0] for x in list_of_string])\n",
    "    return result"
   ]
  },
  {
   "cell_type": "code",
   "execution_count": 306,
   "metadata": {},
   "outputs": [
    {
     "name": "stdout",
     "output_type": "stream",
     "text": [
      "['H', 'e', 'l', 'l', 'o']\n"
     ]
    }
   ],
   "source": [
    "exercice_09(list_of_string = ['Hi', 'elephants', 'like', 'lazy', 'olives'])\n",
    "\n",
    "\n"
   ]
  },
  {
   "attachments": {},
   "cell_type": "markdown",
   "metadata": {},
   "source": [
    "10) Create a function which given a list of words returns the longest. Example: given [‘Hi’, ‘elephants’, “, ‘like’, ‘lazy’, ‘olives’], should returns ‘elephants’\n"
   ]
  },
  {
   "cell_type": "code",
   "execution_count": 316,
   "metadata": {},
   "outputs": [],
   "source": [
    "def exercice_10(list_of_string):\n",
    "    result =  max(list_of_string, key=lambda s: (len(s), s))\n",
    "    return result"
   ]
  },
  {
   "cell_type": "code",
   "execution_count": 317,
   "metadata": {},
   "outputs": [
    {
     "data": {
      "text/plain": [
       "'elephants'"
      ]
     },
     "execution_count": 317,
     "metadata": {},
     "output_type": "execute_result"
    }
   ],
   "source": [
    "exercice_10(list_of_string = ['Hi', 'elephants', 'like', 'lazy', 'olives'])"
   ]
  }
 ],
 "metadata": {
  "kernelspec": {
   "display_name": "Python 3",
   "language": "python",
   "name": "python3"
  },
  "language_info": {
   "codemirror_mode": {
    "name": "ipython",
    "version": 3
   },
   "file_extension": ".py",
   "mimetype": "text/x-python",
   "name": "python",
   "nbconvert_exporter": "python",
   "pygments_lexer": "ipython3",
   "version": "3.6.5"
  }
 },
 "nbformat": 4,
 "nbformat_minor": 2
}
